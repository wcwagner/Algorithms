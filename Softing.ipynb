{
 "cells": [
  {
   "cell_type": "code",
   "execution_count": 1,
   "metadata": {
    "collapsed": false
   },
   "outputs": [],
   "source": [
    "import math\n",
    "def merge_sort(A):\n",
    "    if len(A) > 1:\n",
    "        midpoint = math.floor(len(A) / 2)\n",
    "        L = A[:midpoint]\n",
    "        R = A[midpoint:]\n",
    "        \n",
    "        merge_sort(L)\n",
    "        merge_sort(R)\n",
    "        \n",
    "        i = 0; j = 0; k = 0;\n",
    "        while i < len(L) and j < len(R):\n",
    "            if L[i] < R[j]:\n",
    "                A[k] = L[i]\n",
    "                i += 1\n",
    "            else: \n",
    "                A[k] = R[j]\n",
    "                j += 1\n",
    "            k += 1\n",
    "        while i < len(L):\n",
    "            A[k] = L[i]\n",
    "            i += 1; k += 1\n",
    "        while j < len(R):\n",
    "            A[k] = R[j]\n",
    "            j += 1; k+= 1\n",
    "        "
   ]
  },
  {
   "cell_type": "code",
   "execution_count": 2,
   "metadata": {
    "collapsed": false
   },
   "outputs": [],
   "source": [
    "A = [i for i in range(10, -1, -1)]\n",
    "merge_sort(A)"
   ]
  },
  {
   "cell_type": "code",
   "execution_count": 11,
   "metadata": {
    "collapsed": false
   },
   "outputs": [],
   "source": [
    "def quick_sort(A):\n",
    "    qsort_helper(A, 0, len(A) - 1)\n",
    "def qsort_helper(A, p, r):\n",
    "    if p < r:\n",
    "        q = partition(A, p, r)\n",
    "        qsort_helper(A, p, q-1)\n",
    "        qsort_helper(A, q + 1, r)\n",
    "def partition(A, first, last):\n",
    "    pivot = A[first]\n",
    "    left = first + 1\n",
    "    right = last\n",
    "    done = False\n",
    "    while not done:\n",
    "        while left <= right and A[left] <= pivot:\n",
    "            left += 1\n",
    "        while  right >= left and A[right] >= pivot:\n",
    "            right -= 1\n",
    "        if right < left:\n",
    "            done = True\n",
    "        else:\n",
    "            A[left], A[right] = A[right], A[left]\n",
    "    A[first], A[right] = A[right], A[first]\n",
    "    return right"
   ]
  },
  {
   "cell_type": "code",
   "execution_count": 12,
   "metadata": {
    "collapsed": false
   },
   "outputs": [
    {
     "data": {
      "text/plain": [
       "[0, 1, 3, 4, 4, 7, 8, 8, 9, 10]"
      ]
     },
     "execution_count": 12,
     "metadata": {},
     "output_type": "execute_result"
    }
   ],
   "source": [
    "import random\n",
    "A = [random.randint(0,10) for _ in range(10)]\n",
    "quick_sort(A)\n",
    "A"
   ]
  },
  {
   "cell_type": "code",
   "execution_count": 17,
   "metadata": {
    "collapsed": true
   },
   "outputs": [],
   "source": [
    "def counting_sort(A):\n",
    "    k = max(A)\n",
    "    counter = [0] * (k+1)\n",
    "    for num in A:\n",
    "        counter[num] += 1\n",
    "    ix = 0; ret = []\n",
    "    for i in range(len(counter)):\n",
    "        while counter[i] > 0:\n",
    "            A[ix] = i\n",
    "            counter[i] -= 1\n",
    "            ix += 1\n",
    "    return A"
   ]
  },
  {
   "cell_type": "code",
   "execution_count": 20,
   "metadata": {
    "collapsed": false
   },
   "outputs": [
    {
     "data": {
      "text/plain": [
       "[0, 0, 1, 1, 3, 5, 5, 7, 8, 8]"
      ]
     },
     "execution_count": 20,
     "metadata": {},
     "output_type": "execute_result"
    }
   ],
   "source": [
    "A = [random.randint(0,10) for _ in range(10)]\n",
    "counting_sort(A)"
   ]
  }
 ],
 "metadata": {
  "kernelspec": {
   "display_name": "Python [py3k]",
   "language": "python",
   "name": "Python [py3k]"
  },
  "language_info": {
   "codemirror_mode": {
    "name": "ipython",
    "version": 3
   },
   "file_extension": ".py",
   "mimetype": "text/x-python",
   "name": "python",
   "nbconvert_exporter": "python",
   "pygments_lexer": "ipython3",
   "version": "3.5.2"
  }
 },
 "nbformat": 4,
 "nbformat_minor": 0
}

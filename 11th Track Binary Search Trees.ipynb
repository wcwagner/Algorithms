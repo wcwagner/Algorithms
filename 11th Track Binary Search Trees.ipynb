{
 "cells": [
  {
   "cell_type": "markdown",
   "metadata": {},
   "source": [
    "# Elements Of Programming Interviews\n",
    "## Binary Search Trees\n",
    "### 15.1, 15.3, 15.4, 15.5, 15.6, 15.8,  15.9, 15.10, 15.11"
   ]
  },
  {
   "cell_type": "code",
   "execution_count": 1,
   "metadata": {
    "collapsed": true
   },
   "outputs": [],
   "source": [
    "import os\n",
    "os.chdir(\"/home/william/Python/Algorithms/Data Structures\")\n",
    "from bst import BinarySearchTree"
   ]
  },
  {
   "cell_type": "markdown",
   "metadata": {},
   "source": [
    "### 15.1 - Test If A Binary Tree Satisfies The BST Property\n",
    "Write a program that takes as input a binary tree and checks if the tree satisfies the BST property."
   ]
  },
  {
   "cell_type": "code",
   "execution_count": 7,
   "metadata": {
    "collapsed": false
   },
   "outputs": [],
   "source": [
    "def is_key_in_range(node, low, high):\n",
    "    if node is None:\n",
    "        return True\n",
    "    elif node.key < low or node.key > high:\n",
    "        return False\n",
    "    else:\n",
    "        return (is_key_in_range(node.left, low, node.val) and\n",
    "                is_key_in_range(node.right, node.val, high))\n",
    "\n",
    "def check_BST_property(tree):\n",
    "    import math\n",
    "    return is_key_in_range(tree, -math.inf, math.inf )"
   ]
  },
  {
   "cell_type": "code",
   "execution_count": 4,
   "metadata": {
    "collapsed": false
   },
   "outputs": [],
   "source": [
    "b = BinarySearchTree()\n",
    "b.put(5, 5) #root is 5\n",
    "for i in [1, 2, 3, 4, 6, 7, 8]:\n",
    "    b.put(i, i)"
   ]
  },
  {
   "cell_type": "code",
   "execution_count": 7,
   "metadata": {
    "collapsed": false
   },
   "outputs": [
    {
     "data": {
      "text/plain": [
       "['__class__',\n",
       " '__contains__',\n",
       " '__delattr__',\n",
       " '__delitem__',\n",
       " '__dict__',\n",
       " '__dir__',\n",
       " '__doc__',\n",
       " '__eq__',\n",
       " '__format__',\n",
       " '__ge__',\n",
       " '__getattribute__',\n",
       " '__getitem__',\n",
       " '__gt__',\n",
       " '__hash__',\n",
       " '__init__',\n",
       " '__le__',\n",
       " '__len__',\n",
       " '__lt__',\n",
       " '__module__',\n",
       " '__ne__',\n",
       " '__new__',\n",
       " '__reduce__',\n",
       " '__reduce_ex__',\n",
       " '__repr__',\n",
       " '__setattr__',\n",
       " '__setitem__',\n",
       " '__sizeof__',\n",
       " '__str__',\n",
       " '__subclasshook__',\n",
       " '__weakref__',\n",
       " '_get',\n",
       " '_put',\n",
       " 'delete',\n",
       " 'findMin',\n",
       " 'findSuccessor',\n",
       " 'get',\n",
       " 'length',\n",
       " 'put',\n",
       " 'remove',\n",
       " 'root',\n",
       " 'size',\n",
       " 'spliceOut']"
      ]
     },
     "execution_count": 7,
     "metadata": {},
     "output_type": "execute_result"
    }
   ],
   "source": [
    "dir(b)"
   ]
  }
 ],
 "metadata": {
  "anaconda-cloud": {},
  "kernelspec": {
   "display_name": "Python [Root]",
   "language": "python",
   "name": "Python [Root]"
  },
  "language_info": {
   "codemirror_mode": {
    "name": "ipython",
    "version": 3
   },
   "file_extension": ".py",
   "mimetype": "text/x-python",
   "name": "python",
   "nbconvert_exporter": "python",
   "pygments_lexer": "ipython3",
   "version": "3.5.2"
  }
 },
 "nbformat": 4,
 "nbformat_minor": 0
}

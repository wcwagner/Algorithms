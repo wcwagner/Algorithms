{
 "cells": [
  {
   "cell_type": "markdown",
   "metadata": {},
   "source": [
    "# Elements of Programming Interviews\n",
    "## Binary Trees\n",
    "### Track 6: 10.1, 10.2, 10.4, 10.8, 10.10, 10.11, 10.14"
   ]
  },
  {
   "cell_type": "markdown",
   "metadata": {},
   "source": [
    "### 10.1 - Test If a Binary Tree Is Balanced\n",
    ">A binary tree is said to be balanced if for each node in the tree, the difference in the height of it's left and right subtrees is at most one. A perfect binary tree is balanced, as is a complete binary tree.\n",
    "<img src='Images/balanced_tree.png'>"
   ]
  },
  {
   "cell_type": "code",
   "execution_count": 1,
   "metadata": {
    "collapsed": false
   },
   "outputs": [],
   "source": [
    "class BT(object):\n",
    "    def __init__(self, data, left=None, right=None):\n",
    "        self.data = data\n",
    "        self.left = left\n",
    "        self.right = right\n",
    "balanced_tree = BT(314, BT(6, BT(271, BT(28), BT(0)), BT(561, right=BT(3, BT(17)))), BT(6, BT(2, right=BT(1, BT(401,right=BT(641)), BT(257))), BT(271, right=BT(28))))\n",
    "unbalanced_tree = BT(1, BT(2, BT(3, BT(4))), BT(5))\n",
    "#Unbalanced Tree\n",
    "#        1\n",
    "#       2 5\n",
    "#      3\n",
    "#     4"
   ]
  },
  {
   "cell_type": "code",
   "execution_count": 2,
   "metadata": {
    "collapsed": false
   },
   "outputs": [
    {
     "name": "stdout",
     "output_type": "stream",
     "text": [
      "4 3 2 5 1\n"
     ]
    }
   ],
   "source": [
    "def post_order(node):\n",
    "    if node is not None:\n",
    "        post_order(node.left)\n",
    "        post_order(node.right)\n",
    "        print node.data,\n",
    "    return\n",
    "post_order(unbalanced_tree)"
   ]
  },
  {
   "cell_type": "code",
   "execution_count": 3,
   "metadata": {
    "collapsed": true
   },
   "outputs": [],
   "source": [
    "def height(node):\n",
    "    if node is None:\n",
    "        return -1\n",
    "    return max(height(node.left), height(node.right)) + 1"
   ]
  },
  {
   "cell_type": "code",
   "execution_count": 4,
   "metadata": {
    "collapsed": false
   },
   "outputs": [],
   "source": [
    "def is_balanced(root):\n",
    "    height_diff = abs(height(root.left) - height(root.right))\n",
    "    return height_diff <= 1"
   ]
  },
  {
   "cell_type": "code",
   "execution_count": 5,
   "metadata": {
    "collapsed": false
   },
   "outputs": [
    {
     "data": {
      "text/plain": [
       "(False, True)"
      ]
     },
     "execution_count": 5,
     "metadata": {},
     "output_type": "execute_result"
    }
   ],
   "source": [
    "is_balanced(unbalanced_tree), is_balanced(balanced_tree)"
   ]
  },
  {
   "cell_type": "markdown",
   "metadata": {},
   "source": [
    "### 10.2 - Check If a Binary Tree Is Symetric\n",
    ">A binary tree is symetric if you can draw a vertical line throught the root and then the left subtree is the mirror image of the right subtree. The node values must be equal as well.\n",
    ">>                   *\n",
    "              *      *\n",
    "            *   *  *   *"
   ]
  },
  {
   "cell_type": "code",
   "execution_count": 6,
   "metadata": {
    "collapsed": false
   },
   "outputs": [],
   "source": [
    "def is_symetric(root):\n",
    "    return root is None or check_symetry(root.left, root.right)\n",
    "    \n",
    "def check_symetry(lnode, rnode):\n",
    "    if lnode is None and rnode is None:\n",
    "        return True\n",
    "    else:\n",
    "        if lnode is not None and rnode is not None:\n",
    "            return (lnode.data == rnode.data and\n",
    "                    check_symetry(lnode.left, rnode.right) and\n",
    "                    check_symetry(lnode.right, rnode.left))\n",
    "    return False"
   ]
  },
  {
   "cell_type": "code",
   "execution_count": 7,
   "metadata": {
    "collapsed": false
   },
   "outputs": [
    {
     "data": {
      "text/plain": [
       "(True, True, False)"
      ]
     },
     "execution_count": 7,
     "metadata": {},
     "output_type": "execute_result"
    }
   ],
   "source": [
    "symetric_tree = BT(1, BT(2, BT(3, BT(4), BT(5))), BT(2,left=None, right=BT(3, BT(5), BT(4))))\n",
    "#           1\n",
    "#          2 2\n",
    "#        3     3\n",
    "#      4  5  4  5\n",
    "asymetric_tree = unbalanced_tree\n",
    "\n",
    "(is_symetric(symetric_tree), is_symetric(None), is_symetric(asymetric_tree))"
   ]
  },
  {
   "cell_type": "code",
   "execution_count": 8,
   "metadata": {
    "collapsed": false
   },
   "outputs": [
    {
     "data": {
      "text/plain": [
       "True"
      ]
     },
     "execution_count": 8,
     "metadata": {},
     "output_type": "execute_result"
    }
   ],
   "source": [
    "def recursion_test(n):\n",
    "    if n == 1:\n",
    "        return False\n",
    "    elif n > 1:\n",
    "        recursion_test(n-1)\n",
    "        return True\n",
    "recursion_test(15)"
   ]
  },
  {
   "cell_type": "markdown",
   "metadata": {},
   "source": [
    "### 10.3 - Compute the Lowest Common Ancestor Between Two Nodes **NO PARENT ATTR**\n",
    ">Given two nodes in a binary tree, design an algorith, that computes their LCA. Any two nodes in a binary tree have a cmmon ancestor, namely the root. the LCA of any two nodes in a binary tree is the node furthest from the root that is an ancestor of both nodes. \n",
    "\n",
    "<img src='Images/lca.png' height='450' width='450'>"
   ]
  },
  {
   "cell_type": "markdown",
   "metadata": {
    "collapsed": true
   },
   "source": [
    "First Approach: \n",
    "* Get the unique path from each node to the root in the form of a python set. \n",
    "    * Can be done with a BFS\n",
    "* Then take the intersection of both sets, wherein the last element will be the LCA."
   ]
  },
  {
   "cell_type": "code",
   "execution_count": 9,
   "metadata": {
    "collapsed": false
   },
   "outputs": [],
   "source": [
    "import os\n",
    "os.chdir('/home/william/Python/Algorithms/Data Structures')\n",
    "from stack import Stack"
   ]
  },
  {
   "cell_type": "code",
   "execution_count": 10,
   "metadata": {
    "collapsed": false
   },
   "outputs": [],
   "source": [
    "def get_path_from_root(root, search_node):\n",
    "    if root is None or search_node is None:\n",
    "        return None\n",
    "    S = Stack()\n",
    "    S.push(root)\n",
    "    visited = []\n",
    "    while not S.empty():\n",
    "        curr = S.top()\n",
    "        if curr == search_node:\n",
    "            break\n",
    "            \n",
    "        if curr.left is not None and curr.left not in visited:\n",
    "            S.push(curr.left)\n",
    "            visited.append(curr.left)\n",
    "        elif curr.right is not None and curr.right not in visited:\n",
    "            S.push(curr.right)\n",
    "            visited.append(curr.right)\n",
    "        else:\n",
    "            S.pop()\n",
    "    path = []\n",
    "    while not S.empty():\n",
    "        path.append(S.top())\n",
    "        S.pop()\n",
    "    return path[::-1]\n",
    "\n",
    "def get_lca(root, node1, node2):\n",
    "    node1_path = set(get_path_from_root(root, node1))\n",
    "    node2_path = set(get_path_from_root(root, node2))\n",
    "    common_nodes = node1_path.intersection(node2_path)\n",
    "    return list(common_nodes)[-1]"
   ]
  },
  {
   "cell_type": "code",
   "execution_count": 11,
   "metadata": {
    "collapsed": false
   },
   "outputs": [
    {
     "data": {
      "text/plain": [
       "1"
      ]
     },
     "execution_count": 11,
     "metadata": {},
     "output_type": "execute_result"
    }
   ],
   "source": [
    "tree = symetric_tree\n",
    "#           1\n",
    "#          2 2\n",
    "#        3     3\n",
    "#      4  5  4  5\n",
    "node1 = tree.left.left.right\n",
    "node2 = tree.right\n",
    "#common node is root -- 1\n",
    "get_lca(tree, node1, node2).data"
   ]
  },
  {
   "cell_type": "code",
   "execution_count": 12,
   "metadata": {
    "collapsed": false
   },
   "outputs": [
    {
     "data": {
      "text/plain": [
       "3"
      ]
     },
     "execution_count": 12,
     "metadata": {},
     "output_type": "execute_result"
    }
   ],
   "source": [
    "node1 = tree.right.right.left\n",
    "node2 = tree.right.right.right\n",
    "get_lca(tree, node1, node2).data"
   ]
  },
  {
   "cell_type": "markdown",
   "metadata": {},
   "source": [
    "A *possible* optimization could be to do a traversal of the entire left subtree, and see if both nodes are in that tree. \n",
    "* If both nodes are in that left tree, then find the paths of both and then find their common last node -- the LCA.\n",
    "* If only one node was found in the left subtree, then the LCA must be the root. Consequently, the paths of the nodes won't have to be calculated -- saving some time and space.\n",
    "\n",
    "The books solution is below."
   ]
  },
  {
   "cell_type": "code",
   "execution_count": 13,
   "metadata": {
    "collapsed": true
   },
   "outputs": [],
   "source": [
    "def get_lca(root, node1, node2):\n",
    "    return LCA_helper(root, node1, node2)[0]\n",
    "def LCA_helper(tree, node1, node2):\n",
    "    if tree is None:\n",
    "        return [None, 0]\n",
    "    #check the left subtree\n",
    "    left_result = LCA_helper(tree.left, node1, node2)\n",
    "    if left_result[1] == 2:\n",
    "        #both nodes found\n",
    "        return left_result\n",
    "    right_result = LCA_helper(tree.right, node1, node2)\n",
    "    if right_result[1] == 2:\n",
    "        return right_result\n",
    "    num_target_nodes = left_result[1] + right_result[1] + (tree is node1 or tree is node2)\n",
    "    res = [None, num_target_nodes]\n",
    "    res[0] = tree if num_target_nodes == 2 else None  \n",
    "    return res\n",
    "    \n",
    "        "
   ]
  },
  {
   "cell_type": "code",
   "execution_count": 14,
   "metadata": {
    "collapsed": false
   },
   "outputs": [
    {
     "data": {
      "text/plain": [
       "<__main__.BT at 0x7f61e765f590>"
      ]
     },
     "execution_count": 14,
     "metadata": {},
     "output_type": "execute_result"
    }
   ],
   "source": [
    "get_lca(tree, node1, node2)"
   ]
  },
  {
   "cell_type": "markdown",
   "metadata": {},
   "source": [
    "### 10.8 - Implement An Inorder Traversal With O(1) Space\n",
    ">The direct implementation of an inorder traversal using recursion has O(h) space complexity, where $h$ is the height of the tree. Recursion can be removed with an explicit stack, but the space complexity remains O(h).\n",
    ">\n",
    "Write a nonrecursive program for computing the inorder traversal sequence for a binary tree. Assume nodes have parent fields.\n",
    "\n",
    "<img src='Images/traversals.jpg'>"
   ]
  },
  {
   "cell_type": "code",
   "execution_count": 15,
   "metadata": {
    "collapsed": false
   },
   "outputs": [],
   "source": [
    "#extremely inefficient but basic method of creating a BT w/ parent attr in nodes\n",
    "class Node():\n",
    "    def __init__(self, data, parent=None, left=None, right=None):\n",
    "        self.data = data\n",
    "        self.parent = parent\n",
    "        self.left = left\n",
    "        self.right = right\n",
    "nodes = {ch : Node(ch) for ch in 'ABCDEFGHI'}\n",
    "nodes['H'].parent = nodes['E'];nodes['I'].parent = nodes['E'] \n",
    "nodes['E'].left = nodes['H']; nodes['E'].right = nodes['I']\n",
    "nodes['D'].parent = nodes['B']; nodes['E'].parent = nodes['B']\n",
    "nodes['B'].left = nodes['D']; nodes['B'].right = nodes['E']\n",
    "nodes['B'].parent = nodes['A']; nodes['C'].parent = nodes['A']\n",
    "nodes['A'].left = nodes['B']; nodes['A'].right = nodes['C']\n",
    "nodes['F'].parent = nodes['C']; nodes['G'].parent = nodes['C']\n",
    "nodes['C'].left = nodes['F']; nodes['C'].right = nodes['G']\n",
    "root = nodes['A']"
   ]
  },
  {
   "cell_type": "markdown",
   "metadata": {
    "collapsed": false
   },
   "source": [
    "The logic for this solution is pretty straight forward.\n",
    "* The starting point should be the leftmost desecndant of the root\n",
    "* The next node has two possible cases\n",
    "    * The current node has a right child, so go print the leftmost descendant of that subtree\n",
    "    * The current node has no right child, so go print the rightmost ancestor that is a left child"
   ]
  },
  {
   "cell_type": "code",
   "execution_count": 16,
   "metadata": {
    "collapsed": false
   },
   "outputs": [],
   "source": [
    "def leftmost_descendant(node):\n",
    "    while node.left is not None:\n",
    "        node = node.left\n",
    "    return node\n",
    "\n",
    "def is_left_child(node):\n",
    "    if node is None or node.parent is None:\n",
    "        return False\n",
    "    return node is node.parent.left\n",
    "\n",
    "def rightmost_ancestor(node):\n",
    "    #rightmost ancestor of closest node that is a leftchild\n",
    "    while not is_left_child(node):\n",
    "        if node.parent is None:\n",
    "            return None\n",
    "        node = node.parent\n",
    "    \n",
    "    return node.parent\n",
    "        \n",
    "def in_order(root):\n",
    "    curr = leftmost_descendant(root)\n",
    "    while curr is not None:\n",
    "        print curr.data,\n",
    "        if curr.right is not None:\n",
    "            curr = leftmost_descendant(curr.right)\n",
    "        else:\n",
    "            if is_left_child(curr):\n",
    "                curr = curr.parent\n",
    "            else:\n",
    "                curr = rightmost_ancestor(curr)\n",
    "        "
   ]
  },
  {
   "cell_type": "code",
   "execution_count": 17,
   "metadata": {
    "collapsed": false
   },
   "outputs": [
    {
     "name": "stdout",
     "output_type": "stream",
     "text": [
      "D B H E I A F C G\n"
     ]
    }
   ],
   "source": [
    "in_order(root)"
   ]
  },
  {
   "cell_type": "markdown",
   "metadata": {},
   "source": [
    "### 10.10 - Reconstruct A Binary Tree From Traversal Data\n",
    ">Many different binary trrees yield the same sequence of keys in an inorder, preorder, or postorder traversal. However, given an inorder traversal and one of any two other traversal orders of a binary tree, there exists a unique binary tree that yield those orders, assuming each node holds a distinct key. For example, the unique binary tree whose \n",
    "* preorder traversal sequence is ${H,B,F,E,A,C,D,G,I}$ is:\n",
    "* inorder traversal sequence is ${F,B,A,E,H,C,D,I,G}$ \n",
    "\n",
    "<img src='Images/reconstruct.png'>\n",
    "\n",
    ">Given an inorder traversal sequence and a preorder traversal sequence of a binary tree, write a program to reconstruct the tree. Assume each node has a unique key."
   ]
  },
  {
   "cell_type": "markdown",
   "metadata": {
    "collapsed": true
   },
   "source": [
    "* The first item in the preoreder sequence is the root, so start with that.\n",
    "    * In the inorder seq. data, $[0:IndexOfRoot]$ are the left subtree nodes\n",
    "* The second node in the preorder seq. is $B$, notice that any element appearing before $B$ in the inorder seq. must be a left child  of $B$.\n",
    "\n",
    "Iterate through the preorder, creating a subtree rooted at each element that is iterated over.\n",
    "At each element, you're constructing a tree with a root, and have to find each child\n",
    "\n",
    "PRE------${H,B,F,E,A,C,D,G,I}$----------------------------IN------${F,B,A,E,H,C,D,I,G}$ \n",
    "Split"
   ]
  },
  {
   "cell_type": "code",
   "execution_count": 70,
   "metadata": {
    "collapsed": false
   },
   "outputs": [],
   "source": [
    "inorder = [c for c in 'FBAEHCDIG']\n",
    "preorder = [c for c in 'HBFEACDGI']\n",
    "\n",
    "def reconstruct_tree(preorder, p_ix, inorder):\n",
    "    root_val = preorder[p_ix] if p_ix < len(preorder) else None\n",
    "    split_ix = inorder.index(root_val) if root_val in inorder else None\n",
    "    if split_ix is not None:\n",
    "        left_subtree = inorder[0:split_ix]\n",
    "        right_subtree = inorder[split_ix + 1:]\n",
    "    #now make the left child recursively\n",
    "    tree = Node(root_val)\n",
    "    #there is only a left child if the next value that appears in preorder is also in left_subtree\n",
    "    if (p_ix + 1) < len(preorder) and preorder[p_ix+1] in left_subtree:\n",
    "        tree.left = reconstruct_tree(preorder, p_ix+1, left_subtree)\n",
    "    else:\n",
    "        tree.left = None\n",
    "    #we split at split_ix, thus anything to the right is a node of the right subtree\n",
    "    rchild_start_ix = p_ix + split_ix + 1\n",
    "    if rchild_start_ix < len(preorder) and preorder[rchild_start_ix] in right_subtree:\n",
    "        tree.right = reconstruct_tree(preorder, rchild_start_ix, right_subtree)\n",
    "    else: tree.right = None\n",
    "        \n",
    "    return tree"
   ]
  },
  {
   "cell_type": "code",
   "execution_count": 68,
   "metadata": {
    "collapsed": false
   },
   "outputs": [],
   "source": [
    "def pre_order(node):\n",
    "    if node is not None:\n",
    "        print node.data,\n",
    "        post_order(node.left)\n",
    "        post_order(node.right)\n",
    "    return"
   ]
  },
  {
   "cell_type": "code",
   "execution_count": 69,
   "metadata": {
    "collapsed": false
   },
   "outputs": [
    {
     "name": "stdout",
     "output_type": "stream",
     "text": [
      "H B F E A C D G I\n"
     ]
    }
   ],
   "source": [
    "t = reconstruct_tree(preorder, 0, inorder)\n",
    "pre_order(t)"
   ]
  }
 ],
 "metadata": {
  "kernelspec": {
   "display_name": "Python [Root]",
   "language": "python",
   "name": "Python [Root]"
  },
  "language_info": {
   "codemirror_mode": {
    "name": "ipython",
    "version": 2
   },
   "file_extension": ".py",
   "mimetype": "text/x-python",
   "name": "python",
   "nbconvert_exporter": "python",
   "pygments_lexer": "ipython2",
   "version": "2.7.12"
  }
 },
 "nbformat": 4,
 "nbformat_minor": 0
}

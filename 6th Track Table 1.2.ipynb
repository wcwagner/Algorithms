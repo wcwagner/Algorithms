{
 "cells": [
  {
   "cell_type": "markdown",
   "metadata": {},
   "source": [
    "# Elements of Programming Interviews\n",
    "## Binary Trees\n",
    "### Track 6: 10.1, 10.2, 10.4, 10.8, 10.10, 10.11, 10.14"
   ]
  },
  {
   "cell_type": "markdown",
   "metadata": {},
   "source": [
    "### 10.1 - Test If a Binary Tree Is Balanced\n",
    ">A binary tree is said to be balanced if for each node in the tree, the difference in the height of it's left and right subtrees is at most one. A perfect binary tree is balanced, as is a complete binary tree.\n",
    "<img src='Images/balanced_tree.png'>"
   ]
  },
  {
   "cell_type": "code",
   "execution_count": 1,
   "metadata": {
    "collapsed": false
   },
   "outputs": [],
   "source": [
    "class BT(object):\n",
    "    def __init__(self, data, left=None, right=None):\n",
    "        self.data = data\n",
    "        self.left = left\n",
    "        self.right = right\n",
    "balanced_tree = BT(314, BT(6, BT(271, BT(28), BT(0)), BT(561, right=BT(3, BT(17)))), BT(6, BT(2, right=BT(1, BT(401,right=BT(641)), BT(257))), BT(271, right=BT(28))))\n",
    "unbalanced_tree = BT(1, BT(2, BT(3, BT(4))), BT(5))\n",
    "#Unbalanced Tree\n",
    "#        1\n",
    "#       2 5\n",
    "#      3\n",
    "#     4"
   ]
  },
  {
   "cell_type": "code",
   "execution_count": 2,
   "metadata": {
    "collapsed": false
   },
   "outputs": [
    {
     "name": "stdout",
     "output_type": "stream",
     "text": [
      "4 3 2 5 1\n"
     ]
    }
   ],
   "source": [
    "def post_order(node):\n",
    "    if node is not None:\n",
    "        post_order(node.left)\n",
    "        post_order(node.right)\n",
    "        print node.data,\n",
    "    return\n",
    "post_order(unbalanced_tree)"
   ]
  },
  {
   "cell_type": "code",
   "execution_count": 3,
   "metadata": {
    "collapsed": true
   },
   "outputs": [],
   "source": [
    "def height(node):\n",
    "    if node is None:\n",
    "        return -1\n",
    "    return max(height(node.left), height(node.right)) + 1"
   ]
  },
  {
   "cell_type": "code",
   "execution_count": 4,
   "metadata": {
    "collapsed": false
   },
   "outputs": [],
   "source": [
    "def is_balanced(root):\n",
    "    height_diff = abs(height(root.left) - height(root.right))\n",
    "    return height_diff <= 1"
   ]
  },
  {
   "cell_type": "code",
   "execution_count": 5,
   "metadata": {
    "collapsed": false
   },
   "outputs": [
    {
     "data": {
      "text/plain": [
       "(False, True)"
      ]
     },
     "execution_count": 5,
     "metadata": {},
     "output_type": "execute_result"
    }
   ],
   "source": [
    "is_balanced(unbalanced_tree), is_balanced(balanced_tree)"
   ]
  },
  {
   "cell_type": "markdown",
   "metadata": {},
   "source": [
    "### 10.2 - Check If a Binary Tree Is Symetric\n",
    ">A binary tree is symetric if you can draw a vertical line throught the root and then the left subtree is the mirror image of the right subtree. The node values must be equal as well.\n",
    ">>                   *\n",
    "              *      *\n",
    "            *   *  *   *"
   ]
  },
  {
   "cell_type": "code",
   "execution_count": 6,
   "metadata": {
    "collapsed": false
   },
   "outputs": [],
   "source": [
    "def is_symetric(root):\n",
    "    return root is None or check_symetry(root.left, root.right)\n",
    "    \n",
    "def check_symetry(lnode, rnode):\n",
    "    if lnode is None and rnode is None:\n",
    "        return True\n",
    "    else:\n",
    "        if lnode is not None and rnode is not None:\n",
    "            return (lnode.data == rnode.data and\n",
    "                    check_symetry(lnode.left, rnode.right) and\n",
    "                    check_symetry(lnode.right, rnode.left))\n",
    "    return False"
   ]
  },
  {
   "cell_type": "code",
   "execution_count": 7,
   "metadata": {
    "collapsed": false
   },
   "outputs": [
    {
     "data": {
      "text/plain": [
       "(True, True, False)"
      ]
     },
     "execution_count": 7,
     "metadata": {},
     "output_type": "execute_result"
    }
   ],
   "source": [
    "symetric_tree = BT(1, BT(2, BT(3, BT(4), BT(5))), BT(2,left=None, right=BT(3, BT(5), BT(4))))\n",
    "#           1\n",
    "#          2 2\n",
    "#        3     3\n",
    "#      4  5  4  5\n",
    "asymetric_tree = unbalanced_tree\n",
    "\n",
    "(is_symetric(symetric_tree), is_symetric(None), is_symetric(asymetric_tree))"
   ]
  },
  {
   "cell_type": "code",
   "execution_count": 8,
   "metadata": {
    "collapsed": false
   },
   "outputs": [
    {
     "data": {
      "text/plain": [
       "True"
      ]
     },
     "execution_count": 8,
     "metadata": {},
     "output_type": "execute_result"
    }
   ],
   "source": [
    "def recursion_test(n):\n",
    "    if n == 1:\n",
    "        return False\n",
    "    elif n > 1:\n",
    "        recursion_test(n-1)\n",
    "        return True\n",
    "recursion_test(15)"
   ]
  },
  {
   "cell_type": "markdown",
   "metadata": {},
   "source": [
    "### 10.4 - Compute the Lowest Common Ancestor Between Two Nodes **NO PARENT ATTR**\n",
    ">Given two nodes in a binary tree, design an algorith, that computes their LCA. Any two nodes in a binary tree have a cmmon ancestor, namely the root. the LCA of any two nodes in a binary tree is the node furthest from the root that is an ancestor of both nodes. \n",
    "\n",
    "<img src='Images/lca.png' height='450' width='450'>"
   ]
  },
  {
   "cell_type": "markdown",
   "metadata": {
    "collapsed": true
   },
   "source": [
    "First Approach: \n",
    "* Get the unique path from each node to the root in the form of a python set. \n",
    "    * Can be done with a BFS\n",
    "* Then take the intersection of both sets, wherein the last element will be the LCA."
   ]
  },
  {
   "cell_type": "code",
   "execution_count": 9,
   "metadata": {
    "collapsed": false
   },
   "outputs": [],
   "source": [
    "import os\n",
    "os.chdir('/home/william/Python/Algorithms/Data Structures')\n",
    "from stack import Stack"
   ]
  },
  {
   "cell_type": "code",
   "execution_count": 30,
   "metadata": {
    "collapsed": false
   },
   "outputs": [],
   "source": [
    "def get_path_from_root(root, search_node):\n",
    "    if root is None or search_node is None:\n",
    "        return None\n",
    "    S = Stack()\n",
    "    S.push(root)\n",
    "    visited = []\n",
    "    while not S.empty():\n",
    "        curr = S.top()\n",
    "        if curr == search_node:\n",
    "            break\n",
    "            \n",
    "        if curr.left is not None and curr.left not in visited:\n",
    "            S.push(curr.left)\n",
    "            visited.append(curr.left)\n",
    "        elif curr.right is not None and curr.right not in visited:\n",
    "            S.push(curr.right)\n",
    "            visited.append(curr.right)\n",
    "        else:\n",
    "            S.pop()\n",
    "    path = []\n",
    "    while not S.empty():\n",
    "        path.append(S.top())\n",
    "        S.pop()\n",
    "    return path[::-1]\n",
    "\n",
    "def get_lca(root, node1, node2):\n",
    "    node1_path = set(get_path_from_root(root, node1))\n",
    "    node2_path = set(get_path_from_root(root, node2))\n",
    "    common_nodes = node1_path.intersection(node2_path)\n",
    "    return list(common_nodes)[-1]"
   ]
  },
  {
   "cell_type": "code",
   "execution_count": 35,
   "metadata": {
    "collapsed": false
   },
   "outputs": [
    {
     "data": {
      "text/plain": [
       "1"
      ]
     },
     "execution_count": 35,
     "metadata": {},
     "output_type": "execute_result"
    }
   ],
   "source": [
    "tree = symetric_tree\n",
    "#           1\n",
    "#          2 2\n",
    "#        3     3\n",
    "#      4  5  4  5\n",
    "node1 = tree.left.left.right\n",
    "node2 = tree.right\n",
    "#common node is root -- 1\n",
    "get_lca(tree, node1, node2).data"
   ]
  },
  {
   "cell_type": "code",
   "execution_count": 38,
   "metadata": {
    "collapsed": false
   },
   "outputs": [
    {
     "data": {
      "text/plain": [
       "3"
      ]
     },
     "execution_count": 38,
     "metadata": {},
     "output_type": "execute_result"
    }
   ],
   "source": [
    "node1 = tree.right.right.left\n",
    "node2 = tree.right.right.right\n",
    "get_lca(tree, node1, node2).data"
   ]
  },
  {
   "cell_type": "markdown",
   "metadata": {},
   "source": [
    "A *possible* optimization could be to do a traversal of the entire left subtree, and see if both nodes are in that tree. \n",
    "* If both nodes are in that left tree, then find the paths of both and then find their common last node -- the LCA.\n",
    "* If only one node was found in the left subtree, then the LCA must be the root. Consequently, the paths of the nodes won't have to be calculated -- saving some time and space."
   ]
  },
  {
   "cell_type": "code",
   "execution_count": null,
   "metadata": {
    "collapsed": true
   },
   "outputs": [],
   "source": []
  }
 ],
 "metadata": {
  "kernelspec": {
   "display_name": "Python [Root]",
   "language": "python",
   "name": "Python [Root]"
  },
  "language_info": {
   "codemirror_mode": {
    "name": "ipython",
    "version": 2
   },
   "file_extension": ".py",
   "mimetype": "text/x-python",
   "name": "python",
   "nbconvert_exporter": "python",
   "pygments_lexer": "ipython2",
   "version": "2.7.12"
  }
 },
 "nbformat": 4,
 "nbformat_minor": 0
}

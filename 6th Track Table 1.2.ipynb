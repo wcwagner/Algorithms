{
 "cells": [
  {
   "cell_type": "markdown",
   "metadata": {},
   "source": [
    "# Elements of Programming Interviews\n",
    "## Binary Trees\n",
    "### Track 6: 10.1, 10.2, 10.4, 10.8, 10.10, 10.11, 10.14"
   ]
  },
  {
   "cell_type": "markdown",
   "metadata": {},
   "source": [
    "### 10.1 - Test If a Binary Tree Is Balanced\n",
    ">A binary tree is said to be balanced if for each node in the tree, the difference in the height of it's left and right subtrees is at most one. A perfect binary tree is balanced, as is a complete binary tree.\n",
    "<img src='Images/balanced_tree.png'>"
   ]
  },
  {
   "cell_type": "code",
   "execution_count": 1,
   "metadata": {
    "collapsed": false
   },
   "outputs": [],
   "source": [
    "class BT(object):\n",
    "    def __init__(self, data, left=None, right=None):\n",
    "        self.data = data\n",
    "        self.left = left\n",
    "        self.right = right\n",
    "balanced_tree = BT(314, BT(6, BT(271, BT(28), BT(0)), BT(561, right=BT(3, BT(17)))), BT(6, BT(2, right=BT(1, BT(401,right=BT(641)), BT(257))), BT(271, right=BT(28))))\n",
    "unbalanced_tree = BT(1, BT(2, BT(3, BT(4))), BT(5))\n",
    "#Unbalanced Tree\n",
    "#        1\n",
    "#       2 5\n",
    "#      3\n",
    "#     4"
   ]
  },
  {
   "cell_type": "code",
   "execution_count": 10,
   "metadata": {
    "collapsed": false
   },
   "outputs": [
    {
     "name": "stdout",
     "output_type": "stream",
     "text": [
      "4 3 2 5 1\n"
     ]
    }
   ],
   "source": [
    "def post_order(node):\n",
    "    if node is not None:\n",
    "        post_order(node.left)\n",
    "        post_order(node.right)\n",
    "        print node.data,\n",
    "    return\n",
    "post_order(unbalanced_tree)"
   ]
  },
  {
   "cell_type": "code",
   "execution_count": 11,
   "metadata": {
    "collapsed": true
   },
   "outputs": [],
   "source": [
    "def height(node):\n",
    "    if node is None:\n",
    "        return -1\n",
    "    return max(height(node.left), height(node.right)) + 1"
   ]
  },
  {
   "cell_type": "code",
   "execution_count": 13,
   "metadata": {
    "collapsed": false
   },
   "outputs": [],
   "source": [
    "def is_balanced(root):\n",
    "    height_diff = abs(height(root.left) - height(root.right))\n",
    "    return height_diff <= 1"
   ]
  },
  {
   "cell_type": "code",
   "execution_count": 14,
   "metadata": {
    "collapsed": false
   },
   "outputs": [
    {
     "data": {
      "text/plain": [
       "(False, True)"
      ]
     },
     "execution_count": 14,
     "metadata": {},
     "output_type": "execute_result"
    }
   ],
   "source": [
    "is_balanced(unbalanced_tree), is_balanced(balanced_tree)"
   ]
  }
 ],
 "metadata": {
  "kernelspec": {
   "display_name": "Python [Root]",
   "language": "python",
   "name": "Python [Root]"
  },
  "language_info": {
   "codemirror_mode": {
    "name": "ipython",
    "version": 2
   },
   "file_extension": ".py",
   "mimetype": "text/x-python",
   "name": "python",
   "nbconvert_exporter": "python",
   "pygments_lexer": "ipython2",
   "version": "2.7.12"
  }
 },
 "nbformat": 4,
 "nbformat_minor": 0
}

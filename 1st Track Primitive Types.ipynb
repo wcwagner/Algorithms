{
 "cells": [
  {
   "cell_type": "markdown",
   "metadata": {},
   "source": [
    "# Elements of Programming Interviews\n",
    "## Primitive Types\n",
    "### Track 1: 5.2, 5.3, 5.7, 5.8, *5.9*, 5.11, 7.2, 7.3 "
   ]
  },
  {
   "cell_type": "markdown",
   "metadata": {},
   "source": [
    "### 5.2 - Binary Bit Swap\n",
    ">*Implement the code that takes as input a 64-bit integer x and swaps the bits at indices i and j. This 64-bit integer can be viewed as an array of 64 bits, for which index 0 is the LSB and index 63 is the MSB.*\n",
    "\n",
    ">>Find the values of the bits, and if they don't differ then do nothing; else swap the bits"
   ]
  },
  {
   "cell_type": "code",
   "execution_count": 1,
   "metadata": {
    "collapsed": false
   },
   "outputs": [
    {
     "data": {
      "text/plain": [
       "'0b11011000'"
      ]
     },
     "execution_count": 1,
     "metadata": {},
     "output_type": "execute_result"
    }
   ],
   "source": [
    "def swap_bits(x, i, j):\n",
    "    bit_i = (x >> i) & 1\n",
    "    bit_j = (x >> j) & 1\n",
    "    if bit_i != bit_j: #swap\n",
    "        mask = (1 << i) | (1 << j)\n",
    "        x = x ^ mask\n",
    "    return x\n",
    "bin(swap_bits(0b10011001, 0, 6))"
   ]
  },
  {
   "cell_type": "markdown",
   "metadata": {},
   "source": [
    "#### Time Complexity: O(1)"
   ]
  },
  {
   "cell_type": "markdown",
   "metadata": {},
   "source": [
    "### 5.3 - Binary Word Reverse\n",
    ">Write a function that takes a 64-bit integer x and returns a 64-bit interger consiting ofthe bits of x in reverse order.\n",
    ">>This is best implemented using a lookup table. The 64-bit integer can be broken up into 4 16-bit shorts, $Y_4, Y_3, Y_2, Y_1$. The lookup table, A, will be size $2^{16}=65536$\n",
    ", with each index corresponding to each possible value in a 16-bit word. So A[y] would map a 16-bit word with value yto its reversed bit string. Therefore the reverse of a 64-bit word would be                            \n",
    "rev($Y_1$),rev($Y_2$),rev($Y_3$),rev($Y_4$)"
   ]
  },
  {
   "cell_type": "code",
   "execution_count": 2,
   "metadata": {
    "collapsed": false
   },
   "outputs": [],
   "source": [
    "def bf_reverse(x):\n",
    "    #assuming there is a precomputed lookup table, lookup_table, as described above\n",
    "    mask = 0xFFFF\n",
    "    word_size = 16\n",
    "    return (\n",
    "        lookup_table[x & mask] << (word_size * 3)\n",
    "        | lookup_table[(x >> word_size) & mask] << (word_size * 2)\n",
    "        | lookup_table[(x >> word_size * 2) & mask] << (word_size)\n",
    "        | lookup_table[(x >> word_size * 3) & mask])"
   ]
  },
  {
   "cell_type": "markdown",
   "metadata": {},
   "source": [
    "This solution works by first\n",
    "* Isolating the least significant 16 bits of the original word, finding the reverse, then left shifting it so it will be the most significant bits of the reversed word.\n",
    "* Then, isolating bits 16-31, finding their reverse, then left shifting it so it then occupies bits 47-32.\n",
    "* do the same for the other half\n",
    "\n",
    "#### Time complexity: O(N/L), with N beings the size of the word, and L being the size of each lookup table term."
   ]
  },
  {
   "cell_type": "markdown",
   "metadata": {},
   "source": [
    "### 5.5 - Binary Multiplication\n",
    ">Write a program that multiplies two non-negative integers. The only operators you are allowed to use are\n",
    "* assignment\n",
    "* bitwise operators - <<, >>, |, &, ~, ^\n",
    "* equality checks and boolean combinations"
   ]
  },
  {
   "cell_type": "markdown",
   "metadata": {},
   "source": [
    "#### First I will define an add function.\n",
    "* First I find the carry positions\n",
    "* Then I add the two numbers, without respects to the carry.\n",
    "* Then I set the second number to the carry left shifted once, to account for carrying. "
   ]
  },
  {
   "cell_type": "code",
   "execution_count": 3,
   "metadata": {
    "collapsed": false
   },
   "outputs": [
    {
     "data": {
      "text/plain": [
       "'0b1100'"
      ]
     },
     "execution_count": 3,
     "metadata": {},
     "output_type": "execute_result"
    }
   ],
   "source": [
    "def add(a, b):\n",
    "    while b:\n",
    "        carry = a & b #set bits are carry positions\n",
    "        a = a ^ b #adding the two without respect to the carry\n",
    "        b = carry << 1\n",
    "    return a\n",
    "bin(add(0b1001, 0b0011))"
   ]
  },
  {
   "cell_type": "markdown",
   "metadata": {},
   "source": [
    "#### Then, define multiplication using a shift and add appraoch.\n",
    "* Take a * b, the bruteforce appraoch would add a to itself b times using shift and the add function defined above."
   ]
  },
  {
   "cell_type": "code",
   "execution_count": 4,
   "metadata": {
    "collapsed": false
   },
   "outputs": [
    {
     "data": {
      "text/plain": [
       "'0b1111'"
      ]
     },
     "execution_count": 4,
     "metadata": {},
     "output_type": "execute_result"
    }
   ],
   "source": [
    "def multiply(multiplier,multiplicand):\n",
    "    total = 0\n",
    "    while(multiplicand):\n",
    "        if( multiplicand & 1):\n",
    "            total = add(total, multiplier)\n",
    "        multiplicand = multiplicand >> 1\n",
    "        multiplier = multiplier << 1\n",
    "    return total\n",
    "bin(multiply(0b101, 0b011)) #5*3=15(0b1111)"
   ]
  },
  {
   "cell_type": "markdown",
   "metadata": {},
   "source": [
    "#### Time complexity: O($n^2$) "
   ]
  },
  {
   "cell_type": "markdown",
   "metadata": {},
   "source": [
    "### 5.7 - Binary Exponentation\n",
    ">Write a program that takes a double x and an integer y and returns $x^y$. Overflow and underflow can be ignored.\n",
    ">>Iterative squaring can be used as a general method for fast computation of large positive integer powers. "
   ]
  },
  {
   "cell_type": "code",
   "execution_count": 5,
   "metadata": {
    "collapsed": false
   },
   "outputs": [
    {
     "data": {
      "text/plain": [
       "(32, 32)"
      ]
     },
     "execution_count": 5,
     "metadata": {},
     "output_type": "execute_result"
    }
   ],
   "source": [
    "def power(x, y):\n",
    "    power = y\n",
    "    result = 0b1\n",
    "    if y < 0:\n",
    "        x = 1/x\n",
    "        power = -power #turn to positive\n",
    "    while power:\n",
    "        if power & 1:\n",
    "            result *= x\n",
    "        x *= x\n",
    "        power = power >> 1\n",
    "    return result\n",
    "def power_recursive(x,y):\n",
    "    if y < 0:\n",
    "        x = 1/x\n",
    "        y = -y\n",
    "    if y is 0:\n",
    "        return\n",
    "    elif y & 1:\n",
    "        return x*power(x*x, y>>1)\n",
    "    else:\n",
    "        return power(x*x, y>>1)\n",
    "power_recursive(0b10, 0b101), power(0b10, 0b101)"
   ]
  },
  {
   "cell_type": "markdown",
   "metadata": {},
   "source": [
    "#### Time complexity: O(n) since the number of operations(multiplications) is at most 2n if every bit in power was 1"
   ]
  },
  {
   "cell_type": "markdown",
   "metadata": {},
   "source": [
    "### 5.8 - Number Reverse\n",
    ">Write a program which takes an integer and returns the integer corresponding to the digits of the input written in reverse order\n",
    ">>Able to use % to single out digits"
   ]
  },
  {
   "cell_type": "code",
   "execution_count": 13,
   "metadata": {
    "collapsed": false
   },
   "outputs": [
    {
     "data": {
      "text/plain": [
       "-124"
      ]
     },
     "execution_count": 13,
     "metadata": {},
     "output_type": "execute_result"
    }
   ],
   "source": [
    "def reverse_bf(x):\n",
    "    rev = []\n",
    "    is_negative = x < 0\n",
    "    x = abs(x)\n",
    "    while x:\n",
    "        digit = x % 10\n",
    "        rev.append(digit)\n",
    "        x /= 10 #integer division\n",
    "    res = int(\"\".join([str(d) for d in rev]))\n",
    "    if is_negative is True:\n",
    "        res = -res\n",
    "    return res\n",
    "reverse_bf(-421)"
   ]
  },
  {
   "cell_type": "code",
   "execution_count": 15,
   "metadata": {
    "collapsed": false
   },
   "outputs": [
    {
     "data": {
      "text/plain": [
       "-42"
      ]
     },
     "execution_count": 15,
     "metadata": {},
     "output_type": "execute_result"
    }
   ],
   "source": [
    "def reverse(x):\n",
    "    is_negative = x < 0\n",
    "    x = abs(x)\n",
    "    result = 0\n",
    "    while(x):\n",
    "        result = result * 10 + x % 10\n",
    "        x /= 10\n",
    "    if is_negative:\n",
    "        result = -result\n",
    "    return result\n",
    "reverse(-24)"
   ]
  },
  {
   "cell_type": "markdown",
   "metadata": {},
   "source": [
    "#### Time complexity: O(n) where n is the width of the number"
   ]
  },
  {
   "cell_type": "markdown",
   "metadata": {},
   "source": [
    "### 5.9 - Check if Decimal Integer is Palindrome\n",
    "> Write a program that checks to see if a number is a palindrome\n",
    ">> Able to use / and % to factor out the most significant, and lest significant digits, respectively. Then truncate the number, e.g. (5225 --> 22)"
   ]
  },
  {
   "cell_type": "code",
   "execution_count": 32,
   "metadata": {
    "collapsed": false
   },
   "outputs": [
    {
     "data": {
      "text/plain": [
       "(True, False, True)"
      ]
     },
     "execution_count": 32,
     "metadata": {},
     "output_type": "execute_result"
    }
   ],
   "source": [
    "def is_palindrome(x):\n",
    "    num = str(x)\n",
    "    return num == num[::-1]\n",
    "is_palindrome(121), is_palindrome(-1), is_palindrome(2112)"
   ]
  },
  {
   "cell_type": "code",
   "execution_count": 86,
   "metadata": {
    "collapsed": false
   },
   "outputs": [
    {
     "data": {
      "text/plain": [
       "(False, True, True)"
      ]
     },
     "execution_count": 86,
     "metadata": {},
     "output_type": "execute_result"
    }
   ],
   "source": [
    "import math\n",
    "def is_num_palindrome(x):\n",
    "    if x < 0:\n",
    "        return False\n",
    "    if x == 0:\n",
    "        return True\n",
    "    #extract the most significant digit using log\n",
    "    left = int(math.floor(math.log(x, 10)))\n",
    "    while(x):\n",
    "        msd = x / (10**(left))\n",
    "        lsd = x % 10\n",
    "        if msd != lsd:\n",
    "            return False\n",
    "        x = x % (10**(left)) #remove MSD\n",
    "        x = x / 10 #remove LSD\n",
    "        left = left - 2 #account for two decimal places\n",
    "    return True\n",
    "is_num_palindrome(-1), is_num_palindrome(252), is_num_palindrome(234432)"
   ]
  },
  {
   "cell_type": "markdown",
   "metadata": {},
   "source": [
    "#### Time complexity: O(n)"
   ]
  },
  {
   "cell_type": "markdown",
   "metadata": {},
   "source": [
    "### 5.11 - Rectangle Intersection\n",
    ">Write a prgoram which tests if two rectangles have a nonempty intersection. If the intersection is nonempty, return the rectangle formed by the intersection."
   ]
  },
  {
   "cell_type": "code",
   "execution_count": 104,
   "metadata": {
    "collapsed": false
   },
   "outputs": [],
   "source": [
    "class Rectangle(object):\n",
    "    \"\"\"\n",
    "    represents a X,Y aligned rectangle\n",
    "    attributes: x,y, height, width\n",
    "    \"\"\"\n",
    "    def __init__(self, x, y, width, height):\n",
    "        self.x = x\n",
    "        self.y = y\n",
    "        self.width = width\n",
    "        self.height = height\n",
    "    def __str__(self):\n",
    "        return (\n",
    "                \"Lower Left: ({:.1f},{:.1f}) \"\n",
    "                \"Upper Right: ({:.1f}, {:.1f})\".format(self.x, self.y, \n",
    "                self.x + self.width, self.y + self.height)\n",
    "                )"
   ]
  },
  {
   "cell_type": "markdown",
   "metadata": {},
   "source": [
    ">My initial approach to check for any overlapping intervals on the X and Y axis, and if they both intersect, then surely their is a non=empty rectangle intersection\n",
    "\n",
    "\n",
    ">The second approach follows this logic:\n",
    ">>It assurs that r1's leftmost x comes before r2s rightmost x, and r1s rightmost x comes after r2s leftmost x. The same methodology applies for the height"
   ]
  },
  {
   "cell_type": "code",
   "execution_count": 132,
   "metadata": {
    "collapsed": false
   },
   "outputs": [
    {
     "data": {
      "text/plain": [
       "(True, True, False)"
      ]
     },
     "execution_count": 132,
     "metadata": {},
     "output_type": "execute_result"
    }
   ],
   "source": [
    "def is_intersecting_original(r1, r2):\n",
    "    #add 1 to range because closed interval\n",
    "    r1_x_range_set = set(range(r1.x, r1.x+r1.width+1))\n",
    "    r2_x_range_set = set(range(r2.x, r2.x+r2.width+1))\n",
    "    r1_y_range_set = set(range(r1.y, r1.y+r1.height+1))\n",
    "    r2_y_range_set = set(range(r2.y, r2.y+r2.height+1))\n",
    "    if (r1_x_range_set.intersection(r2_x_range_set) and \n",
    "        r1_y_range_set.intersection(r2_y_range_set)):\n",
    "        return True\n",
    "    return False\n",
    "def is_intersecting(r1, r2):\n",
    "    return (\n",
    "            r1.x <= r2.x + r2.width and r1.x+r1.width >= r2.x and\n",
    "            r1.y <= r2.y + r2.height and r1.y + r1.height >= r2.y\n",
    "            )\n",
    "                \n",
    "r1 = Rectangle(1, 1, 2, 2)\n",
    "r2 = Rectangle(2, 2, 2, 2)\n",
    "r3 = Rectangle(3, 3, 3, 3)\n",
    "r4 = Rectangle(4, 4, 2, 2)\n",
    "is_intersecting_original(r1, r2), is_intersecting(r1, r2), is_intersecting(r1,r4)"
   ]
  },
  {
   "cell_type": "markdown",
   "metadata": {},
   "source": [
    ">Taking the intersection of the set of X and Y values for the interecting rectangles will give the points that are common to both rectangles, thus allowing us to create the intersecting rectangle"
   ]
  },
  {
   "cell_type": "code",
   "execution_count": 133,
   "metadata": {
    "collapsed": false
   },
   "outputs": [
    {
     "name": "stdout",
     "output_type": "stream",
     "text": [
      "Lower Left: (2.0,2.0) Upper Right: (3.0, 3.0)\n"
     ]
    }
   ],
   "source": [
    "def intersecting_rectangle(r1, r2):\n",
    "    if is_intersecting(r1, r2):\n",
    "        r1_x_range_set = set(range(r1.x, r1.x+r1.width+1))\n",
    "        r2_x_range_set = set(range(r2.x, r2.x+r2.width+1))\n",
    "        r1_y_range_set = set(range(r1.y, r1.y+r1.height+1))\n",
    "        r2_y_range_set = set(range(r2.y, r2.y+r2.height+1))\n",
    "        rec_intersect_x = r1_x_range_set.intersection(r2_x_range_set)\n",
    "        rec_intersect_y = r1_y_range_set.intersection(r2_y_range_set)\n",
    "        rec_x_min = min(rec_intersect_x)\n",
    "        rec_x_max = max(rec_intersect_x)\n",
    "        rec_y_min = min(rec_intersect_y)\n",
    "        rec_y_max = max(rec_intersect_y)\n",
    "        rec_width = rec_x_max - rec_x_min\n",
    "        rec_height = rec_y_max - rec_y_min\n",
    "        return Rectangle(rec_x_min, rec_y_min, rec_width, rec_height)\n",
    "    return Rectangle(0, 0, 0, 0)\n",
    "print intersecting_rectangle(r1, r2)"
   ]
  },
  {
   "cell_type": "code",
   "execution_count": null,
   "metadata": {
    "collapsed": true
   },
   "outputs": [],
   "source": []
  },
  {
   "cell_type": "markdown",
   "metadata": {},
   "source": [
    "### 7.2 String Base Conversion\n",
    ">Write a program that perfroms base conversion. The input is a string, an integer $b_1$, and another integer $b_2$.\n",
    "The string is the enconded number in base $b_1$ and you must convert it to base $b_2$. Assume $2\\le b_1,b_2 \\le 16$\n",
    ">>My initial approach is to convert the number in $b_1$ to base 10, then to convert from base 10 to $b_2$."
   ]
  },
  {
   "cell_type": "code",
   "execution_count": 159,
   "metadata": {
    "collapsed": false
   },
   "outputs": [
    {
     "data": {
      "text/plain": [
       "'-255'"
      ]
     },
     "execution_count": 159,
     "metadata": {},
     "output_type": "execute_result"
    }
   ],
   "source": [
    "def convert_base(num, b1, b2):\n",
    "    decimal = 0\n",
    "    is_negative = num[0] is '-'\n",
    "    if is_negative:\n",
    "        num = num[1:]\n",
    "    result = \"\"\n",
    "    for i, d in enumerate(num[::-1]):\n",
    "        decimal += int(d, b1) * b1**i\n",
    "    while(decimal):\n",
    "        result += str((decimal % b2))\n",
    "        decimal /= b2\n",
    "    if is_negative:\n",
    "        result += '-'\n",
    "    return result[::-1]\n",
    "convert_base(\"-FF\", 16, 10)"
   ]
  },
  {
   "cell_type": "markdown",
   "metadata": {},
   "source": [
    "#### Time complexity: "
   ]
  },
  {
   "cell_type": "markdown",
   "metadata": {},
   "source": [
    "### 7.3 - Compute the Spreadsheet Column Encoding\n",
    ">Implement a function that converts a spreadsheet column ID to the corresponding integer with \"A\" corresponding to 1. \n",
    ">>e.g \"D\"-->4, \"AA\"-->27, \"ZZ\"-->702\n",
    "\n",
    ">> \n",
    "Its easy just to think of the encoding as a base-26 number."
   ]
  },
  {
   "cell_type": "code",
   "execution_count": 1,
   "metadata": {
    "collapsed": false
   },
   "outputs": [
    {
     "data": {
      "text/plain": [
       "702"
      ]
     },
     "execution_count": 1,
     "metadata": {},
     "output_type": "execute_result"
    }
   ],
   "source": [
    "def decode_col(col):\n",
    "    res = 0\n",
    "    for i, l in enumerate(col[::-1]):\n",
    "        res += (ord(l) - 64)*(26**i)\n",
    "    return res\n",
    "decode_col(\"ZZ\")"
   ]
  },
  {
   "cell_type": "markdown",
   "metadata": {},
   "source": [
    "#### Time complexity: O(n)"
   ]
  },
  {
   "cell_type": "markdown",
   "metadata": {},
   "source": []
  }
 ],
 "metadata": {
  "kernelspec": {
   "display_name": "Python [Root]",
   "language": "python",
   "name": "Python [Root]"
  },
  "language_info": {
   "codemirror_mode": {
    "name": "ipython",
    "version": 3
   },
   "file_extension": ".py",
   "mimetype": "text/x-python",
   "name": "python",
   "nbconvert_exporter": "python",
   "pygments_lexer": "ipython3",
   "version": "3.5.2"
  }
 },
 "nbformat": 4,
 "nbformat_minor": 0
}

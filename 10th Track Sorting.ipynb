{
 "cells": [
  {
   "cell_type": "markdown",
   "metadata": {},
   "source": [
    "# Elements Of Programming Interviews\n",
    "## Sorting\n",
    "### Track 10: 14.1, 14.2, 14.3, 14.5, 14.7, 14.8, 14.10"
   ]
  },
  {
   "cell_type": "markdown",
   "metadata": {},
   "source": [
    "### 14.1 - Compute The Intersection Of Two Sorted Arrays\n",
    "Write a program that takes as input two sorted arrays, and returns a new array containing elements that are present in both of the input arrays. The input arrays may have duplicate entries, but the returned array should be free of duplicates.\n",
    "\n",
    "For example, the input: [2, 3, 3, 5, 5, 6, 7, 7, 8, 12] and [5, 5, 6, 8, 8, 9, 10, 10]\n",
    "\n",
    "Should return [5, 6, 8]"
   ]
  },
  {
   "cell_type": "code",
   "execution_count": 39,
   "metadata": {
    "collapsed": true
   },
   "outputs": [],
   "source": [
    "def intersect_two_sorted_arrays(arr1, arr2):\n",
    "    intersection = []\n",
    "    i = 0\n",
    "    j= 0\n",
    "    while i < len(arr1) and j < len(arr2):\n",
    "        if arr1[i] < arr2[j]:\n",
    "            i += 1\n",
    "        elif arr2[j] < arr1[i]:\n",
    "            j += 1\n",
    "        else: #arr[i] == arr[j]\n",
    "            #append elem to intersection if it isn't already there\n",
    "            if len(intersection) == 0:\n",
    "                intersection.append(arr1[i])\n",
    "            elif intersection[-1] != arr1[i]:\n",
    "                intersection.append(arr1[i])\n",
    "            i += 1\n",
    "            j += 1\n",
    "    return intersection"
   ]
  },
  {
   "cell_type": "code",
   "execution_count": 40,
   "metadata": {
    "collapsed": false
   },
   "outputs": [
    {
     "data": {
      "text/plain": [
       "([5, 6], [5, 6, 8])"
      ]
     },
     "execution_count": 40,
     "metadata": {},
     "output_type": "execute_result"
    }
   ],
   "source": [
    "(intersect_two_sorted_arrays([5, 5, 6, 8, 8], [2, 3, 3, 5, 6, 9]),\n",
    "intersect_two_sorted_arrays([2, 3, 3, 5, 5, 6, 7, 7, 8, 12],[5, 5, 6, 8, 8, 9, 10, 10] ))"
   ]
  }
 ],
 "metadata": {
  "anaconda-cloud": {},
  "kernelspec": {
   "display_name": "Python [Root]",
   "language": "python",
   "name": "Python [Root]"
  },
  "language_info": {
   "codemirror_mode": {
    "name": "ipython",
    "version": 3
   },
   "file_extension": ".py",
   "mimetype": "text/x-python",
   "name": "python",
   "nbconvert_exporter": "python",
   "pygments_lexer": "ipython3",
   "version": "3.5.2"
  }
 },
 "nbformat": 4,
 "nbformat_minor": 0
}

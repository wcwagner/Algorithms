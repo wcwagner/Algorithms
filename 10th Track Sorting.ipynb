{
 "cells": [
  {
   "cell_type": "markdown",
   "metadata": {},
   "source": [
    "# Elements Of Programming Interviews\n",
    "## Sorting\n",
    "### Track 10: 14.1, 14.2, 14.3, 14.5, 14.7, 14.8, 14.10"
   ]
  },
  {
   "cell_type": "markdown",
   "metadata": {},
   "source": [
    "### 14.1 - Compute The Intersection Of Two Sorted Arrays\n",
    "Write a program that takes as input two sorted arrays, and returns a new array containing elements that are present in both of the input arrays. The input arrays may have duplicate entries, but the returned array should be free of duplicates.\n",
    "\n",
    "For example, the input: [2, 3, 3, 5, 5, 6, 7, 7, 8, 12] and [5, 5, 6, 8, 8, 9, 10, 10]\n",
    "\n",
    "Should return [5, 6, 8]"
   ]
  },
  {
   "cell_type": "code",
   "execution_count": 39,
   "metadata": {
    "collapsed": true
   },
   "outputs": [],
   "source": [
    "def intersect_two_sorted_arrays(arr1, arr2):\n",
    "    intersection = []\n",
    "    i = 0\n",
    "    j= 0\n",
    "    while i < len(arr1) and j < len(arr2):\n",
    "        if arr1[i] < arr2[j]:\n",
    "            i += 1\n",
    "        elif arr2[j] < arr1[i]:\n",
    "            j += 1\n",
    "        else: #arr[i] == arr[j]\n",
    "            #append elem to intersection if it isn't already there\n",
    "            if len(intersection) == 0:\n",
    "                intersection.append(arr1[i])\n",
    "            elif intersection[-1] != arr1[i]:\n",
    "                intersection.append(arr1[i])\n",
    "            i += 1\n",
    "            j += 1\n",
    "    return intersection"
   ]
  },
  {
   "cell_type": "code",
   "execution_count": 41,
   "metadata": {
    "collapsed": false
   },
   "outputs": [
    {
     "data": {
      "text/plain": [
       "([5, 6], [5, 6, 8])"
      ]
     },
     "execution_count": 41,
     "metadata": {},
     "output_type": "execute_result"
    }
   ],
   "source": [
    "(intersect_two_sorted_arrays([5, 5, 6, 8, 8], [2, 3, 3, 5, 6, 9]),\n",
    "intersect_two_sorted_arrays([2, 3, 3, 5, 5, 6, 7, 7, 8, 12],[5, 5, 6, 8, 8, 9, 10, 10] ))"
   ]
  },
  {
   "cell_type": "markdown",
   "metadata": {},
   "source": [
    "### 14.2 - Implement Mergesort In Place\n",
    "Write a program which takes as input two sorted arrays of integers, and updates the first to the combined entries of the two arrays in sorted order. Assume the first array has enough empty entries at its end to hold the result.\n",
    "\n",
    "For example, if the input is: [5, 13, 17, None, None, None, None, None] and [3, 7, 11, 19]\n",
    "\n",
    "Then the output is: [3, 5, 7, 11, 13, 17, 19, None]"
   ]
  },
  {
   "cell_type": "code",
   "execution_count": 55,
   "metadata": {
    "collapsed": false
   },
   "outputs": [],
   "source": [
    "def shift_left(arr, shift):\n",
    "    for i in range(shift, len(arr)):\n",
    "        arr[i - shift] = arr[i]\n",
    "    return arr\n",
    "def in_place_merge_sort(arr1, arr2):\n",
    "    #should definitely be refactored, but the approach is correct\n",
    "    #so moving on\n",
    "    i = arr1.index(None) - 1\n",
    "    j = len(arr2) - 1\n",
    "    empty = len(arr1) - 1 - ((len(arr1) - i - 1) - len(arr2))\n",
    "    while i >= 0 and j >= 0:\n",
    "        if arr1[i] > arr2[j]:\n",
    "            arr1[empty] = arr1[i]\n",
    "            i -= 1\n",
    "        elif arr1[i] < arr2[j]:\n",
    "            arr1[empty] = arr2[j]\n",
    "            j -= 1\n",
    "        else: #arr1[i] == arr2[j]\n",
    "            arr1[empty] = arr1[i]\n",
    "            empty -= 1\n",
    "            arr1[empty] = arr2[j]\n",
    "            i -= 1\n",
    "            j -= 1\n",
    "        empty -= 1\n",
    "    #dump the second array if there were any values left\n",
    "    while j >= 0 or i >= 0:\n",
    "        arr1[empty] = arr2[j] if j >= 0 else arr1[i]\n",
    "        i -= 1\n",
    "        j -= 1\n",
    "        empty -= 1\n",
    "    \n",
    "    return arr1\n",
    "    "
   ]
  },
  {
   "cell_type": "code",
   "execution_count": 57,
   "metadata": {
    "collapsed": false
   },
   "outputs": [
    {
     "data": {
      "text/plain": [
       "([3, 5, 7, 11, 13, 17, 19], [1, 2, 3, 4, 5, 6, None])"
      ]
     },
     "execution_count": 57,
     "metadata": {},
     "output_type": "execute_result"
    }
   ],
   "source": [
    "(in_place_merge_sort([5, 13, 17, None, None, None, None],[3, 7, 11, 19] ),\n",
    " in_place_merge_sort([1,3,5, None, None, None, None], [2, 4, 6]))"
   ]
  },
  {
   "cell_type": "markdown",
   "metadata": {},
   "source": [
    "### 14.3 - Count Frequencies Of Characters In A Sentence\n",
    "Given a srting, print in alphabetical order each character that appears in the string and the number of times that it appears. \n",
    "\n",
    "For example, if the string is: \"bcdacebe\"\n",
    "\n",
    "Then the output should be: \"(a,1), (b,2), (c,2), (d,1), (e,2)\""
   ]
  },
  {
   "cell_type": "code",
   "execution_count": 76,
   "metadata": {
    "collapsed": true
   },
   "outputs": [],
   "source": [
    "def count_char_freq_bf(sentence):\n",
    "    #better on time complexity, worse on space\n",
    "    char_to_freq= {}\n",
    "    for char in sentence:\n",
    "        if char in char_to_freq:\n",
    "            char_to_freq[char] += 1\n",
    "        else:\n",
    "            char_to_freq[char] = 1\n",
    "    #now need to get the values out of the hashtable alphabetically\n",
    "    sorted_keys = sorted(char_to_freq.keys())\n",
    "    for key in sorted_keys:\n",
    "        print(\"({0},{1})\".format(key, char_to_freq[key]), sep=\",\", end=\"\")"
   ]
  },
  {
   "cell_type": "code",
   "execution_count": 75,
   "metadata": {
    "collapsed": false
   },
   "outputs": [
    {
     "name": "stdout",
     "output_type": "stream",
     "text": [
      "(a,1)(b,2)(c,2)(d,1)(e,2)"
     ]
    }
   ],
   "source": [
    "count_char_freq_bf(\"bcdacebe\")"
   ]
  },
  {
   "cell_type": "code",
   "execution_count": 81,
   "metadata": {
    "collapsed": true
   },
   "outputs": [],
   "source": [
    "def count_char_freq(sentence):\n",
    "    sentence = sorted(sentence)\n",
    "    curr_char_count = 1\n",
    "    for i in range(1, len(sentence)):\n",
    "        if sentence[i] == sentence[i - 1]:\n",
    "            curr_char_count += 1\n",
    "        else:\n",
    "            print(\"({0},{1})\".format(sentence[i - 1], curr_char_count),\n",
    "                 end=\",\")\n",
    "            curr_char_count = 1\n",
    "    print(\"({0},{1})\".format(sentence[-1], curr_char_count))"
   ]
  },
  {
   "cell_type": "code",
   "execution_count": 83,
   "metadata": {
    "collapsed": false
   },
   "outputs": [
    {
     "name": "stdout",
     "output_type": "stream",
     "text": [
      "(a,1),(b,2),(c,2),(d,1),(e,2)\n"
     ]
    }
   ],
   "source": [
    "count_char_freq(\"bcdacebe\")"
   ]
  },
  {
   "cell_type": "code",
   "execution_count": null,
   "metadata": {
    "collapsed": true
   },
   "outputs": [],
   "source": []
  }
 ],
 "metadata": {
  "anaconda-cloud": {},
  "kernelspec": {
   "display_name": "Python [Root]",
   "language": "python",
   "name": "Python [Root]"
  },
  "language_info": {
   "codemirror_mode": {
    "name": "ipython",
    "version": 3
   },
   "file_extension": ".py",
   "mimetype": "text/x-python",
   "name": "python",
   "nbconvert_exporter": "python",
   "pygments_lexer": "ipython3",
   "version": "3.5.2"
  }
 },
 "nbformat": 4,
 "nbformat_minor": 0
}

{
 "cells": [
  {
   "cell_type": "markdown",
   "metadata": {},
   "source": [
    "# Elements Of Programming Interviews\n",
    "## Searching Algorithms\n",
    "### Track 8: 12.1, 12.4, 12.5, 12.6, 12.7, 12.8, 12.9, 12.11, 12.12"
   ]
  },
  {
   "cell_type": "markdown",
   "metadata": {},
   "source": [
    "### 12.1 - Search A Sorted Array For The First Occurence Of K\n",
    ">Write a method that takes a sorted array and a key and returns the index of the *first* occurence of that key in the array.\n",
    "\n",
    "First a basic binary search"
   ]
  },
  {
   "cell_type": "code",
   "execution_count": 1,
   "metadata": {
    "collapsed": true
   },
   "outputs": [],
   "source": [
    "def binary_search(arr, k):\n",
    "    s = 0; e = len(arr) - 1\n",
    "    #s:start_index, e:end_index, m:middle_index\n",
    "    while s <= e:\n",
    "        m = int(s + (e - s) / 2)\n",
    "        if arr[m] < k:\n",
    "            s = m + 1\n",
    "        elif arr[m] == k:\n",
    "            return m\n",
    "        else:\n",
    "            e = m - 1\n",
    "    return -1"
   ]
  },
  {
   "cell_type": "code",
   "execution_count": 2,
   "metadata": {
    "collapsed": false
   },
   "outputs": [
    {
     "data": {
      "text/plain": [
       "(2, -1)"
      ]
     },
     "execution_count": 2,
     "metadata": {},
     "output_type": "execute_result"
    }
   ],
   "source": [
    "binary_search(range(10), 2), binary_search(range(0,10,2), 3)"
   ]
  },
  {
   "cell_type": "markdown",
   "metadata": {},
   "source": [
    "I can use a basic binary search, once I find a key, then all the other equivalent keys must be directly adjacent to the curr index. The slower way to find the first index would be to loop backwards until the last occurence of the key is found. A better implementation would be to continue the binary search."
   ]
  },
  {
   "cell_type": "code",
   "execution_count": 3,
   "metadata": {
    "collapsed": true
   },
   "outputs": [],
   "source": [
    "def first_occurence_bf(arr, k):\n",
    "    s = 0; e = len(arr) - 1\n",
    "    #s:start_index, e:end_index, m:middle_index\n",
    "    while s <= e:\n",
    "        m = int(s + (e - s) / 2)\n",
    "        if arr[m] < k:\n",
    "            s = m + 1\n",
    "        elif arr[m] == k:\n",
    "            while m > 0 and arr[m - 1] == k:\n",
    "                m -= 1\n",
    "            return m\n",
    "        else:\n",
    "            e = m - 1\n",
    "    return -1"
   ]
  },
  {
   "cell_type": "code",
   "execution_count": 4,
   "metadata": {
    "collapsed": false
   },
   "outputs": [
    {
     "data": {
      "text/plain": [
       "1"
      ]
     },
     "execution_count": 4,
     "metadata": {},
     "output_type": "execute_result"
    }
   ],
   "source": [
    "first_occurence_bf([0, 2, 2, 2, 2, 2, 2, 3, 4, 5, 6, 7], 2)"
   ]
  },
  {
   "cell_type": "code",
   "execution_count": 5,
   "metadata": {
    "collapsed": true
   },
   "outputs": [],
   "source": [
    "def first_occurence(arr, k):\n",
    "    start = 0; end = len(arr) - 1\n",
    "    #s:start_index, e:end_index, m:middle_index\n",
    "    looking_for_first = False\n",
    "    result = -1\n",
    "    while start <= end:\n",
    "        mid = int(start + (end - start) / 2)\n",
    "        if arr[mid] < k:\n",
    "            start = mid + 1\n",
    "        elif arr[mid] == k:\n",
    "            result = mid\n",
    "            end = mid - 1\n",
    "        else: #arr[mid] < k\n",
    "            end = mid - 1\n",
    "    return result"
   ]
  },
  {
   "cell_type": "code",
   "execution_count": 6,
   "metadata": {
    "collapsed": false
   },
   "outputs": [
    {
     "data": {
      "text/plain": [
       "(2, -1, 0, 4, 0)"
      ]
     },
     "execution_count": 6,
     "metadata": {},
     "output_type": "execute_result"
    }
   ],
   "source": [
    "(first_occurence([1, 2, 3, 3, 3, 3, 3, 5, 6, 7, 8], 3),\n",
    " first_occurence([0], 1), first_occurence([1,1,1,1,1,1,1,1,1,1], 1),\n",
    " first_occurence([1, 2, 3, 5, 6, 6, 6, 6], 6),\n",
    " first_occurence([2]* 500000, 2)\n",
    ")"
   ]
  },
  {
   "cell_type": "markdown",
   "metadata": {},
   "source": [
    "The difference in speed between the two methods is very noticeable"
   ]
  },
  {
   "cell_type": "code",
   "execution_count": 7,
   "metadata": {
    "collapsed": false
   },
   "outputs": [
    {
     "name": "stdout",
     "output_type": "stream",
     "text": [
      "100 loops, best of 3: 2.53 ms per loop\n"
     ]
    }
   ],
   "source": [
    "%timeit first_occurence([2] * 1000000, 2)"
   ]
  },
  {
   "cell_type": "code",
   "execution_count": 8,
   "metadata": {
    "collapsed": false
   },
   "outputs": [
    {
     "name": "stdout",
     "output_type": "stream",
     "text": [
      "10 loops, best of 3: 85.8 ms per loop\n"
     ]
    }
   ],
   "source": [
    "%timeit first_occurence_bf([2] * 1000000, 2)"
   ]
  },
  {
   "cell_type": "markdown",
   "metadata": {},
   "source": [
    "### 12.4 - Search A Cyclically Sorted Array\n",
    "An array is said to be cyclically sorted if it is possible to cyclically shift its entries so that it becomes sorted.\n",
    "For example:\n",
    ">[378, 478, 550, 631, 103, 203, 220, 234, 279, 368]\n",
    "\n",
    "is cyclically sorted--a cyclic left shift by 4 leads to a sorted array.\n",
    "\n",
    "Design an $O(logn)$ algorithm for finding the position of the samllest element in a cyclically sorted array. Assume all elements are **distinct**. For example, for the array example above, the algorithm should return 4 (the index of 103)."
   ]
  },
  {
   "cell_type": "markdown",
   "metadata": {},
   "source": [
    "First I want to find the size of the cycles in the array."
   ]
  },
  {
   "cell_type": "code",
   "execution_count": 9,
   "metadata": {
    "collapsed": false
   },
   "outputs": [],
   "source": [
    "def find_smallest_rec(arr):\n",
    "    if len(arr) == 0:\n",
    "        return None\n",
    "    else:\n",
    "        return smallest_helper(arr, 0, len(arr) - 1)\n",
    "\n",
    "def smallest_helper_rec(arr, left, right):\n",
    "    #from IPython.core.debugger import Tracer    \n",
    "    #Tracer()()\n",
    "    if right - left == 1:\n",
    "        return arr[right]\n",
    "    else:\n",
    "        mid = int(left + (right - left) / 2)\n",
    "        if arr[mid] < arr[right]:\n",
    "            right = mid\n",
    "        elif arr[mid] > arr[right]:\n",
    "            left = mid\n",
    "        return smallest_helper(arr, left, right)"
   ]
  },
  {
   "cell_type": "code",
   "execution_count": 10,
   "metadata": {
    "collapsed": true
   },
   "outputs": [],
   "source": [
    "def find_smallest(arr):\n",
    "    left = 0; right = len(arr) - 1\n",
    "    while left < right:\n",
    "        mid = int(left + (right - left) / 2)\n",
    "        if arr[mid] < arr[right]:\n",
    "            # min must be in [left : mid]\n",
    "            right = mid\n",
    "        elif arr[mid] > arr[right]:\n",
    "            # min must be in [mid + 1 : right]\n",
    "            left = mid + 1\n",
    "    return (\"Index:\", left, \"Val:\", arr[left])"
   ]
  },
  {
   "cell_type": "code",
   "execution_count": 11,
   "metadata": {
    "collapsed": false
   },
   "outputs": [
    {
     "data": {
      "text/plain": [
       "(('Index:', 2, 'Val:', 1), ('Index:', 50, 'Val:', 1))"
      ]
     },
     "execution_count": 11,
     "metadata": {},
     "output_type": "execute_result"
    }
   ],
   "source": [
    "find_smallest([5,6,1,2]), find_smallest(list(range(50,100)) + list(range(1, 25)))"
   ]
  },
  {
   "cell_type": "markdown",
   "metadata": {},
   "source": [
    "### 12.5 - Compute The Integer Square Root\n",
    "Write a program which takes a nonnegative integer and returns the largest integer whose square is less than or equal to the given integer. For exaple, \n",
    "\n",
    "e.g. if the input is 16, return 4;\n",
    "\n",
    "e.g. if the input is 300, return 17, since $17^2 = 289$ and $18^2 = 324 > 300$\n",
    "\n",
    ">obvious brute force solution is iterate through a range, calculating the square for each succesive number"
   ]
  },
  {
   "cell_type": "code",
   "execution_count": 12,
   "metadata": {
    "collapsed": true
   },
   "outputs": [],
   "source": [
    "def integer_square_root_bf(num):\n",
    "    counter = 0\n",
    "    while True:\n",
    "        if counter ** 2 > num:\n",
    "            break\n",
    "        counter += 1\n",
    "    return counter - 1"
   ]
  },
  {
   "cell_type": "code",
   "execution_count": 13,
   "metadata": {
    "collapsed": false
   },
   "outputs": [
    {
     "data": {
      "text/plain": [
       "(17, 4)"
      ]
     },
     "execution_count": 13,
     "metadata": {},
     "output_type": "execute_result"
    }
   ],
   "source": [
    "integer_square_root_bf(300), integer_square_root_bf(16)"
   ]
  },
  {
   "cell_type": "markdown",
   "metadata": {},
   "source": [
    ">next idea is to double the counter at every loop. Once the counter squared is greater than the passed in number, check the values between the previous counter value and the current counter value."
   ]
  },
  {
   "cell_type": "code",
   "execution_count": 14,
   "metadata": {
    "collapsed": true
   },
   "outputs": [],
   "source": [
    "def find_root_in_range(num, start, end):\n",
    "    for i in range(start, end+1):\n",
    "        if i ** 2 > num:\n",
    "            return i - 1\n",
    "def integer_square_root_bf_2(num):\n",
    "    prev = 1; counter = 1\n",
    "    while True:\n",
    "        if counter ** 2 > num:\n",
    "            ret = find_root_in_range(num, prev, counter)\n",
    "            break\n",
    "        prev = counter\n",
    "        counter = counter * 2\n",
    "    return ret"
   ]
  },
  {
   "cell_type": "code",
   "execution_count": 15,
   "metadata": {
    "collapsed": false
   },
   "outputs": [
    {
     "name": "stdout",
     "output_type": "stream",
     "text": [
      "1 loop, best of 3: 2.29 s per loop\n"
     ]
    }
   ],
   "source": [
    "#sqrt(42353243) == 6507.9369\n",
    "%timeit integer_square_root_bf(42353243534555)"
   ]
  },
  {
   "cell_type": "code",
   "execution_count": 16,
   "metadata": {
    "collapsed": false
   },
   "outputs": [
    {
     "name": "stdout",
     "output_type": "stream",
     "text": [
      "1 loop, best of 3: 783 ms per loop\n"
     ]
    }
   ],
   "source": [
    "%timeit integer_square_root_bf_2(42353243534555)"
   ]
  },
  {
   "cell_type": "markdown",
   "metadata": {},
   "source": [
    ">next approach utilizes a few key insights\n",
    "* If $x^2 > k$, then all values greater than x are not candidates\n",
    "* If $x^2 < k$, then all values less than x are not candidates\n",
    "* the ability to eliminate large amounts of candidates can improve preformance siginifcantly\n",
    "\n",
    "1. Initialize a range of candidates [0, k]\n",
    "2. Pick a val  in the middle $[(right - left) / 2]$\n",
    "    * If $val^2 > k$, change range of candidates to [start, val-1]\n",
    "    * If $val^2 < k$, change range of candidates to [val+1, end]"
   ]
  },
  {
   "cell_type": "code",
   "execution_count": 17,
   "metadata": {
    "collapsed": true
   },
   "outputs": [],
   "source": [
    "def integer_square_root(k):\n",
    "    candidates = range(0, k + 1)\n",
    "    left = 0; right = k\n",
    "    #once the right and left indicies are adjacent, the left will point at the res\n",
    "    while left <= right:\n",
    "        middle = int(left + (right - left) / 2)\n",
    "        #candidates[middle] equal middle\n",
    "        squared = middle ** 2\n",
    "        if squared > k:\n",
    "            right = middle - 1\n",
    "        else: # squared ** 2 <= k:\n",
    "            left = middle + 1\n",
    "    return left - 1"
   ]
  },
  {
   "cell_type": "code",
   "execution_count": 18,
   "metadata": {
    "collapsed": false
   },
   "outputs": [
    {
     "data": {
      "text/plain": [
       "(6507, 0, 4)"
      ]
     },
     "execution_count": 18,
     "metadata": {},
     "output_type": "execute_result"
    }
   ],
   "source": [
    "integer_square_root(42353243), integer_square_root(0), integer_square_root(16)"
   ]
  },
  {
   "cell_type": "markdown",
   "metadata": {},
   "source": [
    "The difference in preformance between these 3 approaches"
   ]
  },
  {
   "cell_type": "code",
   "execution_count": 19,
   "metadata": {
    "collapsed": false
   },
   "outputs": [
    {
     "name": "stdout",
     "output_type": "stream",
     "text": [
      "1 loop, best of 3: 2.25 s per loop\n",
      "1 loop, best of 3: 800 ms per loop\n",
      "10000 loops, best of 3: 35.3 µs per loop\n"
     ]
    }
   ],
   "source": [
    "%timeit integer_square_root_bf(42353243534555)\n",
    "%timeit integer_square_root_bf_2(42353243534555)\n",
    "%timeit integer_square_root(42353243534555)"
   ]
  },
  {
   "cell_type": "markdown",
   "metadata": {},
   "source": [
    "### 12.6 - Compute The Real Square Root\n",
    "Square root computations can be implemented using sophisticated numerical techniques involving iterative methods and logarithms. However, if you were asked to implement a square root funciton, you would not be expceted to know these techniques.\n",
    "\n",
    "Implement a funcition which takes as input a floating point value and returns the square root.\n",
    "\n",
    "Approach is as follows:"
   ]
  },
  {
   "cell_type": "code",
   "execution_count": 20,
   "metadata": {
    "collapsed": false
   },
   "outputs": [],
   "source": [
    "from numpy import arange\n",
    "from math import sqrt\n",
    "def get_root_in_interval(k, lval, rval):\n",
    "    step = (rval - lval)/ 10\n",
    "    candidates = arange(lval, rval+1, step)\n",
    "    left = 0; right = 9\n",
    "    while left <= right:\n",
    "        middle = int(left + (right - left) / 2)\n",
    "        squared = candidates[middle] ** 2\n",
    "        if squared > k:\n",
    "            right = middle - 1\n",
    "        else:\n",
    "            left = middle + 1\n",
    "    return candidates[left - 1], candidates[left]\n",
    "            \n",
    "def compute_square_root(k):\n",
    "    left = 0; right = k\n",
    "    #want to generate result with precision of 8\n",
    "    for _ in range(8):\n",
    "        left, right = get_root_in_interval(k, left, right)\n",
    "    return left"
   ]
  },
  {
   "cell_type": "code",
   "execution_count": 21,
   "metadata": {
    "collapsed": false
   },
   "outputs": [
    {
     "data": {
      "text/plain": [
       "(2.2360679499999998, 2.23606797749979)"
      ]
     },
     "execution_count": 21,
     "metadata": {},
     "output_type": "execute_result"
    }
   ],
   "source": [
    "compute_square_root(5), sqrt(5)"
   ]
  },
  {
   "cell_type": "markdown",
   "metadata": {},
   "source": [
    "### 12.7 - Search In A 2D Sorted Array\n",
    "Call a 2D array sorted if its rows and columns are sorted in increasing sorted order. \n",
    "\n",
    "See example below:\n",
    "\n",
    "\n",
    "<img src='Images/sorted_matrix.png'>\n",
    "\n",
    "Design an algorithm that takes a 2D sorted array and a number and checks wheter that number appears in the array."
   ]
  },
  {
   "cell_type": "code",
   "execution_count": 22,
   "metadata": {
    "collapsed": false
   },
   "outputs": [],
   "source": [
    "def search_matrix_basic(matrix, k):\n",
    "    for row in matrix:\n",
    "        for col in row:\n",
    "            if col == k:\n",
    "                return True\n",
    "    return False"
   ]
  },
  {
   "cell_type": "code",
   "execution_count": 23,
   "metadata": {
    "collapsed": false
   },
   "outputs": [],
   "source": [
    "matrix = [[1, 4, 7, 11, 15],\n",
    "          [2, 5, 8, 12, 19],\n",
    "          [3, 6, 9, 16, 22],\n",
    "          [10, 13, 14, 17, 24],\n",
    "          [18, 21, 23, 26, 30]]"
   ]
  },
  {
   "cell_type": "markdown",
   "metadata": {},
   "source": [
    "You could do a binary search on each row in the matrix, for $O(nlogn)$ complexity\n",
    "\n",
    "For any element $n$, at matrix[r][c]\n",
    "* The elements in matrix[0:r+1][0:c+1] are smaller than $n$\n",
    "* The elements in matrix[r:-1][c:-1] are bigger than $n$"
   ]
  },
  {
   "cell_type": "code",
   "execution_count": 24,
   "metadata": {
    "collapsed": false
   },
   "outputs": [],
   "source": [
    "def search_matrix_binary(matrix, k):\n",
    "    for row in matrix:\n",
    "        if binary_search(row, k) != -1:\n",
    "            return True\n",
    "    return False"
   ]
  },
  {
   "cell_type": "code",
   "execution_count": 25,
   "metadata": {
    "collapsed": true
   },
   "outputs": [],
   "source": [
    "big_matrix = [[0 for x in range(1000)] for y in range(1000)]"
   ]
  },
  {
   "cell_type": "code",
   "execution_count": 26,
   "metadata": {
    "collapsed": true
   },
   "outputs": [],
   "source": [
    "#similar to last apporach of doing binary search on each row, but we can binarily\n",
    "#eliminate rows as well\n",
    "def search_matrix(matrix, k):\n",
    "    n_rows = len(matrix);\n",
    "    n_cols = len(matrix[0])\n",
    "    row = 0; col = n_cols - 1\n",
    "    while row < n_rows and col >= 0:\n",
    "        val = matrix[row][col]\n",
    "        if val > k:\n",
    "            col -= 1\n",
    "        elif val < k:\n",
    "            row += 1\n",
    "        else:\n",
    "            return True\n",
    "    return False\n",
    "            "
   ]
  },
  {
   "cell_type": "code",
   "execution_count": 27,
   "metadata": {
    "collapsed": false
   },
   "outputs": [
    {
     "name": "stdout",
     "output_type": "stream",
     "text": [
      "10 loops, best of 3: 27.8 ms per loop\n",
      "100 loops, best of 3: 5.14 ms per loop\n",
      "1000 loops, best of 3: 241 µs per loop\n"
     ]
    }
   ],
   "source": [
    "%timeit search_matrix_basic(big_matrix, 985)\n",
    "%timeit search_matrix_binary(big_matrix, 985)\n",
    "%timeit search_matrix(big_matrix, 985)"
   ]
  },
  {
   "cell_type": "markdown",
   "metadata": {},
   "source": [
    "### 12.8 - Find The Min And Max Simultaneously\n",
    "Given an array of comparables, you can find either the *min* or the *max* of the elements in the array with $n-1$ comparisons, where $n$ is the length of the array. Comparing elements may be expensive. Therefore, it's natural to ask if both the *min* and the *max* can be found with less than $2(n-1)$ comparisons. \n",
    "\n",
    "Design an algorithm to find the *min* and *max* elements in an array.\n",
    "\n",
    "e.g. [3, 2, 5, 1, 2, 4] returns 1 for the *min* and 5 for the *max*"
   ]
  },
  {
   "cell_type": "code",
   "execution_count": 28,
   "metadata": {
    "collapsed": false
   },
   "outputs": [],
   "source": [
    "def find_min_and_max_bf(arr):\n",
    "    min_ = arr[0]\n",
    "    max_ = arr[0]\n",
    "    for ix in range(1,len(arr)):\n",
    "        if arr[ix] < min_:\n",
    "            #when updating min, don't need to check for max\n",
    "            min_ = arr[ix]\n",
    "        elif arr[ix] > max_:\n",
    "            max_ = arr[ix]"
   ]
  },
  {
   "cell_type": "code",
   "execution_count": 29,
   "metadata": {
    "collapsed": true
   },
   "outputs": [],
   "source": [
    "def find_min_and_max(arr):\n",
    "    max_ = 0; min_ = 0\n",
    "    pairs = range(0, len(arr), 2) if len(arr) % 2 == 0 else range(0, len(arr) - 1, 2)\n",
    "    for i in pairs:\n",
    "        if not max_ and not min_:\n",
    "            if arr[i] > arr[i + 1]:\n",
    "                min_, max_ = arr[i + 1], arr[i]\n",
    "            else:\n",
    "                min_, max_ = arr[i], arr[i + 1]\n",
    "        elif arr[i] < arr[i + 1]:\n",
    "            max_ = max(max_, arr[i + 1])\n",
    "            min_ = min(min_, arr[i])\n",
    "        else:\n",
    "            max_ = max(max_, arr[i])\n",
    "            min_ = min(min_, arr[i + 1])\n",
    "    if len(arr) % 2:\n",
    "        #need to check last val\n",
    "        max_ = max(max_, arr[len(arr) - 1])\n",
    "        min_ = min(min_, arr[len(arr) - 1])\n",
    "    return (min_, max_)"
   ]
  },
  {
   "cell_type": "code",
   "execution_count": 30,
   "metadata": {
    "collapsed": false
   },
   "outputs": [
    {
     "data": {
      "text/plain": [
       "(1, 5)"
      ]
     },
     "execution_count": 30,
     "metadata": {},
     "output_type": "execute_result"
    }
   ],
   "source": [
    "find_min_and_max([3,2,5,1,2,4])"
   ]
  },
  {
   "cell_type": "markdown",
   "metadata": {},
   "source": [
    "### 12.9 - Find Kth Largest Element\n",
    "Design an algorithm for computing the $kth$ largest element in an array. Assume entries are distinct.\n",
    "\n",
    "Brute Force- sort array and then get corresponding element"
   ]
  },
  {
   "cell_type": "code",
   "execution_count": 31,
   "metadata": {
    "collapsed": true
   },
   "outputs": [],
   "source": [
    "def kth_largest_bf(arr, k):\n",
    "    \"\"\"brute force solution to kth largest\"\"\"\n",
    "    if k > len(arr):\n",
    "        return None\n",
    "    l = sorted(arr, reverse=True)\n",
    "    return l[k-1]\n",
    "    "
   ]
  },
  {
   "cell_type": "markdown",
   "metadata": {},
   "source": [
    "Select a pivot value at random in the array.\n",
    "* If there are $k-1$ elements greater than the pivot, then the pivot is $kth$ largest\n",
    "* If more than $k-1$ elements greater than the pivot then discard the elements less\n",
    "  than the pivot, and pick a new one greater than.\n",
    "* If less than $k-1$ elements greater than pivot, pick a new one out of the values\n",
    "  less than the pivot"
   ]
  },
  {
   "cell_type": "code",
   "execution_count": 32,
   "metadata": {
    "collapsed": false
   },
   "outputs": [
    {
     "data": {
      "text/plain": [
       "5"
      ]
     },
     "execution_count": 32,
     "metadata": {},
     "output_type": "execute_result"
    }
   ],
   "source": [
    "kth_largest_bf([1,2,3,4,5,6,7,8,9], 5)"
   ]
  },
  {
   "cell_type": "code",
   "execution_count": 33,
   "metadata": {
    "collapsed": false
   },
   "outputs": [],
   "source": [
    "#come back to refactor\n",
    "from random import randint\n",
    "def pivot_sort(arr, left, right):\n",
    "    pivot_ix = randint(left, right)\n",
    "    pivot = arr[pivot_ix]\n",
    "    while True:\n",
    "        while arr[left] < pivot:\n",
    "            left += 1\n",
    "        while arr[right] > pivot:\n",
    "            right -= 1\n",
    "        if left < right:\n",
    "            if arr[left] == pivot:\n",
    "                pivot_ix = right\n",
    "            elif arr[right] == pivot:\n",
    "                pivot_ix = left\n",
    "            arr[left], arr[right] = arr[right], arr[left]\n",
    "        else:\n",
    "            break\n",
    "    return pivot_ix\n",
    "\n",
    "def kth_largest(arr, k):\n",
    "    left = 0\n",
    "    right = len(arr) - 1\n",
    "    while True:\n",
    "        pivot_ix = pivot_sort(arr, left, right)\n",
    "        if len(arr) - pivot_ix > k:\n",
    "            #pivot is too small, repivot\n",
    "            left = pivot_ix\n",
    "        elif len(arr) - pivot_ix < k:\n",
    "            #pivot too big, repivot\n",
    "            right = pivot_ix - 1\n",
    "        else:\n",
    "            return arr[pivot_ix]"
   ]
  },
  {
   "cell_type": "code",
   "execution_count": 34,
   "metadata": {
    "collapsed": false
   },
   "outputs": [
    {
     "data": {
      "text/plain": [
       "100"
      ]
     },
     "execution_count": 34,
     "metadata": {},
     "output_type": "execute_result"
    }
   ],
   "source": [
    "kth_largest([9, 10,100,99, 3, 4, 56, 2] , 1)"
   ]
  },
  {
   "cell_type": "code",
   "execution_count": 35,
   "metadata": {
    "collapsed": false
   },
   "outputs": [
    {
     "name": "stdout",
     "output_type": "stream",
     "text": [
      "100 loops, best of 3: 9.35 ms per loop\n",
      "100 loops, best of 3: 18.6 ms per loop\n"
     ]
    }
   ],
   "source": [
    "from numpy.random import randn\n",
    "%timeit kth_largest_bf(randn(20000), 18)\n",
    "%timeit kth_largest(randn(20000), 18)"
   ]
  },
  {
   "cell_type": "markdown",
   "metadata": {},
   "source": [
    "### 12.11 - Find The Missing IP Address\n",
    "Suppose you were given a file containing roughly one billion IP addresses, each of which is a 32-bit unisgned integer. How would you programatically find an IP address that is not in the file? Assume you have unlimited drive space, but only a few megabytes of RAM at your disposal.\n",
    "\n",
    "Could use a hashtable, then enumerate until a missing val is found, but this requires too much overhead.\n",
    "\n",
    "Another approach is to keep a bit array of size $2^{32}$ bits, all initialized to 0. Then loop thorugh the IP addresses, marking a 1 at each bit that correspons to the IP address in the file."
   ]
  },
  {
   "cell_type": "code",
   "execution_count": 36,
   "metadata": {
    "collapsed": false
   },
   "outputs": [],
   "source": [
    "from bitarray import bitarray\n",
    "import numpy as np\n",
    "def find_missing_ip(filename):\n",
    "    counter0 = 0\n",
    "    counter1 = 0\n",
    "    k_bit_counts = np.zeros(2**16) \n",
    "    with open(filename, 'r') as f:\n",
    "        for num in f:\n",
    "            k_bit_counts[int(num) >> 16] += 1\n",
    "        for k_bit_prefix, count in enumerate(k_bit_counts):\n",
    "            #there is a ip address w/ this prefix missing\n",
    "            if count < 2 ** 16:\n",
    "                missing_ip_prefix = k_bit_prefix\n",
    "                break\n",
    "        #use a bitarray to store the existing nums\n",
    "        #w/ the missing_ip_prefix\n",
    "        bitarr = bitarray(2 ** 16)\n",
    "        f.seek(0)\n",
    "        for num in f:\n",
    "            if int(num) >> 16 == missing_ip_prefix:\n",
    "                bitarr[int(num) & 65535] = True\n",
    "        #find the missing val in the bit arr, and calculate the prefix prepended to val\n",
    "        for i, b in enumerate(bitarr):\n",
    "            if not b:\n",
    "                return int((bin(missing_ip_prefix)[2:] + bin(i)[2:]), 2)\n",
    "    return None"
   ]
  },
  {
   "cell_type": "code",
   "execution_count": 37,
   "metadata": {
    "collapsed": false
   },
   "outputs": [
    {
     "data": {
      "text/plain": [
       "6"
      ]
     },
     "execution_count": 37,
     "metadata": {},
     "output_type": "execute_result"
    }
   ],
   "source": [
    "find_missing_ip('Misc/numbers.txt')"
   ]
  },
  {
   "cell_type": "markdown",
   "metadata": {
    "collapsed": false
   },
   "source": [
    "### 12.12 - Find The Duplicate And Missing Elements\n",
    "You are given an array of $n$ integers, each between $0$ and $n - 1$ inclusive. Exactly one element appears twice, implying that exactly one number between $0$ and $n - 1$ is missing from the array. How would you compute the duplicate and missing numbers."
   ]
  },
  {
   "cell_type": "code",
   "execution_count": 38,
   "metadata": {
    "collapsed": true
   },
   "outputs": [],
   "source": [
    "from bitarray import bitarray\n",
    "def find_dupe_and_missing_elems_bf(arr):\n",
    "    n = len(arr)\n",
    "    actual_sum = sum(arr)\n",
    "    expected_sum = (n * (n-1)) / 2\n",
    "    bitarr = bitarray(n)\n",
    "    #bitarray to mark which vals appear in the arr\n",
    "    for num in arr:\n",
    "        bitarr[num] = True\n",
    "    missing_val = None\n",
    "    #find the value that is missing\n",
    "    for index, bit in enumerate(bitarr):\n",
    "        if not bit:\n",
    "            missing_val = index\n",
    "    duplicate_value = (actual_sum + missing_val) - expected_sum\n",
    "    return missing_val, duplicate_value"
   ]
  },
  {
   "cell_type": "code",
   "execution_count": 39,
   "metadata": {
    "collapsed": false
   },
   "outputs": [],
   "source": [
    "def find_dupe_and_missing_elems(arr):\n",
    "    n = len(arr)\n",
    "    miss_dup_sum = sum(arr)\n",
    "    normal_arr_sum = (n * (n - 1) / 2)\n",
    "    normal_arr = range(n)\n",
    "    miss_XOR_dup = 0\n",
    "    #compute the xors from both arrs\n",
    "    for i in range(n):\n",
    "        miss_XOR_dup ^= i ^ arr[i]\n",
    "    #find the differing bits between the missing and dupe value\n",
    "    #find first set bit to subset vals to check\n",
    "    kth_bit = 0\n",
    "    while not miss_XOR_dup & 1:\n",
    "        count += 1\n",
    "        miss_XOR_dup = miss_XOR_dup >> 1\n",
    "    mask = 1 << kth_bit\n",
    "    #now loop through both arrs, only XORing vals with the kth bit set\n",
    "    #this will allow us to single out either the missing or dupe val\n",
    "    miss_or_dup = 0\n",
    "    for i in range(n):\n",
    "        if arr[i] & mask:\n",
    "            miss_or_dup ^= arr[i]\n",
    "        if normal_arr[i] & mask:\n",
    "            miss_or_dup ^= normal_arr[i]\n",
    "    if miss_or_dup in arr:\n",
    "        #miss_or_dup is duplicate\n",
    "        missing_val = normal_arr_sum - (miss_dup_sum - miss_or_dup)\n",
    "        duplicate_val = miss_or_dup\n",
    "    else:\n",
    "        #miss_or_dup is missing\n",
    "        duplicate_val = (miss_dup_sum + miss_or_dup) - normal_arr_sum\n",
    "        missing_val = miss_or_dup\n",
    "    return missing_val, duplicate_val"
   ]
  },
  {
   "cell_type": "code",
   "execution_count": 40,
   "metadata": {
    "collapsed": false
   },
   "outputs": [
    {
     "data": {
      "text/plain": [
       "(0.0, 5)"
      ]
     },
     "execution_count": 40,
     "metadata": {},
     "output_type": "execute_result"
    }
   ],
   "source": [
    "find_dupe_and_missing_elems([1,2,3,4,5,5])"
   ]
  }
 ],
 "metadata": {
  "anaconda-cloud": {},
  "kernelspec": {
   "display_name": "Python [Root]",
   "language": "python",
   "name": "Python [Root]"
  },
  "language_info": {
   "codemirror_mode": {
    "name": "ipython",
    "version": 3
   },
   "file_extension": ".py",
   "mimetype": "text/x-python",
   "name": "python",
   "nbconvert_exporter": "python",
   "pygments_lexer": "ipython3",
   "version": "3.5.2"
  }
 },
 "nbformat": 4,
 "nbformat_minor": 0
}

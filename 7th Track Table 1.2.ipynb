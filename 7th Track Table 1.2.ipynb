{
 "cells": [
  {
   "cell_type": "markdown",
   "metadata": {},
   "source": [
    "# Elements of Programming Interviews\n",
    "## Heaps\n",
    "### Track 7: 11.1, 11.3, 11.4, 11.5, 11.7"
   ]
  },
  {
   "cell_type": "markdown",
   "metadata": {},
   "source": [
    "### 11.1 - Merge Sorted Files\n",
    "\n",
    "Write a program that takes as input a set of sorted sequences and computes the union of these sequences as a sorted sequence. \n",
    "\n",
    "For example, if the input is $[{3,5,7}],[{0,6}],[{0,6,28}]$ then the output is $[{0,0,3,5,6,6,7,28}]$"
   ]
  },
  {
   "cell_type": "markdown",
   "metadata": {},
   "source": [
    ">Brute force approach is to have a tracker index for each sequence, each starting at index 0. Then find the minimum element out of all the tracker indices, push that element into the sorted sequence and increment the respective tracker index.\n"
   ]
  },
  {
   "cell_type": "code",
   "execution_count": 1,
   "metadata": {
    "collapsed": false
   },
   "outputs": [],
   "source": [
    "import heapq"
   ]
  },
  {
   "cell_type": "code",
   "execution_count": 2,
   "metadata": {
    "collapsed": false
   },
   "outputs": [],
   "source": [
    "def add_to_heap(heap, list_num, it):\n",
    "    try:\n",
    "        heapq.heappush(heap, (next(it), list_num))\n",
    "    except StopIteration:\n",
    "        pass\n",
    "def merge_k_sorted_lists(*sequences):\n",
    "    iters = list(map(iter, sequences))\n",
    "    heap = []\n",
    "    res = []\n",
    "    #init heap to first vals of each seq\n",
    "    #each heap elem holds (min_val, heap#)\n",
    "    for seq_num, it in enumerate(iters):\n",
    "        add_to_heap(heap, seq_num, it)\n",
    "    while heap:\n",
    "        min_val, seq_num = heapq.heappop(heap)\n",
    "        add_to_heap(heap, seq_num, iters[seq_num])\n",
    "        res.append(min_val)\n",
    "    return res"
   ]
  },
  {
   "cell_type": "code",
   "execution_count": 3,
   "metadata": {
    "collapsed": false,
    "scrolled": true
   },
   "outputs": [
    {
     "data": {
      "text/plain": [
       "[0, 1, 2, 3, 4, 5, 6, 7, 8]"
      ]
     },
     "execution_count": 3,
     "metadata": {},
     "output_type": "execute_result"
    }
   ],
   "source": [
    "sequences = [[0,3,5], [1, 2, 4]]\n",
    "merge_k_sorted_lists([0, 2, 4, 6], [1, 7], [3, 5, 8])"
   ]
  },
  {
   "cell_type": "markdown",
   "metadata": {},
   "source": [
    "### 11.3 - Sort An Almost Sorted Array\n",
    ">Write a program which takes as input a very long sequence of numbers. Each number is at most $k$ away from its correctly sorted position. For exmaple, no number in the sequence\n",
    ">>$ { 3, -1, 2, 6, 4, 5, 8 } $\n",
    "\n",
    ">is more than 2 away from its final sorted position. Design an algorithm that output the numbers in the correct order."
   ]
  },
  {
   "cell_type": "markdown",
   "metadata": {},
   "source": [
    "The key insight here is to find the $k$ value. Once you have that, you can have a rolling heap of size $k$ iterating over the array, placing the minimum values accordingly. "
   ]
  },
  {
   "cell_type": "code",
   "execution_count": 31,
   "metadata": {
    "collapsed": false
   },
   "outputs": [],
   "source": [
    "def find_k(arr):\n",
    "    #for each unsorted elem, find the max # of moves \n",
    "    #it is away from correct spot\n",
    "    max_k = 0\n",
    "    for i in range(len(arr)-1):\n",
    "        if arr[i] > arr[i+1]:\n",
    "            k = 0\n",
    "            unsorted_elem = arr[i]\n",
    "            while (i+1) < len(arr) and unsorted_elem > arr[i + 1]:\n",
    "                k += 1\n",
    "                i += 1\n",
    "            max_k = k if k > max_k else max_k\n",
    "    return max_k\n",
    "\n",
    "def sort_almost_sorted(arr):\n",
    "    heap =[]\n",
    "    k = find_k(arr)\n",
    "    #init heap to first k vals\n",
    "    for elem in arr[:k]:\n",
    "        heapq.heappush(heap, elem)\n",
    "    for i in range(len(arr) - k):\n",
    "        arr[i] = heapq.heappop(heap)\n",
    "        heapq.heappush(heap, arr[i + k])\n",
    "    #dump the heap\n",
    "    for i in range(len(arr)-k, len(arr)):\n",
    "        arr[i] = heapq.heappop(heap)\n",
    "    return arr"
   ]
  },
  {
   "cell_type": "code",
   "execution_count": 34,
   "metadata": {
    "collapsed": false
   },
   "outputs": [
    {
     "data": {
      "text/plain": [
       "([-1, 2, 3, 4, 5, 6, 8], [5, 7, 8, 9, 10])"
      ]
     },
     "execution_count": 34,
     "metadata": {},
     "output_type": "execute_result"
    }
   ],
   "source": [
    "almost_sorted = [3,-1,2,6,4,5,8]\n",
    "alm = [2,-1,6,4,5,10,7,8,9]\n",
    "find_k(almost_sorted), find_k(alm)\n",
    "sort_almost_sorted(almost_sorted), sort_almost_sorted([5,10,7,8,9])"
   ]
  },
  {
   "cell_type": "markdown",
   "metadata": {},
   "source": [
    "### 11.4 - Compute The K Closest Stars\n",
    ">Consider a coordinate system for the Milky Way, in which Earth is at (0,0,0). Model stars as points, and assume distances are in light years. The Milky Way consists of approximately $10^(12)$ stars, and their coordinates are stored in a file.\n",
    "\n",
    ">How would you compute the $k$ stars which are closest to Earth?\n",
    "\n",
    "File is assumed to be of format:\n",
    "\n",
    "34.968398,-6.487265, 5.126452\n",
    "\n",
    "34.969448,-6.488250, 5.763424\n",
    "\n",
    "34.967364,-6.492370, 5.174235\n",
    "\n",
    "34.965735,-6.582322, 5.108906\n"
   ]
  },
  {
   "cell_type": "code",
   "execution_count": 82,
   "metadata": {
    "collapsed": false
   },
   "outputs": [],
   "source": [
    "#pythons heapq doesn't have a max implementation, so workaround\n",
    "#by negating each element before insert, to emulate a max-heap\n",
    "\n",
    "from heapq import heappush, heappop\n",
    "from operator import neg\n",
    "def get_distance(x, y, z):\n",
    "    return x*x + y*y + z*z\n",
    "\n",
    "def find_k_closets_stars(file_path, k):\n",
    "    heap = []\n",
    "    with open(file_path, 'r') as f:\n",
    "        #gen [x,y,z] for every line in f\n",
    "        dist_coord_gen = ([float(val) for  val in line.split(',')] \n",
    "                                  for line in f)\n",
    "        for coord in dist_coord_gen:\n",
    "            distance = get_distance(coord[0], coord[1], coord[2])\n",
    "            heappush(heap, (neg(distance), coord))\n",
    "            if len(heap) > k:\n",
    "                heappop(heap)\n",
    "    #dump heap\n",
    "    closest_stars = []\n",
    "    while heap:\n",
    "        dist, coord = heappop(heap)\n",
    "        closest_stars.append(coord)\n",
    "    #reversed due to the neg workaround\n",
    "    return closest_stars[::-1]"
   ]
  },
  {
   "cell_type": "code",
   "execution_count": 83,
   "metadata": {
    "collapsed": false
   },
   "outputs": [
    {
     "data": {
      "text/plain": [
       "[[0.0, 0.0, 0.0], [1.0, 1.0, 1.0], [2.0, 2.0, 2.0], [3.0, 3.0, 3.0]]"
      ]
     },
     "execution_count": 83,
     "metadata": {},
     "output_type": "execute_result"
    }
   ],
   "source": [
    "find_k_closets_stars('Misc/stars.txt', 4)"
   ]
  }
 ],
 "metadata": {
  "kernelspec": {
   "display_name": "Python [Root]",
   "language": "python",
   "name": "Python [Root]"
  },
  "language_info": {
   "codemirror_mode": {
    "name": "ipython",
    "version": 3
   },
   "file_extension": ".py",
   "mimetype": "text/x-python",
   "name": "python",
   "nbconvert_exporter": "python",
   "pygments_lexer": "ipython3",
   "version": "3.5.2"
  }
 },
 "nbformat": 4,
 "nbformat_minor": 0
}

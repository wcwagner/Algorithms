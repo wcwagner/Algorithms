{
 "cells": [
  {
   "cell_type": "markdown",
   "metadata": {},
   "source": [
    "# Insertion Sort\n",
    "### William Wagner"
   ]
  },
  {
   "cell_type": "code",
   "execution_count": 44,
   "metadata": {
    "collapsed": true
   },
   "outputs": [],
   "source": [
    "import numpy as np\n",
    "import time"
   ]
  },
  {
   "cell_type": "markdown",
   "metadata": {},
   "source": [
    "## First Approach\n",
    "\n",
    "It's trivial an array of size 1 is sorted, so start by looking at indices 1:\n",
    "For each value v in array[1:] at index i, loop through the sorted elements (array[0:i])"
   ]
  },
  {
   "cell_type": "code",
   "execution_count": 51,
   "metadata": {
    "collapsed": true
   },
   "outputs": [],
   "source": [
    "data = np.random.random_integers(1,1000, 3500)\n",
    "def time_func(func, *args):\n",
    "    start = time.time()\n",
    "    func(*args)\n",
    "    end = time.time()\n",
    "    return end - start"
   ]
  },
  {
   "cell_type": "code",
   "execution_count": 54,
   "metadata": {
    "collapsed": false
   },
   "outputs": [
    {
     "data": {
      "text/plain": [
       "1.197253942489624"
      ]
     },
     "execution_count": 54,
     "metadata": {},
     "output_type": "execute_result"
    }
   ],
   "source": [
    "def insertion_sort(arr):\n",
    "    min_ix = 0\n",
    "    for i in range(1, len(arr)):\n",
    "        for j in range(0,i):\n",
    "            if arr[i] < arr[j]:\n",
    "                arr[i], arr[j] = arr[j], arr[i]\n",
    "    return data\n",
    "start = time.time()\n",
    "sorted_ = insertion_sort(data)\n",
    "end = time.time()\n",
    "end-start\n",
    "time_func(insertion_sort, data)"
   ]
  },
  {
   "cell_type": "code",
   "execution_count": null,
   "metadata": {
    "collapsed": true
   },
   "outputs": [],
   "source": [
    "## Second Approach\n",
    "Start with array[1:] values, then loop through the sorted arr backwards and shift the values as you go.\n",
    "This method is much better, since the second loop will terminate once the correct position is found. Unlike the previous one, which would needlessly loop through all the sorted elements."
   ]
  },
  {
   "cell_type": "code",
   "execution_count": 53,
   "metadata": {
    "collapsed": false
   },
   "outputs": [
    {
     "data": {
      "text/plain": [
       "0.001940011978149414"
      ]
     },
     "execution_count": 53,
     "metadata": {},
     "output_type": "execute_result"
    }
   ],
   "source": [
    "def insertion_sort2(arr):\n",
    "    for i in range(1, len(arr)):\n",
    "        curr_val = arr[i]\n",
    "        pos = i\n",
    "        while pos > 0 and arr[pos-1] > curr_val:\n",
    "            arr[pos], arr[pos-1] = arr[pos-1], arr[pos]\n",
    "            pos -= 1\n",
    "    return arr\n",
    "time_func(insertion_sort2, data)"
   ]
  }
 ],
 "metadata": {
  "kernelspec": {
   "display_name": "Python 2",
   "language": "python",
   "name": "python2"
  },
  "language_info": {
   "codemirror_mode": {
    "name": "ipython",
    "version": 2
   },
   "file_extension": ".py",
   "mimetype": "text/x-python",
   "name": "python",
   "nbconvert_exporter": "python",
   "pygments_lexer": "ipython2",
   "version": "2.7.11"
  }
 },
 "nbformat": 4,
 "nbformat_minor": 0
}

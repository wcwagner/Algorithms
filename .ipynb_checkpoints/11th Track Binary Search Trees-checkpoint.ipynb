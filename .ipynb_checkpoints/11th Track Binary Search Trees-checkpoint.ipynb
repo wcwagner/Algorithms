{
 "cells": [
  {
   "cell_type": "markdown",
   "metadata": {},
   "source": [
    "# Elements Of Programming Interviews\n",
    "## Binary Search Trees\n",
    "### 15.1, 15.3, 15.4, 15.5, 15.6, 15.8,  15.9, 15.10, 15.11"
   ]
  },
  {
   "cell_type": "markdown",
   "metadata": {},
   "source": [
    "### 15.1 - Test If A Binary Tree Satisfies The BST Property\n",
    "Write a program that takes as input a binary tree and checks if the tree satisfies the BST property."
   ]
  },
  {
   "cell_type": "code",
   "execution_count": 7,
   "metadata": {
    "collapsed": false
   },
   "outputs": [],
   "source": [
    "def is_key_in_range(node, low, high):\n",
    "    if node is None:\n",
    "        return True\n",
    "    elif node.key < low or node.key > high:\n",
    "        return False\n",
    "    else:\n",
    "        return (is_key_in_range(node.left, low, node.val) and\n",
    "                is_key_in_range(node.right, node.val, high))\n",
    "\n",
    "def check_BST_property(tree):\n",
    "    import math\n",
    "    return is_key_in_range(tree, -math.inf, math.inf )"
   ]
  },
  {
   "cell_type": "code",
   "execution_count": null,
   "metadata": {
    "collapsed": true
   },
   "outputs": [],
   "source": []
  }
 ],
 "metadata": {
  "anaconda-cloud": {},
  "kernelspec": {
   "display_name": "Python [Root]",
   "language": "python",
   "name": "Python [Root]"
  },
  "language_info": {
   "codemirror_mode": {
    "name": "ipython",
    "version": 3
   },
   "file_extension": ".py",
   "mimetype": "text/x-python",
   "name": "python",
   "nbconvert_exporter": "python",
   "pygments_lexer": "ipython3",
   "version": "3.5.2"
  }
 },
 "nbformat": 4,
 "nbformat_minor": 0
}

{
 "cells": [
  {
   "cell_type": "markdown",
   "metadata": {},
   "source": [
    "# Elements of Programming Interviews\n",
    "## Stacks and Queues\n",
    "### Track 5: 9.1, 9.2, 9.3, 9.4, 9.9, 9.10, 9.11"
   ]
  },
  {
   "cell_type": "markdown",
   "metadata": {},
   "source": [
    "### 9.1 - Implement a Stack With Max API\n",
    "*NOT FINISHED NOT FINISHED NOT FINISHED NOT FINISHED NOT FINISHED NOT*\n",
    ">Design a stack that supports a max operations which returns the maximum value stored in the stack"
   ]
  },
  {
   "cell_type": "code",
   "execution_count": 1,
   "metadata": {
    "collapsed": false
   },
   "outputs": [],
   "source": [
    "class Stack(object):\n",
    "    \"\"\"\n",
    "        Implements a basic stack which supports max operation.\n",
    "    \"\"\"\n",
    "    def __init__(self):\n",
    "        self.max_ = None\n",
    "        self.data = []\n",
    "    \n",
    "    def pop(self):\n",
    "        if self.empty():\n",
    "            raise ValueError(\"Can't pop off an empty stack\")\n",
    "        #get cached max\n",
    "        self.max_ = self.data[-1][1]\n",
    "        return self.data.pop()\n",
    "    \n",
    "    def push(self, val):\n",
    "        if self.empty():\n",
    "            self.max_ = val\n",
    "        self.data.append(val, self.max_)\n",
    "        self.max_ = max(self.max_, val)\n",
    "    \n",
    "    def __len__(self):\n",
    "        return len(self.data)\n",
    "    \n",
    "    def max_(self):\n",
    "        self.max_ = self.data[0]\n",
    "        for i in range(1: len(self.data)):\n",
    "            if self.data[i] > self.max_:\n",
    "                self.max_ = self.data[i]\n",
    "        return self.max_\n",
    "            \n",
    "    def empty(self):\n",
    "        return len(self.data) == 0\n",
    "    \n",
    "    def top(self):\n",
    "        return self.data[-1]"
   ]
  },
  {
   "cell_type": "markdown",
   "metadata": {},
   "source": [
    "### 9.2 - Evaluate Reverse-Polish-Notation Expressions\n",
    "A string is in reverse polish notation if:\n",
    "\n",
    "* It is a single digit or a sequence of digits.\n",
    "\n",
    "* It is of the form \"A, B, $x$, where A and B are RPN expressions and $x$ is one of ${+, -, X, /}$.\n",
    "\n",
    "* It is of the from \"-A\", where A is an RPN expression.\n",
    "\n",
    ">> $\"3,4,+,2,x,1,+\"$ or $\"1,1,+,-2,x\"$, or $\"4,6,/,2,/\"$"
   ]
  },
  {
   "cell_type": "code",
   "execution_count": 2,
   "metadata": {
    "collapsed": false
   },
   "outputs": [],
   "source": [
    "def get_result(operation, op1, op2):\n",
    "    if operation == \"+\":\n",
    "        return int(op1) + int(op2)\n",
    "    elif operation == \"-\":\n",
    "        return int(op1) - int(op2)\n",
    "    elif operation == \"x\":\n",
    "        return int(op1) * int(op2)\n",
    "    else: # operation == \"/\":\n",
    "        return float(op1) / float(op2)\n",
    "    \n",
    "    \n",
    "def eval_rpn(rpn_expr):\n",
    "    \"\"\"Evaluates a valid RPN expression\"\"\"\n",
    "    s = Stack()\n",
    "    for x in rpn_expr:\n",
    "        if str.isdigit(x):\n",
    "            s.push(x)\n",
    "        elif x in ['+', '-', 'x', '/']:\n",
    "            op1 = s.pop()\n",
    "            op2 = s.pop()\n",
    "            s.push(get_result(x, op1, op2))\n",
    "    return s.pop()\n",
    "            "
   ]
  },
  {
   "cell_type": "code",
   "execution_count": 3,
   "metadata": {
    "collapsed": false,
    "scrolled": true
   },
   "outputs": [
    {
     "data": {
      "text/plain": [
       "15"
      ]
     },
     "execution_count": 3,
     "metadata": {},
     "output_type": "execute_result"
    }
   ],
   "source": [
    "eval_rpn(\"3,4,+,2,x,1, +\")"
   ]
  },
  {
   "cell_type": "markdown",
   "metadata": {},
   "source": [
    "### 9.3 - Test a String for Well-Formedness\n",
    ">A string over the characters {,},[,],(,) is said to be well-formed if the different types of brackets match in the correct order.\n",
    ">> * \"([]){()}\" is well-formed, \"{)\" is not."
   ]
  },
  {
   "cell_type": "code",
   "execution_count": 4,
   "metadata": {
    "collapsed": true
   },
   "outputs": [],
   "source": [
    "def is_matching(opening, closing):\n",
    "    if (opening == \"(\" and closing == \")\" or\n",
    "        opening == \"{\" and closing == \"}\" or\n",
    "        opening == \"[\" and closing == \"]\"):\n",
    "        return True\n",
    "    return False\n",
    "def test_well_formedness(s):\n",
    "    st = Stack()\n",
    "    \n",
    "    for c in s:\n",
    "        if c in \"([{\":\n",
    "            st.push(c)\n",
    "        elif c in \")]}\":\n",
    "            if len(st) == 0 or not is_matching(st.pop(), c):\n",
    "                return False\n",
    "    #too many opening brackets\n",
    "    if len(st) > 0:\n",
    "        return False\n",
    "    \n",
    "    return True"
   ]
  },
  {
   "cell_type": "code",
   "execution_count": 5,
   "metadata": {
    "collapsed": false
   },
   "outputs": [
    {
     "data": {
      "text/plain": [
       "(False, False, True, True)"
      ]
     },
     "execution_count": 5,
     "metadata": {},
     "output_type": "execute_result"
    }
   ],
   "source": [
    "(test_well_formedness(\"()((())\"), test_well_formedness(\")))\"),\n",
    " test_well_formedness(\"({[]})()()\"), test_well_formedness(\"()\"))\n",
    "#(False,False,True,True)"
   ]
  },
  {
   "cell_type": "markdown",
   "metadata": {},
   "source": [
    "### 9.4 - Normalize Pathnames\n",
    ">A file or directory can be specified via a string called the pathnames. This string may specify an absolute path, strating from the root, e.g., /usr/bin/gcc, or a path relative to the current working directory, e.g., scripts/myscript. The same directory can be specified in multiple ways, using $.$ for the current directory, and $..$ for the parent directory. \n",
    "* /home/william/Python $==$ /home/william/././Python/Algorithms/.. $==$ Python\n",
    "\n",
    ">Write a program which takes a pathname, and returns the shortest equivalent path-name. Assume individual directories and files have alphanumeric names."
   ]
  },
  {
   "cell_type": "code",
   "execution_count": 6,
   "metadata": {
    "collapsed": false
   },
   "outputs": [],
   "source": [
    "def normalize_pathname(path):\n",
    "    dirs = Stack()\n",
    "    shortest_path = []\n",
    "    for dir_ in path.split(\"/\"):\n",
    "        dirs.push(dir_)\n",
    "    while len(dirs) > 0:\n",
    "        dir_ = dirs.pop()\n",
    "        if dir_ == \"..\":\n",
    "            while dirs.top() == '.':\n",
    "                dirs.pop()\n",
    "            dirs.pop()\n",
    "        elif dir_ == \".\":\n",
    "            continue\n",
    "        else:\n",
    "            shortest_path.append(dir_)\n",
    "    return \"/\".join(reversed(shortest_path))"
   ]
  },
  {
   "cell_type": "code",
   "execution_count": 7,
   "metadata": {
    "collapsed": false
   },
   "outputs": [
    {
     "data": {
      "text/plain": [
       "(True, True, True, True, True)"
      ]
     },
     "execution_count": 7,
     "metadata": {},
     "output_type": "execute_result"
    }
   ],
   "source": [
    "(\n",
    "normalize_pathname(\"/home/william/././Python/Algorithms/..\") == \"/home/william/Python\",\n",
    "normalize_pathname(\"/home/william/Python/.\") == \"/home/william/Python\",\n",
    "normalize_pathname(\"/./././.\") == \"\",\n",
    "normalize_pathname(\"/home/william/Python/./../Downloads\") == \"/home/william/Downloads\",\n",
    "normalize_pathname(\"Python/./../Downloads\") == \"Downloads\"\n",
    ")"
   ]
  },
  {
   "cell_type": "markdown",
   "metadata": {
    "collapsed": true
   },
   "source": [
    "### 9.9 - Compute Binary Tree Nodes In Order of Increasing Depth\n",
    ">Given a binary tree, return an array consisting of the keys. Keys should appear in the order of the corresponding \n",
    "nodes' depths, breaking ties from left to right. For example, "
   ]
  },
  {
   "cell_type": "code",
   "execution_count": 8,
   "metadata": {
    "collapsed": false
   },
   "outputs": [],
   "source": [
    "class BT(object):\n",
    "    def __init__(self, data, left=None, right=None):\n",
    "        self.data = data\n",
    "        self.left = left\n",
    "        self.right = right\n",
    "tree = BT(314, BT(6, BT(271, BT(28), BT(0)), BT(561, right=BT(3, BT(17)))), BT(6, BT(2, right=BT(1, BT(401,right=BT(641)), BT(257))), BT(271, right=BT(28))))"
   ]
  },
  {
   "cell_type": "code",
   "execution_count": 9,
   "metadata": {
    "collapsed": false
   },
   "outputs": [],
   "source": [
    "import os\n",
    "os.chdir(\"/home/william/Python/Algorithms/Data Structures\")\n",
    "from queue import Queue"
   ]
  },
  {
   "cell_type": "code",
   "execution_count": 10,
   "metadata": {
    "collapsed": false
   },
   "outputs": [],
   "source": [
    "def level_order(root):\n",
    "    result = []\n",
    "    Q = Queue()\n",
    "    Q.enqueue(root)\n",
    "    nodes_left_at_curr_depth = Q.size\n",
    "    curr_level = []\n",
    "    while not Q.empty():\n",
    "        curr = Q.dequeue()\n",
    "        curr_level.append(curr.data)\n",
    "        nodes_left_at_curr_depth -= 1\n",
    "        if curr.left is not None:\n",
    "            Q.enqueue(curr.left)\n",
    "        if curr.right is not None:\n",
    "            Q.enqueue(curr.right)\n",
    "            \n",
    "        if not nodes_left_at_curr_depth:\n",
    "            nodes_left_at_curr_depth = Q.size\n",
    "            result.append(curr_level)\n",
    "            curr_level = []\n",
    "    return result"
   ]
  },
  {
   "cell_type": "code",
   "execution_count": 11,
   "metadata": {
    "collapsed": false
   },
   "outputs": [
    {
     "data": {
      "text/plain": [
       "[[314], [6, 6], [271, 561, 2, 271], [28, 0, 3, 1, 28], [17, 401, 257], [641]]"
      ]
     },
     "execution_count": 11,
     "metadata": {},
     "output_type": "execute_result"
    }
   ],
   "source": [
    "level_order(tree)"
   ]
  },
  {
   "cell_type": "markdown",
   "metadata": {},
   "source": [
    "### 9.10 - Implement A Circular Queue\n",
    ">A queue can be implemented using an array and two additional fields, the beginning and the end indices. This implementation is sometimes referred to as a ``circular queue``.\n",
    "\n",
    ">Implement a queue API using an array for storing elements. Your API should include:\n",
    "* a constructor funciton, which takes as argument the capacity of the queue \n",
    "* ``enqueue`` \n",
    "* ``dequeue`` \n",
    "* a ``size`` function, which returns the number of elements stored \n",
    "* and implement dynamic resizing."
   ]
  },
  {
   "cell_type": "code",
   "execution_count": 12,
   "metadata": {
    "collapsed": false
   },
   "outputs": [],
   "source": [
    "class Queue(object):\n",
    "    \"\"\"\n",
    "    Simple circular queue implementation, which allows for constant O(1)\n",
    "    ``enqueue`` and ``dequeue`` operations on the data structure.\n",
    "    \n",
    "    Parameters\n",
    "    ---------\n",
    "    capacity: int\n",
    "    |   Initial capacity for the queue, if exceeded the queue will be\n",
    "    |   dynamically resized.\n",
    "    \"\"\"\n",
    "    def __init__(self, capacity):\n",
    "        self.arr = [None] * capacity\n",
    "        self.front = 0\n",
    "        self.back = 0\n",
    "        self.capacity = capacity\n",
    "        self.num_elems = 0\n",
    "    \n",
    "    def enqueue(self, data):\n",
    "        if self.num_elems == self.capacity:\n",
    "            self.arr.extend([None] * self.capacity)\n",
    "            #rotate make elements consecutive\n",
    "            if self.back <= self.front:\n",
    "                for i in range(self.back):\n",
    "                    self.arr[i + self.capacity] = self.arr[i]\n",
    "                self.back += self.capacity\n",
    "                self.capacity *= 2\n",
    "        self.arr[self.back] = data\n",
    "        self.back = (self.back + 1) % self.capacity\n",
    "        self.num_elems += 1\n",
    "            \n",
    "    def dequeue(self):\n",
    "        if not self.size():\n",
    "            raise IndexError(\"can't dequeue empty queue\")\n",
    "        ret_val = self.arr[self.front]\n",
    "        self.front = (self.front + 1) % self.capacity\n",
    "        self.num_elems -= 1\n",
    "        return ret_val\n",
    "    \n",
    "    def size(self):\n",
    "        return self.num_elems\n",
    "        \n",
    "    def print_(self):\n",
    "        ix = self.front\n",
    "        for _ in range(self.num_elems):\n",
    "            print self.arr[ix],\n",
    "            ix = (ix + 1) % self.capacity\n"
   ]
  },
  {
   "cell_type": "code",
   "execution_count": 13,
   "metadata": {
    "collapsed": false
   },
   "outputs": [
    {
     "name": "stdout",
     "output_type": "stream",
     "text": [
      "0 1 2 3 4 \n",
      "\n",
      "0 1 2 3 4 6 7 8 \n",
      "\n",
      "2 3 4 6 7 8\n"
     ]
    }
   ],
   "source": [
    "Q = Queue(5)\n",
    "Q.print_()\n",
    "for i in range(5):\n",
    "    Q.enqueue(i)\n",
    "Q.print_()\n",
    "print \"\\n\"\n",
    "for i in range(6,9):\n",
    "    Q.enqueue(i)\n",
    "Q.print_()\n",
    "Q.dequeue()\n",
    "Q.dequeue()\n",
    "print \"\\n\"\n",
    "Q.print_()"
   ]
  },
  {
   "cell_type": "markdown",
   "metadata": {},
   "source": [
    "### 9.11 - Implement a Queue Using Stacks\n",
    ">Queue insertion and deletion follows first-in, first-out semantics; stack insertion and deletion is last-in first-out. \n",
    "\n",
    ">How would you implement a queue given a library implementing stacks?"
   ]
  },
  {
   "cell_type": "code",
   "execution_count": 29,
   "metadata": {
    "collapsed": false
   },
   "outputs": [],
   "source": [
    "from stack import Stack\n",
    "class Queue_Stack(object):\n",
    "    \"\"\"\n",
    "    Implements a queue data structure by using two stacks.\n",
    "    \"\"\"\n",
    "    \n",
    "    def __init__(self):\n",
    "        self.s1 = Stack()\n",
    "        self.rev = Stack()\n",
    "    def enqueue(self, data):\n",
    "        self.s1.push(data)\n",
    "    \n",
    "    def dequeue(self):\n",
    "        if self.rev.empty():\n",
    "            while not self.s1.empty():\n",
    "                self.rev.push(self.s1.top())\n",
    "                self.s1.pop()\n",
    "        if self.rev.empty():\n",
    "            raise IndexError(\"Cant dequeue empty queue\")\n",
    "        ret = self.rev.top()\n",
    "        self.rev.pop()\n",
    "        return ret\n",
    "    \n",
    "    def size():\n",
    "        return self.s1.size()\n",
    "            "
   ]
  }
 ],
 "metadata": {
  "anaconda-cloud": {},
  "kernelspec": {
   "display_name": "Python [Root]",
   "language": "python",
   "name": "Python [Root]"
  },
  "language_info": {
   "codemirror_mode": {
    "name": "ipython",
    "version": 3
   },
   "file_extension": ".py",
   "mimetype": "text/x-python",
   "name": "python",
   "nbconvert_exporter": "python",
   "pygments_lexer": "ipython3",
   "version": "3.5.2"
  }
 },
 "nbformat": 4,
 "nbformat_minor": 0
}

{
 "cells": [
  {
   "cell_type": "markdown",
   "metadata": {},
   "source": [
    "# Elements of Programming Interviews\n",
    "## Stacks and Queues\n",
    "### Track 5: 9.1, 9.2, 9.3, 9.4, 9.9, 9.10, 9.11"
   ]
  },
  {
   "cell_type": "markdown",
   "metadata": {},
   "source": [
    "### 9.1 - Implement a Stack With Max API\n",
    "*NOT FINISHED NOT FINISHED NOT FINISHED NOT FINISHED NOT FINISHED NOT*\n",
    ">Design a stack that supports a max operations which returns the maximum value stored in the stack"
   ]
  },
  {
   "cell_type": "code",
   "execution_count": 114,
   "metadata": {
    "collapsed": false
   },
   "outputs": [],
   "source": [
    "class Stack(object):\n",
    "    \"\"\"\n",
    "        Implements a basic stack which supports max operation\n",
    "    \"\"\"\n",
    "    def __init__(self):\n",
    "        self.max_ = None\n",
    "        self.data = []\n",
    "    \n",
    "    def pop(self):\n",
    "        if self.empty():\n",
    "            raise ValueError(\"Can't pop off an empty stack\")\n",
    "        return self.data.pop()\n",
    "    \n",
    "    def push(self, val):\n",
    "        if self.empty():\n",
    "            self.max = val\n",
    "        elif val > self.max_:\n",
    "            self.max_ = val\n",
    "        self.data.append(val)\n",
    "    \n",
    "    def __len__(self):\n",
    "        return len(self.data)\n",
    "            \n",
    "    def empty(self):\n",
    "        return len(self.data) == 0\n",
    "    \n",
    "    def top(self):\n",
    "        return self.data[-1]"
   ]
  },
  {
   "cell_type": "markdown",
   "metadata": {},
   "source": [
    "### 9.2 - Evaluate Reverse-Polish-Notation Expressions\n",
    "A string is in reverse polish notation if:\n",
    "\n",
    "* It is a single digit or a sequence of digits.\n",
    "\n",
    "* It is of the form \"A, B, $x$, where A and B are RPN expressions and $x$ is one of ${+, -, X, /}$.\n",
    "\n",
    "* It is of the from \"-A\", where A is an RPN expression.\n",
    "\n",
    ">> $\"3,4,+,2,x,1,+\"$ or $\"1,1,+,-2,x\"$, or $\"4,6,/,2,/\"$"
   ]
  },
  {
   "cell_type": "code",
   "execution_count": 108,
   "metadata": {
    "collapsed": false
   },
   "outputs": [],
   "source": [
    "def get_result(operation, op1, op2):\n",
    "    if operation == \"+\":\n",
    "        return int(op1) + int(op2)\n",
    "    elif operation == \"-\":\n",
    "        return int(op1) - int(op2)\n",
    "    elif operation == \"x\":\n",
    "        return int(op1) * int(op2)\n",
    "    else: # operation == \"/\":\n",
    "        return float(op1) / float(op2)\n",
    "    \n",
    "    \n",
    "def eval_rpn(rpn_expr):\n",
    "    \"\"\"Evaluates a valid RPN expression\"\"\"\n",
    "    s = Stack()\n",
    "    for x in rpn_expr:\n",
    "        if str.isdigit(x):\n",
    "            s.push(x)\n",
    "        elif x in ['+', '-', 'x', '/']:\n",
    "            op1 = s.pop()\n",
    "            op2 = s.pop()\n",
    "            s.push(get_result(x, op1, op2))\n",
    "    return s.pop()\n",
    "            "
   ]
  },
  {
   "cell_type": "code",
   "execution_count": 109,
   "metadata": {
    "collapsed": false,
    "scrolled": true
   },
   "outputs": [
    {
     "data": {
      "text/plain": [
       "15"
      ]
     },
     "execution_count": 109,
     "metadata": {},
     "output_type": "execute_result"
    }
   ],
   "source": [
    "eval_rpn(\"3,4,+,2,x,1, +\")"
   ]
  },
  {
   "cell_type": "markdown",
   "metadata": {},
   "source": [
    "### 9.3 - Test a String for Well-Formedness\n",
    ">A string over the characters {,},[,],(,) is said to be well-formed if the different types of brackets match in the correct order.\n",
    ">> * \"([]){()}\" is well-formed, \"{)\" is not."
   ]
  },
  {
   "cell_type": "code",
   "execution_count": 110,
   "metadata": {
    "collapsed": true
   },
   "outputs": [],
   "source": [
    "def is_matching(opening, closing):\n",
    "    if (opening == \"(\" and closing == \")\" or\n",
    "        opening == \"{\" and closing == \"}\" or\n",
    "        opening == \"[\" and closing == \"]\"):\n",
    "        return True\n",
    "    return False\n",
    "def test_well_formedness(s):\n",
    "    st = Stack()\n",
    "    \n",
    "    for c in s:\n",
    "        if c in \"([{\":\n",
    "            st.push(c)\n",
    "        elif c in \")]}\":\n",
    "            if len(st) == 0 or not is_matching(st.pop(), c):\n",
    "                return False\n",
    "    #too many opening brackets\n",
    "    if len(st) > 0:\n",
    "        return False\n",
    "    \n",
    "    return True"
   ]
  },
  {
   "cell_type": "code",
   "execution_count": 111,
   "metadata": {
    "collapsed": false
   },
   "outputs": [
    {
     "data": {
      "text/plain": [
       "(False, False, True, True)"
      ]
     },
     "execution_count": 111,
     "metadata": {},
     "output_type": "execute_result"
    }
   ],
   "source": [
    "(test_well_formedness(\"()((())\"), test_well_formedness(\")))\"),\n",
    " test_well_formedness(\"({[]})()()\"), test_well_formedness(\"()\"))\n",
    "#(False,False,True,True)"
   ]
  },
  {
   "cell_type": "markdown",
   "metadata": {},
   "source": [
    "### 9.4 - Normalize Pathnames\n",
    ">A file or directory can be specified via a string called the pathnames. This string may specify an absolute path, strating from the root, e.g., /usr/bin/gcc, or a path relative to the current working directory, e.g., scripts/myscript. The same directory can be specified in multiple ways, using $.$ for the current directory, and $..$ for the parent directory. \n",
    "* /home/william/Python $==$ /home/william/././Python/Algorithms/.. $==$ Python\n",
    "\n",
    ">Write a program which takes a pathname, and returns the shortest equivalent path-name. Assume individual directories and files have alphanumeric names."
   ]
  },
  {
   "cell_type": "code",
   "execution_count": 121,
   "metadata": {
    "collapsed": false
   },
   "outputs": [],
   "source": [
    "def normalize_pathname(path):\n",
    "    dirs = Stack()\n",
    "    shortest_path = []\n",
    "    for dir_ in path.split(\"/\"):\n",
    "        dirs.push(dir_)\n",
    "    while len(dirs) > 0:\n",
    "        dir_ = dirs.pop()\n",
    "        if dir_ == \"..\":\n",
    "            while dirs.top() == '.':\n",
    "                dirs.pop()\n",
    "            dirs.pop()\n",
    "        elif dir_ == \".\":\n",
    "            continue\n",
    "        else:\n",
    "            shortest_path.append(dir_)\n",
    "    print \"/\".join(reversed(shortest_path))\n",
    "    return \"/\".join(reversed(shortest_path))"
   ]
  },
  {
   "cell_type": "code",
   "execution_count": 123,
   "metadata": {
    "collapsed": false
   },
   "outputs": [
    {
     "name": "stdout",
     "output_type": "stream",
     "text": [
      "/home/william/Python\n",
      "/home/william/Python\n",
      "\n",
      "/home/william/Downloads\n"
     ]
    },
    {
     "data": {
      "text/plain": [
       "(True, True, True, True)"
      ]
     },
     "execution_count": 123,
     "metadata": {},
     "output_type": "execute_result"
    }
   ],
   "source": [
    "(\n",
    "normalize_pathname(\"/home/william/././Python/Algorithms/..\") == \"/home/william/Python\",\n",
    "normalize_pathname(\"/home/william/Python/.\") == \"/home/william/Python\",\n",
    "normalize_pathname(\"/./././.\") == \"\",\n",
    "normalize_pathname(\"/home/william/Python/./../Downloads\") == \"/home/william/Downloads\"\n",
    ")"
   ]
  },
  {
   "cell_type": "code",
   "execution_count": null,
   "metadata": {
    "collapsed": true
   },
   "outputs": [],
   "source": []
  },
  {
   "cell_type": "code",
   "execution_count": null,
   "metadata": {
    "collapsed": true
   },
   "outputs": [],
   "source": []
  }
 ],
 "metadata": {
  "kernelspec": {
   "display_name": "Python [Root]",
   "language": "python",
   "name": "Python [Root]"
  },
  "language_info": {
   "codemirror_mode": {
    "name": "ipython",
    "version": 2
   },
   "file_extension": ".py",
   "mimetype": "text/x-python",
   "name": "python",
   "nbconvert_exporter": "python",
   "pygments_lexer": "ipython2",
   "version": "2.7.12"
  }
 },
 "nbformat": 4,
 "nbformat_minor": 0
}

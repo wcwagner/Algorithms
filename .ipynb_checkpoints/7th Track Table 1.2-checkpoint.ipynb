{
 "cells": [
  {
   "cell_type": "markdown",
   "metadata": {},
   "source": [
    "# Elements of Programming Interviews\n",
    "## Heaps\n",
    "### Track 7: 11.1, 11.3, 11.4, 11.5, 11.7"
   ]
  },
  {
   "cell_type": "markdown",
   "metadata": {},
   "source": [
    "### 11.1 - Merge Sorted Files\n",
    "\n",
    "Write a program that takes as input a set of sorted sequences and computes the union of these sequences as a sorted sequence. \n",
    "\n",
    "For example, if the input is $[{3,5,7}],[{0,6}],[{0,6,28}]$ then the output is $[{0,0,3,5,6,6,7,28}]$"
   ]
  },
  {
   "cell_type": "markdown",
   "metadata": {},
   "source": [
    ">Brute force approach is to have a tracker index for each sequence, each starting at index 0. Then find the minimum element out of all the tracker indices, push that element into the sorted sequence and increment the respective tracker index.\n"
   ]
  },
  {
   "cell_type": "code",
   "execution_count": 11,
   "metadata": {
    "collapsed": false
   },
   "outputs": [],
   "source": [
    "import heapq"
   ]
  },
  {
   "cell_type": "code",
   "execution_count": 34,
   "metadata": {
    "collapsed": false
   },
   "outputs": [],
   "source": [
    "def add_to_heap(heap, list_num, it):\n",
    "    try:\n",
    "        heapq.heappush(heap, (next(it), list_num))\n",
    "    except StopIteration:\n",
    "        pass\n",
    "def merge_k_sorted_lists(*sequences):\n",
    "    iters = list(map(iter, sequences))\n",
    "    heap = []\n",
    "    res = []\n",
    "    #init heap to first vals of each seq\n",
    "    #each heap elem holds (min_val, heap#)\n",
    "    for seq_num, it in enumerate(iters):\n",
    "        add_to_heap(heap, seq_num, it)\n",
    "    while heap:\n",
    "        min_val, seq_num = heapq.heappop(heap)\n",
    "        add_to_heap(heap, seq_num, iters[seq_num])\n",
    "        res.append(min_val)\n",
    "    return res"
   ]
  },
  {
   "cell_type": "code",
   "execution_count": 36,
   "metadata": {
    "collapsed": false,
    "scrolled": true
   },
   "outputs": [
    {
     "data": {
      "text/plain": [
       "[0, 1, 2, 3, 4, 5, 6, 7, 8]"
      ]
     },
     "execution_count": 36,
     "metadata": {},
     "output_type": "execute_result"
    }
   ],
   "source": [
    "sequences = [[0,3,5], [1, 2, 4]]\n",
    "merge_k_sorted_lists([0, 2, 4, 6], [1, 7], [3, 5, 8])"
   ]
  },
  {
   "cell_type": "markdown",
   "metadata": {},
   "source": [
    "### 11.3 - Sort An Almost Sorted Array\n",
    ">Write a program which takes as input a very long sequence of numbers. Each number is at most $k$ away from its correctly sorted position. For exmaple, no number in the sequence\n",
    ">>$ { 3, -1, 2, 6, 4, 5, 8 } $\n",
    "\n",
    ">is more than 2 away from its final sorted position. Design an algorithm that output the numbers in the correct order."
   ]
  },
  {
   "cell_type": "markdown",
   "metadata": {},
   "source": [
    "The key insight here is to find the $k$ value. Once you have that, you can have a rolling heap of size $k$ iterating over the array, placing the minimum values accordingly. "
   ]
  },
  {
   "cell_type": "code",
   "execution_count": null,
   "metadata": {
    "collapsed": true
   },
   "outputs": [],
   "source": []
  }
 ],
 "metadata": {
  "kernelspec": {
   "display_name": "Python [Root]",
   "language": "python",
   "name": "Python [Root]"
  },
  "language_info": {
   "codemirror_mode": {
    "name": "ipython",
    "version": 3
   },
   "file_extension": ".py",
   "mimetype": "text/x-python",
   "name": "python",
   "nbconvert_exporter": "python",
   "pygments_lexer": "ipython3",
   "version": "3.5.2"
  }
 },
 "nbformat": 4,
 "nbformat_minor": 0
}

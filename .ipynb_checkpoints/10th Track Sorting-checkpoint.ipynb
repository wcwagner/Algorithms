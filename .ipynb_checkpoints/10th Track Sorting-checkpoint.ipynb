{
 "cells": [
  {
   "cell_type": "markdown",
   "metadata": {},
   "source": [
    "# Elements Of Programming Interviews\n",
    "## Sorting\n",
    "### Track 10: 14.1, 14.2, 14.3, 14.5, 14.7, 14.8, 14.10"
   ]
  },
  {
   "cell_type": "markdown",
   "metadata": {},
   "source": [
    "### 14.1 - Compute The Intersection Of Two Sorted Arrays\n",
    "Write a program that takes as input two sorted arrays, and returns a new array containing elements that are present in both of the input arrays. The input arrays may have duplicate entries, but the returned array should be free of duplicates.\n",
    "\n",
    "For example, the input: [2, 3, 3, 5, 5, 6, 7, 7, 8, 12] and [5, 5, 6, 8, 8, 9, 10, 10]\n",
    "\n",
    "Should return [5, 6, 8]"
   ]
  },
  {
   "cell_type": "code",
   "execution_count": 1,
   "metadata": {
    "collapsed": true
   },
   "outputs": [],
   "source": [
    "def intersect_two_sorted_arrays(arr1, arr2):\n",
    "    intersection = []\n",
    "    i = 0\n",
    "    j= 0\n",
    "    while i < len(arr1) and j < len(arr2):\n",
    "        if arr1[i] < arr2[j]:\n",
    "            i += 1\n",
    "        elif arr2[j] < arr1[i]:\n",
    "            j += 1\n",
    "        else: #arr[i] == arr[j]\n",
    "            #append elem to intersection if it isn't already there\n",
    "            if len(intersection) == 0:\n",
    "                intersection.append(arr1[i])\n",
    "            elif intersection[-1] != arr1[i]:\n",
    "                intersection.append(arr1[i])\n",
    "            i += 1\n",
    "            j += 1\n",
    "    return intersection"
   ]
  },
  {
   "cell_type": "code",
   "execution_count": 2,
   "metadata": {
    "collapsed": false
   },
   "outputs": [
    {
     "data": {
      "text/plain": [
       "([5, 6], [5, 6, 8])"
      ]
     },
     "execution_count": 2,
     "metadata": {},
     "output_type": "execute_result"
    }
   ],
   "source": [
    "(intersect_two_sorted_arrays([5, 5, 6, 8, 8], [2, 3, 3, 5, 6, 9]),\n",
    "intersect_two_sorted_arrays([2, 3, 3, 5, 5, 6, 7, 7, 8, 12],[5, 5, 6, 8, 8, 9, 10, 10] ))"
   ]
  },
  {
   "cell_type": "markdown",
   "metadata": {},
   "source": [
    "### 14.2 - Implement Mergesort In Place\n",
    "Write a program which takes as input two sorted arrays of integers, and updates the first to the combined entries of the two arrays in sorted order. Assume the first array has enough empty entries at its end to hold the result.\n",
    "\n",
    "For example, if the input is: [5, 13, 17, None, None, None, None, None] and [3, 7, 11, 19]\n",
    "\n",
    "Then the output is: [3, 5, 7, 11, 13, 17, 19, None]"
   ]
  },
  {
   "cell_type": "code",
   "execution_count": 3,
   "metadata": {
    "collapsed": false
   },
   "outputs": [],
   "source": [
    "def shift_left(arr, shift):\n",
    "    for i in range(shift, len(arr)):\n",
    "        arr[i - shift] = arr[i]\n",
    "    return arr\n",
    "def in_place_merge_sort(arr1, arr2):\n",
    "    #should definitely be refactored, but the approach is correct\n",
    "    #so moving on\n",
    "    i = arr1.index(None) - 1\n",
    "    j = len(arr2) - 1\n",
    "    empty = len(arr1) - 1 - ((len(arr1) - i - 1) - len(arr2))\n",
    "    while i >= 0 and j >= 0:\n",
    "        if arr1[i] > arr2[j]:\n",
    "            arr1[empty] = arr1[i]\n",
    "            i -= 1\n",
    "        elif arr1[i] < arr2[j]:\n",
    "            arr1[empty] = arr2[j]\n",
    "            j -= 1\n",
    "        else: #arr1[i] == arr2[j]\n",
    "            arr1[empty] = arr1[i]\n",
    "            empty -= 1\n",
    "            arr1[empty] = arr2[j]\n",
    "            i -= 1\n",
    "            j -= 1\n",
    "        empty -= 1\n",
    "    #dump the second array if there were any values left\n",
    "    while j >= 0 or i >= 0:\n",
    "        arr1[empty] = arr2[j] if j >= 0 else arr1[i]\n",
    "        i -= 1\n",
    "        j -= 1\n",
    "        empty -= 1\n",
    "    \n",
    "    return arr1\n",
    "    "
   ]
  },
  {
   "cell_type": "code",
   "execution_count": 4,
   "metadata": {
    "collapsed": false
   },
   "outputs": [
    {
     "data": {
      "text/plain": [
       "([3, 5, 7, 11, 13, 17, 19], [1, 2, 3, 4, 5, 6, None])"
      ]
     },
     "execution_count": 4,
     "metadata": {},
     "output_type": "execute_result"
    }
   ],
   "source": [
    "(in_place_merge_sort([5, 13, 17, None, None, None, None],[3, 7, 11, 19] ),\n",
    " in_place_merge_sort([1,3,5, None, None, None, None], [2, 4, 6]))"
   ]
  },
  {
   "cell_type": "markdown",
   "metadata": {},
   "source": [
    "### 14.3 - Count Frequencies Of Characters In A Sentence\n",
    "Given a srting, print in alphabetical order each character that appears in the string and the number of times that it appears. \n",
    "\n",
    "For example, if the string is: \"bcdacebe\"\n",
    "\n",
    "Then the output should be: \"(a,1), (b,2), (c,2), (d,1), (e,2)\""
   ]
  },
  {
   "cell_type": "code",
   "execution_count": 5,
   "metadata": {
    "collapsed": true
   },
   "outputs": [],
   "source": [
    "def count_char_freq_bf(sentence):\n",
    "    #better on time complexity, worse on space\n",
    "    char_to_freq= {}\n",
    "    for char in sentence:\n",
    "        if char in char_to_freq:\n",
    "            char_to_freq[char] += 1\n",
    "        else:\n",
    "            char_to_freq[char] = 1\n",
    "    #now need to get the values out of the hashtable alphabetically\n",
    "    sorted_keys = sorted(char_to_freq.keys())\n",
    "    for key in sorted_keys:\n",
    "        print(\"({0},{1})\".format(key, char_to_freq[key]), sep=\",\", end=\"\")"
   ]
  },
  {
   "cell_type": "code",
   "execution_count": 6,
   "metadata": {
    "collapsed": false
   },
   "outputs": [
    {
     "name": "stdout",
     "output_type": "stream",
     "text": [
      "(a,1)(b,2)(c,2)(d,1)(e,2)"
     ]
    }
   ],
   "source": [
    "count_char_freq_bf(\"bcdacebe\")"
   ]
  },
  {
   "cell_type": "code",
   "execution_count": 7,
   "metadata": {
    "collapsed": true
   },
   "outputs": [],
   "source": [
    "def count_char_freq(sentence):\n",
    "    sentence = sorted(sentence)\n",
    "    curr_char_count = 1\n",
    "    for i in range(1, len(sentence)):\n",
    "        if sentence[i] == sentence[i - 1]:\n",
    "            curr_char_count += 1\n",
    "        else:\n",
    "            print(\"({0},{1})\".format(sentence[i - 1], curr_char_count),\n",
    "                 end=\",\")\n",
    "            curr_char_count = 1\n",
    "    print(\"({0},{1})\".format(sentence[-1], curr_char_count))"
   ]
  },
  {
   "cell_type": "code",
   "execution_count": 8,
   "metadata": {
    "collapsed": false
   },
   "outputs": [
    {
     "name": "stdout",
     "output_type": "stream",
     "text": [
      "(a,1),(b,2),(c,2),(d,1),(e,2)\n"
     ]
    }
   ],
   "source": [
    "count_char_freq(\"bcdacebe\")"
   ]
  },
  {
   "cell_type": "markdown",
   "metadata": {
    "collapsed": true
   },
   "source": [
    "### 14.5 - Render A Calendar\n",
    "Suppose each day consists of a number of events, where an event is specified as a start time and a finish time. \n",
    "Write a program that takes a set of events, and determines the maximum number of events that take place concurrently. "
   ]
  },
  {
   "cell_type": "code",
   "execution_count": 9,
   "metadata": {
    "collapsed": false
   },
   "outputs": [
    {
     "data": {
      "text/plain": [
       "[(0, 5),\n",
       " (2, 7),\n",
       " (4, 5),\n",
       " (6, 10),\n",
       " (8, 9),\n",
       " (9, 17),\n",
       " (11, 13),\n",
       " (12, 15),\n",
       " (14, 15)]"
      ]
     },
     "execution_count": 9,
     "metadata": {},
     "output_type": "execute_result"
    }
   ],
   "source": [
    "events = [(0,5), (9, 17), (2, 7), (4, 5), (6, 10), (14, 15), (11, 13), (12, 15), (8, 9)]\n",
    "sorted(events)"
   ]
  },
  {
   "cell_type": "code",
   "execution_count": 10,
   "metadata": {
    "collapsed": false
   },
   "outputs": [
    {
     "data": {
      "text/plain": [
       "[(0, 5),\n",
       " (4, 5),\n",
       " (2, 7),\n",
       " (8, 9),\n",
       " (6, 10),\n",
       " (11, 13),\n",
       " (14, 15),\n",
       " (12, 15),\n",
       " (9, 17)]"
      ]
     },
     "execution_count": 10,
     "metadata": {},
     "output_type": "execute_result"
    }
   ],
   "source": [
    "sorted(events, key=lambda t: t[1])"
   ]
  },
  {
   "cell_type": "code",
   "execution_count": 11,
   "metadata": {
    "collapsed": true
   },
   "outputs": [],
   "source": [
    "def max_concurrent_events_bf(events):\n",
    "    events.sort()\n",
    "    max_events = -1\n",
    "    for i, event in enumerate(events):\n",
    "        k_concurrent_events = 1\n",
    "        curr_event_end = event[1]\n",
    "        while (i + 1) < len(events) and events[i + 1][0] < curr_event_end:\n",
    "            curr_event_end = min(curr_event_end, events[i + 1][1])\n",
    "            k_concurrent_events += 1\n",
    "            i += 1\n",
    "        max_events = max(max_events, k_concurrent_events)\n",
    "    return max_events"
   ]
  },
  {
   "cell_type": "code",
   "execution_count": 12,
   "metadata": {
    "collapsed": false
   },
   "outputs": [
    {
     "data": {
      "text/plain": [
       "3"
      ]
     },
     "execution_count": 12,
     "metadata": {},
     "output_type": "execute_result"
    }
   ],
   "source": [
    "max_concurrent_events_bf(events)"
   ]
  },
  {
   "cell_type": "code",
   "execution_count": 13,
   "metadata": {
    "collapsed": true
   },
   "outputs": [],
   "source": [
    "def max_concurrent_events(events):\n",
    "    #for loops instead of list comp. for readability\n",
    "    endpoints = []\n",
    "    for event in events:\n",
    "        #True to denote start, False to denote end\n",
    "        endpoints.append((event[0], True))\n",
    "        endpoints.append((event[1], False))\n",
    "    endpoints.sort()\n",
    "    max_concurr_events = -1\n",
    "    curr_max = 0\n",
    "    for endpoint in endpoints:\n",
    "        #it's a start points\n",
    "        if endpoint[1]:\n",
    "            curr_max += 1\n",
    "            max_concurr_events = max(max_concurr_events, curr_max)\n",
    "        else: #it's a end point\n",
    "            curr_max -= 1\n",
    "    return max_concurr_events\n",
    "    "
   ]
  },
  {
   "cell_type": "code",
   "execution_count": 14,
   "metadata": {
    "collapsed": false
   },
   "outputs": [
    {
     "name": "stdout",
     "output_type": "stream",
     "text": [
      "100000 loops, best of 3: 8.77 µs per loop\n",
      "100000 loops, best of 3: 10.2 µs per loop\n"
     ]
    }
   ],
   "source": [
    "events = [(0,5), (9, 17), (2, 7), (4, 5), (6, 10), (14, 15), (11, 13), (12, 15), (8, 9)]\n",
    "%timeit max_concurrent_events(events)\n",
    "%timeit max_concurrent_events_bf(events)"
   ]
  },
  {
   "cell_type": "markdown",
   "metadata": {},
   "source": [
    "### 14.7 - Compute The Union Of Intervals\n",
    "In this problem we consider sets of intervals with integer endpoints; the intervals may be open or closed at either end. We want to compute the union of the intervals in such sets. A concrete example is given in Figure 14.2."
   ]
  },
  {
   "cell_type": "code",
   "execution_count": 15,
   "metadata": {
    "collapsed": false
   },
   "outputs": [],
   "source": [
    "import math\n",
    "from functools import total_ordering\n",
    "class endpoint():\n",
    "    def __init__(self, value, is_closed):\n",
    "        self.value = value\n",
    "        self.is_closed = is_closed\n",
    "        \n",
    "@total_ordering\n",
    "class interval():\n",
    "    def __init__(self, start, start_closed, end, end_closed):\n",
    "        self.start = start\n",
    "        self.start_closed = start_closed\n",
    "        self.end = end\n",
    "        self.end_closed = end_closed\n",
    "        self.actual_start = start if start_closed else start + 1\n",
    "        self.actual_end = end if end_closed else end - 1\n",
    "    \n",
    "    def __lt__(self, other):\n",
    "        if self.start < other.start:\n",
    "            return True\n",
    "        elif self.start == other.start:\n",
    "            #[0,1] < (0,1]\n",
    "            return self.start_closed and not other.start_closed\n",
    "        return False\n",
    "\n",
    "    def __eq__(self, other):\n",
    "        same_start = self.start == other.start\n",
    "        same_start_closed = self.start_closed == other.start_closed\n",
    "        return same_start and same_start_closed\n",
    "\n",
    "    def __repr__(self):\n",
    "        start = \"{0}{1},\".format(\"[\" if self.start_closed else \"(\", self.start)\n",
    "        end = \"{0}{1}\".format(self.end, \"]\" if self.end_closed else \")\")\n",
    "        return start + end\n",
    "    __str__ = __repr__\n",
    "    \n",
    "    def intersects(self, other):\n",
    "        # [1,1].intersects((0,3)) --> True\n",
    "        #(16,17) NOT intersects [12,16]\n",
    "        return self.start <= other.end\n",
    "    \n",
    "    def add_to(self, other):\n",
    "        # [1,1].add_to((0,3)) --> (0, 3)\n",
    "        # [2,4].add_to((0, 3)) --> (0, 4]\n",
    "        #only add if self.actual_end is greater than other.actual_end\n",
    "        if self.actual_end >= other.actual_end:\n",
    "            other.end = self.end\n",
    "            other.end_closed = self.end_closed\n",
    "            other.actual_end = other.end if other.end_closed else other.end - 1\n",
    "    \n",
    "\n",
    "            \n",
    "def union_of_intervals(intervals):\n",
    "    #sort intervals by start point\n",
    "    intervals.sort()\n",
    "    disjoint_intervals = []\n",
    "    disjoint_intervals.append(intervals[0])\n",
    "    for i in range(1,len(intervals)):\n",
    "        curr_interval = intervals[i]\n",
    "        if curr_interval.intersects(disjoint_intervals[-1]):\n",
    "            print(curr_interval,\"intersects\",disjoint_intervals[-1])\n",
    "            curr_interval.add_to(disjoint_intervals[-1])\n",
    "        else:\n",
    "            disjoint_intervals.append(curr_interval)\n",
    "    return disjoint_intervals"
   ]
  },
  {
   "cell_type": "code",
   "execution_count": 16,
   "metadata": {
    "collapsed": false
   },
   "outputs": [
    {
     "name": "stdout",
     "output_type": "stream",
     "text": [
      "[1,1] intersects (0,3)\n",
      "[2,4] intersects (0,3)\n",
      "[3,4) intersects (0,4]\n",
      "[7,8) intersects [5,7)\n",
      "[8,11) intersects [5,8)\n",
      "(9,11] intersects [5,11)\n",
      "(12,16] intersects [12,14]\n",
      "(13,15) intersects [12,16]\n",
      "(16,17) intersects [12,16]\n"
     ]
    },
    {
     "data": {
      "text/plain": [
       "[(0,4], [5,11], [12,17)]"
      ]
     },
     "execution_count": 16,
     "metadata": {},
     "output_type": "execute_result"
    }
   ],
   "source": [
    "intervals = [interval(0,False,3,False), interval(1,True,1,True), interval(2,True,4,True), interval(3,True,4,False),\n",
    "            interval(5,True,7,False), interval(7,True,8,False), interval(8,True,11,False), interval(9,False,11,True),\n",
    "            interval(12,True,14,True), interval(12,False,16,True), interval(13,False,15,False), interval(16,False,17,False)]\n",
    "union_of_intervals(intervals)"
   ]
  },
  {
   "cell_type": "markdown",
   "metadata": {
    "collapsed": false
   },
   "source": [
    "### 14.8 - Partioning And Sorting An Array With Many Repeated Entries\n",
    "You are given an array of student objects. Each student has an integer-valued age field that is to be treated as a key. Rearrange the elements of the array so that students of equal age appear together. The order in which different ages appear is not important. \n",
    "\n",
    "How would your solution change if ages have to appear in sorted order?"
   ]
  },
  {
   "cell_type": "code",
   "execution_count": 24,
   "metadata": {
    "collapsed": false
   },
   "outputs": [],
   "source": [
    "class Student():\n",
    "    def __init__(self, name, age):\n",
    "        self.name = name\n",
    "        self.age = age\n",
    "    def __repr__(self):\n",
    "        return \"{0}{1}\".format(self.name, self.age)\n",
    "    \n",
    "def group_students_by_ages_bf(students):\n",
    "    age_to_students = {}\n",
    "    for student in students:\n",
    "        if student.age in age_to_students:\n",
    "            age_to_students[student.age].append(student)\n",
    "        else:\n",
    "            age_to_students[student.age] = [student]\n",
    "    grouped = [student for age_group in age_to_students.values() for student in age_group]\n",
    "    return grouped"
   ]
  },
  {
   "cell_type": "code",
   "execution_count": 25,
   "metadata": {
    "collapsed": false
   },
   "outputs": [
    {
     "data": {
      "text/plain": [
       "[G3, B4, F4, A5, C5, H5, D6, E7]"
      ]
     },
     "execution_count": 25,
     "metadata": {},
     "output_type": "execute_result"
    }
   ],
   "source": [
    "students = [Student(\"A\", 5), Student(\"B\", 4), Student(\"C\", 5), Student(\"D\", 6),\n",
    "            Student(\"E\", 7), Student(\"F\", 4), Student(\"G\", 3), Student(\"H\", 5)]\n",
    "group_students_by_ages_bf(students)"
   ]
  },
  {
   "cell_type": "code",
   "execution_count": 54,
   "metadata": {
    "collapsed": false
   },
   "outputs": [],
   "source": [
    "def group_students_by_age(students):\n",
    "    age_to_count = {}\n",
    "    for student in students:\n",
    "        if student.age in age_to_count:\n",
    "            age_to_count[student.age] += 1\n",
    "        else:\n",
    "            age_to_count[student.age] = 1\n",
    "    age_to_offset = {}\n",
    "    cumulative_offset = 0\n",
    "    for age, count in age_to_count.items():\n",
    "        age_to_offset[age] = cumulative_offset\n",
    "        cumulative_offset += count\n",
    "    while len(age_to_offset):\n",
    "        swap_from_age = list(age_to_offset.keys())[0]\n",
    "        swap_from_ix = age_to_offset[swap_from_age]\n",
    "        swap_to_age = students[swap_from_ix].age\n",
    "        swap_to_ix = age_to_offset[swap_to_age]\n",
    "        #swap_to is the subarray that gets the correct val\n",
    "        students[swap_from_ix], students[swap_to_ix] = students[swap_to_ix], students[swap_from_ix]\n",
    "        age_to_count[swap_to_age] -= 1\n",
    "        if age_to_count[swap_to_age] > 0:\n",
    "            age_to_offset[swap_to_age] += 1\n",
    "        else:\n",
    "            del age_to_offset[swap_to_age]\n",
    "    return students\n",
    "        \n",
    "        "
   ]
  },
  {
   "cell_type": "code",
   "execution_count": 55,
   "metadata": {
    "collapsed": false
   },
   "outputs": [
    {
     "data": {
      "text/plain": [
       "[G3, B4, F4, A5, C5, H5, D6, E7]"
      ]
     },
     "execution_count": 55,
     "metadata": {},
     "output_type": "execute_result"
    }
   ],
   "source": [
    "students = [Student(\"A\", 5), Student(\"B\", 4), Student(\"C\", 5), Student(\"D\", 6),\n",
    "            Student(\"E\", 7), Student(\"F\", 4), Student(\"G\", 3), Student(\"H\", 5)]\n",
    "group_students_by_age(students)\n"
   ]
  }
 ],
 "metadata": {
  "anaconda-cloud": {},
  "kernelspec": {
   "display_name": "Python [Root]",
   "language": "python",
   "name": "Python [Root]"
  },
  "language_info": {
   "codemirror_mode": {
    "name": "ipython",
    "version": 3
   },
   "file_extension": ".py",
   "mimetype": "text/x-python",
   "name": "python",
   "nbconvert_exporter": "python",
   "pygments_lexer": "ipython3",
   "version": "3.5.2"
  }
 },
 "nbformat": 4,
 "nbformat_minor": 0
}

{
 "cells": [
  {
   "cell_type": "markdown",
   "metadata": {},
   "source": [
    "# Elements of Programming Interviews\n",
    "\n",
    "### Track 3: 7.1, 7.4, 7.5, 7.6, 7.7, 7.8, 7.13, 7.14 "
   ]
  },
  {
   "cell_type": "markdown",
   "metadata": {},
   "source": [
    "### 7.1 - Interconvert Strings and Integers\n",
    ">*A string is a sequence of characters. A string may encode an integer, e.g. \"123\" encodes 123. In this problem, you are to implement methods that take a string representing an integer and return the corresponding integer, and vice versa.The code should also handle negative integers.\n"
   ]
  },
  {
   "cell_type": "code",
   "execution_count": 18,
   "metadata": {
    "collapsed": false
   },
   "outputs": [],
   "source": [
    "def str_to_num(num_str):\n",
    "    num = 0\n",
    "    for i, digit in enumerate(reversed(num_str)):\n",
    "        if digit is not '-':\n",
    "            num += ((ord(digit) - 48) * 10**i)\n",
    "    if num_str[0] == '-':\n",
    "        num *= -1\n",
    "    return num\n",
    "def num_to_str(num):\n",
    "    num_str = \"\"\n",
    "    is_negative = False\n",
    "    if num < 0:\n",
    "        is_negative = True\n",
    "        num *= -1\n",
    "    \n",
    "    while num > 0:\n",
    "        digit = num % 10\n",
    "        num_str += chr(digit + 48)\n",
    "        num /= 10\n",
    "    if is_negative:\n",
    "        num_str += \"-\"\n",
    "    return num_str[::-1]"
   ]
  },
  {
   "cell_type": "code",
   "execution_count": 22,
   "metadata": {
    "collapsed": false
   },
   "outputs": [
    {
     "data": {
      "text/plain": [
       "'123'"
      ]
     },
     "execution_count": 22,
     "metadata": {},
     "output_type": "execute_result"
    }
   ],
   "source": [
    "num_to_str(123)"
   ]
  },
  {
   "cell_type": "markdown",
   "metadata": {},
   "source": [
    "### 7.4 - Replace and Remove\n",
    ">*Write a program that takes as input a string s, and removes each \"b\" and replaces each 'a' by 'dd'. Assume s is stored in an array that has enough space for the final result.*\n",
    ">>Note: It is straightforawrd to implement a solution using O(n) space complexity, so that will be avoided."
   ]
  },
  {
   "cell_type": "code",
   "execution_count": 33,
   "metadata": {
    "collapsed": false
   },
   "outputs": [
    {
     "data": {
      "text/plain": [
       "(['a', 'd', 'd', 'c', 'x', 'x', 'x'], 5)"
      ]
     },
     "execution_count": 33,
     "metadata": {},
     "output_type": "execute_result"
    }
   ],
   "source": [
    "def rep_and_rem(s):\n",
    "    #first get rid of the b's, shift everything left\n",
    "    shift_left = 0\n",
    "    length = 0\n",
    "    for i, char in enumerate(s):\n",
    "        if char == 'b':\n",
    "            shift_left += 1\n",
    "            continue\n",
    "        s[i - shift_left] = s[i]\n",
    "        length += 1\n",
    "    for i in range(length, len(s)):\n",
    "        s[i] = 0\n",
    "    #now loop thorugh backwards\n",
    "    back = length-1\n",
    "    curr_ix = len(s) -1\n",
    "    while back >= 0:\n",
    "        char = s[back]\n",
    "        if char == 'a':\n",
    "            s[curr_ix] = 'd'\n",
    "            curr_ix -= 1\n",
    "            s[curr_ix] = 'd'\n",
    "            curr_ix -= 1\n",
    "        else:\n",
    "            s[curr_ix] = char\n",
    "            curr_ix -= 1\n",
    "        back -= 1\n",
    "    return s, length\n",
    "rep_and_rem(list(\"abcbxxx\"))"
   ]
  }
 ],
 "metadata": {
  "kernelspec": {
   "display_name": "Python [Root]",
   "language": "python",
   "name": "Python [Root]"
  },
  "language_info": {
   "codemirror_mode": {
    "name": "ipython",
    "version": 2
   },
   "file_extension": ".py",
   "mimetype": "text/x-python",
   "name": "python",
   "nbconvert_exporter": "python",
   "pygments_lexer": "ipython2",
   "version": "2.7.12"
  }
 },
 "nbformat": 4,
 "nbformat_minor": 0
}

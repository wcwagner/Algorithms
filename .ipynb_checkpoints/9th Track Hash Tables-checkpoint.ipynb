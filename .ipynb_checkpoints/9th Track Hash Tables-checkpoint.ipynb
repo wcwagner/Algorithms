{
 "cells": [
  {
   "cell_type": "markdown",
   "metadata": {},
   "source": [
    "# Elements Of Programming Interviews\n",
    "## Hash Tables\n",
    "### Track 9: 13.1, 13.2, 13.3, 13.4, 13.5, 13.7, 13.8, 13.11"
   ]
  },
  {
   "cell_type": "markdown",
   "metadata": {},
   "source": [
    "### 13.1 - Partitioning Into Anagrams\n",
    "Anagrams are popular word play puzzles, where by rearranging letters of one set of words, you get another set of words. For example, \"eleven plus two\" is an anagram for \"twelve plus one\".\n",
    "\n",
    "Write a program that takes as input a set of words and returns group of anagrams for those words.\n",
    "\n",
    "For example, if the input is:\n",
    "\n",
    "*\"debitcard\", \"elvis\", \"silent\", \"badcredit\", \"lives\", \"freedom\", \"listen\", \"levis\"*\n",
    "\n",
    "Then there are three groups of anagrams:\n",
    "\n",
    "1. \"debitcard\", \"badcredit\"\n",
    "2. \"elvis\", \"lives\", \"levis\"\n",
    "3. \"silent\", \"listen\""
   ]
  },
  {
   "cell_type": "code",
   "execution_count": 28,
   "metadata": {
    "collapsed": true
   },
   "outputs": [],
   "source": [
    "def group_anagrams(words):\n",
    "    pass"
   ]
  },
  {
   "cell_type": "code",
   "execution_count": 86,
   "metadata": {
    "collapsed": true
   },
   "outputs": [],
   "source": [
    "class HashTable(object):\n",
    "    #simple ht class to solve anagram algorithm below\n",
    "    def __init__(self, hash_function, size=256):\n",
    "        self.hash_function = hash_function\n",
    "        self.buckets = [list() for i in range(size)]\n",
    "        self.size = size\n",
    "\n",
    "    def __getitem__(self, key):\n",
    "        hash_value = self.hash_function(key) % self.size\n",
    "        bucket = self.buckets[hash_value]\n",
    "        if bucket:\n",
    "            return bucket\n",
    "        else:\n",
    "            raise KeyError(key)\n",
    "\n",
    "    def __setitem__(self, key, value):\n",
    "        hash_value = self.hash_function(key) % self.size\n",
    "        bucket = self.buckets[hash_value]\n",
    "        i = 0\n",
    "        found = False\n",
    "        for stored_value in bucket:\n",
    "            if stored_value == key:\n",
    "                 found = True\n",
    "                 break\n",
    "            i += 1\n",
    "        if not found:\n",
    "            bucket.append(value)\n",
    "            \n",
    "    def get_buckets(self):\n",
    "        ret = []\n",
    "        for bucket in self.buckets:\n",
    "            if bucket:\n",
    "                ret += bucket\n",
    "        return ret"
   ]
  },
  {
   "cell_type": "code",
   "execution_count": 97,
   "metadata": {
    "collapsed": false
   },
   "outputs": [],
   "source": [
    "def string_hash(word):\n",
    "    val = 0\n",
    "    for c in word:\n",
    "        val += ord(c)\n",
    "    return val\n",
    "\n",
    "def group_anagrams(words):\n",
    "    ht = HashTable(string_hash)\n",
    "    for word in words:\n",
    "        ht[word] = word\n",
    "    return ht.get_buckets()"
   ]
  },
  {
   "cell_type": "code",
   "execution_count": 116,
   "metadata": {
    "collapsed": false
   },
   "outputs": [
    {
     "data": {
      "text/plain": [
       "['elvis', 'lives', 'silent', 'debitcard', 'badcredit']"
      ]
     },
     "execution_count": 116,
     "metadata": {},
     "output_type": "execute_result"
    }
   ],
   "source": [
    "group_anagrams([\"debitcard\", \"elvis\", \"silent\", \"badcredit\", \"lives\", \"silent\"])"
   ]
  },
  {
   "cell_type": "code",
   "execution_count": 110,
   "metadata": {
    "collapsed": true
   },
   "outputs": [],
   "source": [
    "def group_anagrams_alt(words):\n",
    "    h = {}\n",
    "    for word in words:\n",
    "        key = \"\".join(sorted(word))\n",
    "        if key in h.keys():\n",
    "            h[key].append(word)\n",
    "        else:\n",
    "            h[key] = [word]\n",
    "    groups = []\n",
    "    for key in h:\n",
    "        if len(h[key]) >= 2:\n",
    "            groups.append(h[key])\n",
    "    return groups"
   ]
  },
  {
   "cell_type": "code",
   "execution_count": 115,
   "metadata": {
    "collapsed": false
   },
   "outputs": [
    {
     "data": {
      "text/plain": [
       "[['elvis', 'lives'], ['debitcard', 'badcredit'], ['silent', 'silent']]"
      ]
     },
     "execution_count": 115,
     "metadata": {},
     "output_type": "execute_result"
    }
   ],
   "source": [
    "group_anagrams_alt([\"debitcard\", \"elvis\", \"silent\", \"badcredit\", \"lives\", \"silent\"])"
   ]
  }
 ],
 "metadata": {
  "kernelspec": {
   "display_name": "Python [Root]",
   "language": "python",
   "name": "Python [Root]"
  },
  "language_info": {
   "codemirror_mode": {
    "name": "ipython",
    "version": 3
   },
   "file_extension": ".py",
   "mimetype": "text/x-python",
   "name": "python",
   "nbconvert_exporter": "python",
   "pygments_lexer": "ipython3",
   "version": "3.5.2"
  }
 },
 "nbformat": 4,
 "nbformat_minor": 0
}

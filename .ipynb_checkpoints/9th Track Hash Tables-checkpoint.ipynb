{
 "cells": [
  {
   "cell_type": "markdown",
   "metadata": {},
   "source": [
    "# Elements Of Programming Interviews\n",
    "## Hash Tables\n",
    "### Track 9: 13.1, 13.2, 13.3, 13.4, 13.5, 13.7, 13.8, 13.11"
   ]
  },
  {
   "cell_type": "markdown",
   "metadata": {},
   "source": [
    "### 13.1 - Partitioning Into Anagrams\n",
    "Anagrams are popular word play puzzles, where by rearranging letters of one set of words, you get another set of words. For example, \"eleven plus two\" is an anagram for \"twelve plus one\".\n",
    "\n",
    "Write a program that takes as input a set of words and returns group of anagrams for those words.\n",
    "\n",
    "For example, if the input is:\n",
    "\n",
    "*\"debitcard\", \"elvis\", \"silent\", \"badcredit\", \"lives\", \"freedom\", \"listen\", \"levis\"*\n",
    "\n",
    "Then there are three groups of anagrams:\n",
    "\n",
    "1. \"debitcard\", \"badcredit\"\n",
    "2. \"elvis\", \"lives\", \"levis\"\n",
    "3. \"silent\", \"listen\""
   ]
  },
  {
   "cell_type": "code",
   "execution_count": 28,
   "metadata": {
    "collapsed": true
   },
   "outputs": [],
   "source": [
    "def group_anagrams(words):\n",
    "    pass"
   ]
  },
  {
   "cell_type": "code",
   "execution_count": 120,
   "metadata": {
    "collapsed": true
   },
   "outputs": [],
   "source": [
    "class HashTable(object):\n",
    "    #simple ht class to solve anagram algorithm below\n",
    "    def __init__(self, hash_function, size=256):\n",
    "        self.hash_function = hash_function\n",
    "        self.buckets = [list() for i in range(size)]\n",
    "        self.size = size\n",
    "\n",
    "    def __getitem__(self, key):\n",
    "        hash_value = self.hash_function(key) % self.size\n",
    "        bucket = self.buckets[hash_value]\n",
    "        if bucket:\n",
    "            return bucket\n",
    "        else:\n",
    "            raise KeyError(key)\n",
    "\n",
    "    def __setitem__(self, key, value):\n",
    "        hash_value = self.hash_function(key) % self.size\n",
    "        bucket = self.buckets[hash_value]\n",
    "        i = 0\n",
    "        found = False\n",
    "        for stored_value in bucket:\n",
    "            if stored_value == key:\n",
    "                 found = True\n",
    "                 break\n",
    "            i += 1\n",
    "        if not found:\n",
    "            bucket.append(value)\n",
    "            \n",
    "    def get_buckets(self):\n",
    "        ret = []\n",
    "        for bucket in self.buckets:\n",
    "            if len(bucket) >= 2:\n",
    "                ret.append(bucket)\n",
    "        return ret"
   ]
  },
  {
   "cell_type": "code",
   "execution_count": 121,
   "metadata": {
    "collapsed": false
   },
   "outputs": [],
   "source": [
    "def string_hash(word):\n",
    "    val = 0\n",
    "    for c in word:\n",
    "        val += ord(c)\n",
    "    return val\n",
    "\n",
    "def group_anagrams(words):\n",
    "    ht = HashTable(string_hash)\n",
    "    for word in words:\n",
    "        ht[word] = word\n",
    "    return ht.get_buckets()"
   ]
  },
  {
   "cell_type": "code",
   "execution_count": 123,
   "metadata": {
    "collapsed": true
   },
   "outputs": [],
   "source": [
    "def group_anagrams_alt(words):\n",
    "    h = {}\n",
    "    for word in words:\n",
    "        key = \"\".join(sorted(word))\n",
    "        if key in h.keys():\n",
    "            h[key].append(word)\n",
    "        else:\n",
    "            h[key] = [word]\n",
    "    groups = []\n",
    "    for key in h:\n",
    "        if len(h[key]) >= 2:\n",
    "            groups.append(h[key])\n",
    "    return groups"
   ]
  },
  {
   "cell_type": "code",
   "execution_count": 129,
   "metadata": {
    "collapsed": false
   },
   "outputs": [
    {
     "data": {
      "text/plain": [
       "([['elvis', 'lives'], ['listen', 'silent'], ['debitcard', 'badcredit']],\n",
       " [['elvis', 'lives'], ['debitcard', 'badcredit'], ['listen', 'silent']])"
      ]
     },
     "execution_count": 129,
     "metadata": {},
     "output_type": "execute_result"
    }
   ],
   "source": [
    "arg = [\"debitcard\", \"elvis\", \"listen\", \"badcredit\", \"lives\", \"silent\"]\n",
    "group_anagrams(arg), group_anagrams_alt(arg)"
   ]
  },
  {
   "cell_type": "markdown",
   "metadata": {},
   "source": [
    "### 13.2 - Test For Palindromic Permutations\n",
    "Write a program to test whether the letters forming a string can be permuted to form a palindrome. For example, \"edified\" can be permuted to form \"deified\"."
   ]
  },
  {
   "cell_type": "code",
   "execution_count": 137,
   "metadata": {
    "collapsed": true
   },
   "outputs": [],
   "source": [
    "def test_for_palindromic_permutation(word):\n",
    "    char_to_freq = {}\n",
    "    for char in word:\n",
    "        if char in char_to_freq.keys():\n",
    "            char_to_freq[char] += 1\n",
    "        else:\n",
    "            char_to_freq[char] = 1\n",
    "    odd_freq_count = 0\n",
    "    for freq in char_to_freq.values():\n",
    "        if freq % 2:\n",
    "            odd_freq_count += 1\n",
    "    return bool(odd_freq_count % 2)"
   ]
  },
  {
   "cell_type": "code",
   "execution_count": 140,
   "metadata": {
    "collapsed": false
   },
   "outputs": [
    {
     "data": {
      "text/plain": [
       "(True, False)"
      ]
     },
     "execution_count": 140,
     "metadata": {},
     "output_type": "execute_result"
    }
   ],
   "source": [
    "test_for_palindromic_permutation(\"edified\"), test_for_palindromic_permutation(\"banana\")"
   ]
  }
 ],
 "metadata": {
  "kernelspec": {
   "display_name": "Python [Root]",
   "language": "python",
   "name": "Python [Root]"
  },
  "language_info": {
   "codemirror_mode": {
    "name": "ipython",
    "version": 3
   },
   "file_extension": ".py",
   "mimetype": "text/x-python",
   "name": "python",
   "nbconvert_exporter": "python",
   "pygments_lexer": "ipython3",
   "version": "3.5.2"
  }
 },
 "nbformat": 4,
 "nbformat_minor": 0
}

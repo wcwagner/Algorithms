{
 "cells": [
  {
   "cell_type": "markdown",
   "metadata": {},
   "source": [
    "# Elements of Programming Interviews\n",
    "## Linked Lists\n",
    "### Track 4: 8.1, 8.2, 8.4, 8.5, 8.8, 8.11, 8.12"
   ]
  },
  {
   "cell_type": "markdown",
   "metadata": {
    "collapsed": true
   },
   "source": [
    "### 8.1 - Merge Two Sorted Lists\n",
    ">Consider two singly linked lists in which each node holds a number. Assume the lists are sorted, i.e. numbers in the lists appear in ascending order within each list. The merge of two lists is a list consisting of the nods of the two lists in which numbers appear in ascending order. \n",
    ">>The only field you can change in a node is *next*."
   ]
  },
  {
   "cell_type": "code",
   "execution_count": 1,
   "metadata": {
    "collapsed": false
   },
   "outputs": [],
   "source": [
    "import os\n",
    "os.chdir(\"/home/william/Python/Algorithms/Data Structures\")\n",
    "from singly_linked_list import SinglyLinkedList"
   ]
  },
  {
   "cell_type": "code",
   "execution_count": 2,
   "metadata": {
    "collapsed": false
   },
   "outputs": [],
   "source": [
    "vals1 = [1, 2, 3, 6, 8, 10]\n",
    "vals2 = [4, 5, 7, 8, 9, 55]\n",
    "list1 = SinglyLinkedList()\n",
    "list2 = SinglyLinkedList()\n",
    "for val in vals1:\n",
    "    list1.append(val)\n",
    "for val in vals2:\n",
    "    list2.append(val)"
   ]
  },
  {
   "cell_type": "code",
   "execution_count": 3,
   "metadata": {
    "collapsed": false
   },
   "outputs": [],
   "source": [
    "def merge_two_lists_bf(list1, list2):\n",
    "    res = SinglyLinkedList()\n",
    "    iter1, iter2 = list1.head, list2.head\n",
    "    while iter1 and iter2:\n",
    "        if iter1.data >= iter2.data:\n",
    "            res.append(iter2)\n",
    "            iter2 = iter2.next_\n",
    "        else: #iter2.data > iter1.data\n",
    "            res.append(iter1)\n",
    "            iter1 = iter1.next_\n",
    "    #append the last remaining elements of the valid list\n",
    "    if iter1:\n",
    "        res.append(iter1)\n",
    "    else:\n",
    "        res.append(iter2)\n",
    "    return res"
   ]
  },
  {
   "cell_type": "code",
   "execution_count": 4,
   "metadata": {
    "collapsed": false
   },
   "outputs": [
    {
     "name": "stdout",
     "output_type": "stream",
     "text": [
      "1 2 3 4 5 6 7 8 8 9 10 55\n"
     ]
    }
   ],
   "source": [
    "res = merge_two_lists_bf(list1, list2)\n",
    "res.print_list()"
   ]
  },
  {
   "cell_type": "markdown",
   "metadata": {},
   "source": [
    "### 8.2 - Reverse a Singly Linked List\n",
    ">Give a linear time non-recursive function that reverses a singly linked list. The function should use no more than constant storage beyond that needed for the list itself."
   ]
  },
  {
   "cell_type": "code",
   "execution_count": 5,
   "metadata": {
    "collapsed": false
   },
   "outputs": [],
   "source": [
    "def reverse_singly_list_1st(l):\n",
    "    r_next_node, next_node, tmp = None, None, None\n",
    "    iter_ = l.head\n",
    "    \n",
    "    while iter_ is not None:\n",
    "        if iter_ is l.head:\n",
    "            r_next_node = None\n",
    "        else:\n",
    "            r_next_node = tmp\n",
    "        tmp = iter_\n",
    "        next_node = iter_.next_\n",
    "        iter_.next_ = r_next_node\n",
    "        iter_ = next_node\n",
    "        if next_node is None:\n",
    "            l.head = tmp\n",
    "    \n",
    "def reverse_singly_list(l):\n",
    "    curr = l.head\n",
    "    prev = None\n",
    "    while(curr):\n",
    "        next_ = curr.next_\n",
    "        curr.next_ = prev\n",
    "        prev = curr\n",
    "        curr = next_\n",
    "        if next_ is None:\n",
    "            l.head = prev"
   ]
  },
  {
   "cell_type": "code",
   "execution_count": 6,
   "metadata": {
    "collapsed": false
   },
   "outputs": [
    {
     "name": "stdout",
     "output_type": "stream",
     "text": [
      "1 2 3 4 5 6 7 8 9 10 \n",
      "\n",
      "10 9 8 7 6 5 4 3 2 1\n"
     ]
    }
   ],
   "source": [
    "list1 = SinglyLinkedList()\n",
    "for i in range(1,11):\n",
    "    list1.append(i)\n",
    "list1.print_list()\n",
    "reverse_singly_list(list1)\n",
    "print \"\\n\"\n",
    "list1.print_list()"
   ]
  },
  {
   "cell_type": "code",
   "execution_count": null,
   "metadata": {
    "collapsed": true
   },
   "outputs": [],
   "source": []
  }
 ],
 "metadata": {
  "kernelspec": {
   "display_name": "Python [Root]",
   "language": "python",
   "name": "Python [Root]"
  },
  "language_info": {
   "codemirror_mode": {
    "name": "ipython",
    "version": 2
   },
   "file_extension": ".py",
   "mimetype": "text/x-python",
   "name": "python",
   "nbconvert_exporter": "python",
   "pygments_lexer": "ipython2",
   "version": "2.7.12"
  }
 },
 "nbformat": 4,
 "nbformat_minor": 0
}

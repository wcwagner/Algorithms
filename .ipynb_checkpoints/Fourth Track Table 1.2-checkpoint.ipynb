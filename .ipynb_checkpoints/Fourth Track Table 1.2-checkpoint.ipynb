{
 "cells": [
  {
   "cell_type": "markdown",
   "metadata": {},
   "source": [
    "# Elements of Programming Interviews\n",
    "## Linked Lists\n",
    "### Track 4: 8.1, 8.2, 8.4, 8.5, 8.8, 8.11, 8.12"
   ]
  },
  {
   "cell_type": "markdown",
   "metadata": {
    "collapsed": true
   },
   "source": [
    "### 8.1 - Merge Two Sorted Lists\n",
    ">Consider two singly linked lists in which each node holds a number. Assume the lists are sorted, i.e. numbers in the lists appear in ascending order within each list. The merge of two lists is a list consisting of the nods of the two lists in which numbers appear in ascending order. \n",
    ">>The only field you can change in a node is *next*."
   ]
  },
  {
   "cell_type": "code",
   "execution_count": 1,
   "metadata": {
    "collapsed": false
   },
   "outputs": [],
   "source": [
    "import os\n",
    "os.chdir(\"/home/william/Python/Algorithms/Data Structures\")\n",
    "from singly_linked_list import SinglyLinkedList"
   ]
  },
  {
   "cell_type": "code",
   "execution_count": 2,
   "metadata": {
    "collapsed": false
   },
   "outputs": [],
   "source": [
    "vals1 = [1, 2, 3, 6, 8, 10]\n",
    "vals2 = [4, 5, 7, 8, 9, 55]\n",
    "list1 = SinglyLinkedList()\n",
    "list2 = SinglyLinkedList()\n",
    "for val in vals1:\n",
    "    list1.append(val)\n",
    "for val in vals2:\n",
    "    list2.append(val)"
   ]
  },
  {
   "cell_type": "code",
   "execution_count": 3,
   "metadata": {
    "collapsed": false
   },
   "outputs": [],
   "source": [
    "def merge_two_lists_bf(list1, list2):\n",
    "    res = SinglyLinkedList()\n",
    "    iter1, iter2 = list1.head, list2.head\n",
    "    while iter1 and iter2:\n",
    "        if iter1.data >= iter2.data:\n",
    "            res.append(iter2)\n",
    "            iter2 = iter2.next_\n",
    "        else: #iter2.data > iter1.data\n",
    "            res.append(iter1)\n",
    "            iter1 = iter1.next_\n",
    "    #append the last remaining elements of the valid list\n",
    "    if iter1:\n",
    "        res.append(iter1)\n",
    "    else:\n",
    "        res.append(iter2)\n",
    "    return res"
   ]
  },
  {
   "cell_type": "code",
   "execution_count": 4,
   "metadata": {
    "collapsed": false
   },
   "outputs": [
    {
     "name": "stdout",
     "output_type": "stream",
     "text": [
      "1 2 3 4 5 6 7 8 8 9 10 55\n"
     ]
    }
   ],
   "source": [
    "res = merge_two_lists_bf(list1, list2)\n",
    "res.print_list()"
   ]
  },
  {
   "cell_type": "markdown",
   "metadata": {},
   "source": [
    "### 8.2 - Reverse a Singly Linked List\n",
    ">Give a linear time non-recursive function that reverses a singly linked list. The function should use no more than constant storage beyond that needed for the list itself."
   ]
  },
  {
   "cell_type": "code",
   "execution_count": 5,
   "metadata": {
    "collapsed": false
   },
   "outputs": [],
   "source": [
    "def reverse_singly_list_1st(l):\n",
    "    r_next_node, next_node, tmp = None, None, None\n",
    "    iter_ = l.head\n",
    "    \n",
    "    while iter_ is not None:\n",
    "        if iter_ is l.head:\n",
    "            r_next_node = None\n",
    "        else:\n",
    "            r_next_node = tmp\n",
    "        tmp = iter_\n",
    "        next_node = iter_.next_\n",
    "        iter_.next_ = r_next_node\n",
    "        iter_ = next_node\n",
    "        if next_node is None:\n",
    "            l.head = tmp\n",
    "    \n",
    "def reverse_singly_list(l):\n",
    "    curr = l.head\n",
    "    prev = None\n",
    "    while(curr):\n",
    "        next_ = curr.next_\n",
    "        curr.next_ = prev\n",
    "        prev = curr\n",
    "        curr = next_\n",
    "        if next_ is None:\n",
    "            l.head = prev"
   ]
  },
  {
   "cell_type": "code",
   "execution_count": 6,
   "metadata": {
    "collapsed": false
   },
   "outputs": [
    {
     "name": "stdout",
     "output_type": "stream",
     "text": [
      "1 2 3 4 5 6 7 8 9 10 \n",
      "\n",
      "10 9 8 7 6 5 4 3 2 1\n"
     ]
    }
   ],
   "source": [
    "list1 = SinglyLinkedList()\n",
    "for i in range(1,11):\n",
    "    list1.append(i)\n",
    "list1.print_list()\n",
    "reverse_singly_list(list1)\n",
    "print \"\\n\"\n",
    "list1.print_list()"
   ]
  },
  {
   "cell_type": "markdown",
   "metadata": {},
   "source": [
    "### 8.4 - Test for Cyclicity\n",
    ">Given a reference to the head of a singly linked list how would you determine whether the list ends in a null or reaches a cycle of nodes. Write a program that returns null if no cycle is presend, or a reference to the start of the cycle if one is present. You do not know the length of the list in advance,"
   ]
  },
  {
   "cell_type": "markdown",
   "metadata": {},
   "source": [
    "#### This implementation is bad on space complexity, as it uses O(N) space."
   ]
  },
  {
   "cell_type": "code",
   "execution_count": 7,
   "metadata": {
    "collapsed": true
   },
   "outputs": [],
   "source": [
    "#bad space complexity\n",
    "def test_list_for_cyclicity_bf(l):\n",
    "    visited_nodes = []\n",
    "    curr = l.head\n",
    "    while curr not in visited_nodes and curr is not None:\n",
    "        visited_nodes.append(curr)\n",
    "        curr = curr.next_\n",
    "    return curr"
   ]
  },
  {
   "cell_type": "code",
   "execution_count": 8,
   "metadata": {
    "collapsed": false
   },
   "outputs": [],
   "source": [
    "cyclic_list = SinglyLinkedList()\n",
    "for i in range(1,8):\n",
    "    cyclic_list.append(i)\n",
    "#start cycle at second node\n",
    "start_cycle_node = cyclic_list.head.next_\n",
    "end_cycle_node = start_cycle_node.next_.next_.next_.next_\n",
    "end_cycle_node.next_ = start_cycle_node\n",
    "\n",
    "acyclic_list = SinglyLinkedList()\n",
    "for i in range(1,11):\n",
    "    acyclic_list.append(i)"
   ]
  },
  {
   "cell_type": "code",
   "execution_count": 9,
   "metadata": {
    "collapsed": false
   },
   "outputs": [
    {
     "name": "stdout",
     "output_type": "stream",
     "text": [
      "True\n",
      "True\n"
     ]
    }
   ],
   "source": [
    "print test_list_for_cyclicity_bf(cyclic_list) is start_cycle_node\n",
    "print test_list_for_cyclicity_bf(acyclic_list) is None"
   ]
  },
  {
   "cell_type": "markdown",
   "metadata": {},
   "source": [
    ">This implementation uses two iterators. In the outer loop, the slow iterator is advanced once per loop, whereas the fast iterator will advance twice. If there is a cycle, then eventually the fast iterator and the slow iterator will meet. \n",
    "\n",
    ">Once a cycle is found, it's length must be detrmined. "
   ]
  },
  {
   "cell_type": "code",
   "execution_count": 10,
   "metadata": {
    "collapsed": true
   },
   "outputs": [],
   "source": [
    "def get_cycle_length(l, slow_iter, fast_iter):\n",
    "    fast_iter = fast_iter.next_\n",
    "    length = 1\n",
    "    while fast_iter.next_ is not slow_iter:\n",
    "        fast_iter = fast_iter.next_\n",
    "        length += 1\n",
    "    return length\n",
    "    \n",
    "def test_list_for_cyclicity(l):\n",
    "    fast_iter = l.head\n",
    "    slow_iter = l.head\n",
    "    while fast_iter and fast_iter.next_ and fast_iter.next_.next_:\n",
    "        slow_iter = slow_iter.next_\n",
    "        fast_iter = fast_iter.next_.next_\n",
    "        #get cycle length\n",
    "        length = 0\n",
    "        if slow_iter is fast_iter:\n",
    "            break\n",
    "    length = get_cycle_length(l, slow_iter, fast_iter)\n",
    "    print length"
   ]
  },
  {
   "cell_type": "code",
   "execution_count": 11,
   "metadata": {
    "collapsed": false
   },
   "outputs": [
    {
     "name": "stdout",
     "output_type": "stream",
     "text": [
      "5\n"
     ]
    }
   ],
   "source": [
    "test_list_for_cyclicity(cyclic_list)"
   ]
  },
  {
   "cell_type": "code",
   "execution_count": null,
   "metadata": {
    "collapsed": true
   },
   "outputs": [],
   "source": []
  }
 ],
 "metadata": {
  "kernelspec": {
   "display_name": "Python [Root]",
   "language": "python",
   "name": "Python [Root]"
  },
  "language_info": {
   "codemirror_mode": {
    "name": "ipython",
    "version": 2
   },
   "file_extension": ".py",
   "mimetype": "text/x-python",
   "name": "python",
   "nbconvert_exporter": "python",
   "pygments_lexer": "ipython2",
   "version": "2.7.12"
  }
 },
 "nbformat": 4,
 "nbformat_minor": 0
}

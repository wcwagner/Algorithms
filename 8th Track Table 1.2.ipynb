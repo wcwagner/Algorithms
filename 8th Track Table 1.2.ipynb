{
 "cells": [
  {
   "cell_type": "markdown",
   "metadata": {},
   "source": [
    "# Elements Of Programming Interviews\n",
    "## Searching Algorithms\n",
    "### Track 8: 12.1, 12.4, 12.5, 12.6, 12.7, 12.8, 12.9, 12.11, 12.12"
   ]
  },
  {
   "cell_type": "markdown",
   "metadata": {},
   "source": [
    "### 12.1 - Search A Sorted Array For The First Occurence Of K\n",
    ">Write a method that takes a sorted array and a key and returns the index of the *first* occurence of that key in the array.\n",
    "\n",
    "First a basic binary search"
   ]
  },
  {
   "cell_type": "code",
   "execution_count": 4,
   "metadata": {
    "collapsed": true
   },
   "outputs": [],
   "source": [
    "def binary_search(arr, k):\n",
    "    s = 0; e = len(arr) - 1\n",
    "    #s:start_index, e:end_index, m:middle_index\n",
    "    while s <= e:\n",
    "        m = int(s + (e - s) / 2)\n",
    "        if arr[m] < k:\n",
    "            s = m + 1\n",
    "        elif arr[m] == k:\n",
    "            return m\n",
    "        else:\n",
    "            e = m - 1\n",
    "    return -1"
   ]
  },
  {
   "cell_type": "code",
   "execution_count": 9,
   "metadata": {
    "collapsed": false
   },
   "outputs": [
    {
     "data": {
      "text/plain": [
       "(2, -1)"
      ]
     },
     "execution_count": 9,
     "metadata": {},
     "output_type": "execute_result"
    }
   ],
   "source": [
    "binary_search(range(10), 2), binary_search(range(0,10,2), 3)"
   ]
  },
  {
   "cell_type": "markdown",
   "metadata": {},
   "source": [
    "I can use a basic binary search, once I find a key, then all the other equivalent keys must be directly adjacent to the curr index. The slower way to find the first index would be to loop backwards until the last occurence of the key is found. A better implementation would be to continue the binary search."
   ]
  },
  {
   "cell_type": "code",
   "execution_count": 16,
   "metadata": {
    "collapsed": true
   },
   "outputs": [],
   "source": [
    "def first_occurence_bf(arr, k):\n",
    "    s = 0; e = len(arr) - 1\n",
    "    #s:start_index, e:end_index, m:middle_index\n",
    "    while s <= e:\n",
    "        m = int(s + (e - s) / 2)\n",
    "        if arr[m] < k:\n",
    "            s = m + 1\n",
    "        elif arr[m] == k:\n",
    "            while m > 0 and arr[m - 1] == k:\n",
    "                m -= 1\n",
    "            return m\n",
    "        else:\n",
    "            e = m - 1\n",
    "    return -1"
   ]
  },
  {
   "cell_type": "code",
   "execution_count": 17,
   "metadata": {
    "collapsed": false
   },
   "outputs": [
    {
     "data": {
      "text/plain": [
       "1"
      ]
     },
     "execution_count": 17,
     "metadata": {},
     "output_type": "execute_result"
    }
   ],
   "source": [
    "first_occurence_bf([0, 2, 2, 2, 2, 2, 2, 3, 4, 5, 6, 7], 2)"
   ]
  },
  {
   "cell_type": "code",
   "execution_count": 43,
   "metadata": {
    "collapsed": true
   },
   "outputs": [],
   "source": [
    "def first_occurence(arr, k):\n",
    "    start = 0; end = len(arr) - 1\n",
    "    #s:start_index, e:end_index, m:middle_index\n",
    "    looking_for_first = False\n",
    "    result = -1\n",
    "    while start <= end:\n",
    "        mid = int(start + (end - start) / 2)\n",
    "        if arr[mid] < k:\n",
    "            start = mid + 1\n",
    "        elif arr[mid] == k:\n",
    "            result = mid\n",
    "            end = mid - 1\n",
    "        else: #arr[mid] < k\n",
    "            end = mid - 1\n",
    "    return result"
   ]
  },
  {
   "cell_type": "code",
   "execution_count": 44,
   "metadata": {
    "collapsed": false
   },
   "outputs": [
    {
     "data": {
      "text/plain": [
       "(2, -1, 0, 4, 0)"
      ]
     },
     "execution_count": 44,
     "metadata": {},
     "output_type": "execute_result"
    }
   ],
   "source": [
    "(first_occurence([1, 2, 3, 3, 3, 3, 3, 5, 6, 7, 8], 3),\n",
    " first_occurence([0], 1), first_occurence([1,1,1,1,1,1,1,1,1,1], 1),\n",
    " first_occurence([1, 2, 3, 5, 6, 6, 6, 6], 6),\n",
    " first_occurence([2]* 500000, 2)\n",
    ")"
   ]
  },
  {
   "cell_type": "markdown",
   "metadata": {},
   "source": [
    "The difference in speed between the two methods is very noticeable"
   ]
  },
  {
   "cell_type": "code",
   "execution_count": 45,
   "metadata": {
    "collapsed": false
   },
   "outputs": [
    {
     "name": "stdout",
     "output_type": "stream",
     "text": [
      "100 loops, best of 3: 2.49 ms per loop\n"
     ]
    }
   ],
   "source": [
    "%timeit first_occurence([2] * 1000000, 2)"
   ]
  },
  {
   "cell_type": "code",
   "execution_count": 46,
   "metadata": {
    "collapsed": false
   },
   "outputs": [
    {
     "name": "stdout",
     "output_type": "stream",
     "text": [
      "10 loops, best of 3: 82.1 ms per loop\n"
     ]
    }
   ],
   "source": [
    "%timeit first_occurence_bf([2] * 1000000, 2)"
   ]
  },
  {
   "cell_type": "markdown",
   "metadata": {},
   "source": []
  }
 ],
 "metadata": {
  "anaconda-cloud": {},
  "kernelspec": {
   "display_name": "Python [Root]",
   "language": "python",
   "name": "Python [Root]"
  },
  "language_info": {
   "codemirror_mode": {
    "name": "ipython",
    "version": 3
   },
   "file_extension": ".py",
   "mimetype": "text/x-python",
   "name": "python",
   "nbconvert_exporter": "python",
   "pygments_lexer": "ipython3",
   "version": "3.5.2"
  }
 },
 "nbformat": 4,
 "nbformat_minor": 0
}

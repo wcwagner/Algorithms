{
 "cells": [
  {
   "cell_type": "markdown",
   "metadata": {},
   "source": [
    "# Elements Of Programming Interviews\n",
    "## Searching Algorithms\n",
    "### Track 8: 12.1, 12.4, 12.5, 12.6, 12.7, 12.8, 12.9, 12.11, 12.12"
   ]
  },
  {
   "cell_type": "markdown",
   "metadata": {},
   "source": [
    "### 12.1 - Search A Sorted Array For The First Occurence Of K\n",
    ">Write a method that takes a sorted array and a key and returns the index of the *first* occurence of that key in the array.\n",
    "\n",
    "First a basic binary search"
   ]
  },
  {
   "cell_type": "code",
   "execution_count": 1,
   "metadata": {
    "collapsed": true
   },
   "outputs": [],
   "source": [
    "def binary_search(arr, k):\n",
    "    s = 0; e = len(arr) - 1\n",
    "    #s:start_index, e:end_index, m:middle_index\n",
    "    while s <= e:\n",
    "        m = int(s + (e - s) / 2)\n",
    "        if arr[m] < k:\n",
    "            s = m + 1\n",
    "        elif arr[m] == k:\n",
    "            return m\n",
    "        else:\n",
    "            e = m - 1\n",
    "    return -1"
   ]
  },
  {
   "cell_type": "code",
   "execution_count": 2,
   "metadata": {
    "collapsed": false
   },
   "outputs": [
    {
     "data": {
      "text/plain": [
       "(2, -1)"
      ]
     },
     "execution_count": 2,
     "metadata": {},
     "output_type": "execute_result"
    }
   ],
   "source": [
    "binary_search(range(10), 2), binary_search(range(0,10,2), 3)"
   ]
  },
  {
   "cell_type": "markdown",
   "metadata": {},
   "source": [
    "I can use a basic binary search, once I find a key, then all the other equivalent keys must be directly adjacent to the curr index. The slower way to find the first index would be to loop backwards until the last occurence of the key is found. A better implementation would be to continue the binary search."
   ]
  },
  {
   "cell_type": "code",
   "execution_count": 3,
   "metadata": {
    "collapsed": true
   },
   "outputs": [],
   "source": [
    "def first_occurence_bf(arr, k):\n",
    "    s = 0; e = len(arr) - 1\n",
    "    #s:start_index, e:end_index, m:middle_index\n",
    "    while s <= e:\n",
    "        m = int(s + (e - s) / 2)\n",
    "        if arr[m] < k:\n",
    "            s = m + 1\n",
    "        elif arr[m] == k:\n",
    "            while m > 0 and arr[m - 1] == k:\n",
    "                m -= 1\n",
    "            return m\n",
    "        else:\n",
    "            e = m - 1\n",
    "    return -1"
   ]
  },
  {
   "cell_type": "code",
   "execution_count": 4,
   "metadata": {
    "collapsed": false
   },
   "outputs": [
    {
     "data": {
      "text/plain": [
       "1"
      ]
     },
     "execution_count": 4,
     "metadata": {},
     "output_type": "execute_result"
    }
   ],
   "source": [
    "first_occurence_bf([0, 2, 2, 2, 2, 2, 2, 3, 4, 5, 6, 7], 2)"
   ]
  },
  {
   "cell_type": "code",
   "execution_count": 5,
   "metadata": {
    "collapsed": true
   },
   "outputs": [],
   "source": [
    "def first_occurence(arr, k):\n",
    "    start = 0; end = len(arr) - 1\n",
    "    #s:start_index, e:end_index, m:middle_index\n",
    "    looking_for_first = False\n",
    "    result = -1\n",
    "    while start <= end:\n",
    "        mid = int(start + (end - start) / 2)\n",
    "        if arr[mid] < k:\n",
    "            start = mid + 1\n",
    "        elif arr[mid] == k:\n",
    "            result = mid\n",
    "            end = mid - 1\n",
    "        else: #arr[mid] < k\n",
    "            end = mid - 1\n",
    "    return result"
   ]
  },
  {
   "cell_type": "code",
   "execution_count": 6,
   "metadata": {
    "collapsed": false
   },
   "outputs": [
    {
     "data": {
      "text/plain": [
       "(2, -1, 0, 4, 0)"
      ]
     },
     "execution_count": 6,
     "metadata": {},
     "output_type": "execute_result"
    }
   ],
   "source": [
    "(first_occurence([1, 2, 3, 3, 3, 3, 3, 5, 6, 7, 8], 3),\n",
    " first_occurence([0], 1), first_occurence([1,1,1,1,1,1,1,1,1,1], 1),\n",
    " first_occurence([1, 2, 3, 5, 6, 6, 6, 6], 6),\n",
    " first_occurence([2]* 500000, 2)\n",
    ")"
   ]
  },
  {
   "cell_type": "markdown",
   "metadata": {},
   "source": [
    "The difference in speed between the two methods is very noticeable"
   ]
  },
  {
   "cell_type": "code",
   "execution_count": 7,
   "metadata": {
    "collapsed": false
   },
   "outputs": [
    {
     "name": "stdout",
     "output_type": "stream",
     "text": [
      "100 loops, best of 3: 2.47 ms per loop\n"
     ]
    }
   ],
   "source": [
    "%timeit first_occurence([2] * 1000000, 2)"
   ]
  },
  {
   "cell_type": "code",
   "execution_count": 8,
   "metadata": {
    "collapsed": false
   },
   "outputs": [
    {
     "name": "stdout",
     "output_type": "stream",
     "text": [
      "10 loops, best of 3: 81.6 ms per loop\n"
     ]
    }
   ],
   "source": [
    "%timeit first_occurence_bf([2] * 1000000, 2)"
   ]
  },
  {
   "cell_type": "markdown",
   "metadata": {},
   "source": [
    "### 12.4 - Search A Cyclically Sorted Array\n",
    "An array is said to be cyclically sorted if it is possible to cyclically shift its entries so that it becomes sorted.\n",
    "For example:\n",
    ">[378, 478, 550, 631, 103, 203, 220, 234, 279, 368]\n",
    "\n",
    "is cyclically sorted--a cyclic left shift by 4 leads to a sorted array.\n",
    "\n",
    "Design an $O(logn)$ algorithm for finding the position of the samllest element in a cyclically sorted array. Assume all elements are **distinct**. For example, for the array example above, the algorithm should return 4 (the index of 103)."
   ]
  },
  {
   "cell_type": "markdown",
   "metadata": {},
   "source": [
    "First I want to find the size of the cycles in the array."
   ]
  },
  {
   "cell_type": "code",
   "execution_count": 9,
   "metadata": {
    "collapsed": false
   },
   "outputs": [],
   "source": [
    "def find_smallest_rec(arr):\n",
    "    if len(arr) == 0:\n",
    "        return None\n",
    "    else:\n",
    "        return smallest_helper(arr, 0, len(arr) - 1)\n",
    "\n",
    "def smallest_helper_rec(arr, left, right):\n",
    "    #from IPython.core.debugger import Tracer    \n",
    "    #Tracer()()\n",
    "    if right - left == 1:\n",
    "        return arr[right]\n",
    "    else:\n",
    "        mid = int(left + (right - left) / 2)\n",
    "        if arr[mid] < arr[right]:\n",
    "            right = mid\n",
    "        elif arr[mid] > arr[right]:\n",
    "            left = mid\n",
    "        return smallest_helper(arr, left, right)"
   ]
  },
  {
   "cell_type": "code",
   "execution_count": 10,
   "metadata": {
    "collapsed": true
   },
   "outputs": [],
   "source": [
    "def find_smallest(arr):\n",
    "    left = 0; right = len(arr) - 1\n",
    "    while left < right:\n",
    "        mid = int(left + (right - left) / 2)\n",
    "        if arr[mid] < arr[right]:\n",
    "            # min must be in [left : mid]\n",
    "            right = mid\n",
    "        elif arr[mid] > arr[right]:\n",
    "            # min must be in [mid + 1 : right]\n",
    "            left = mid + 1\n",
    "    return (\"Index:\", left, \"Val:\", arr[left])"
   ]
  },
  {
   "cell_type": "code",
   "execution_count": 12,
   "metadata": {
    "collapsed": false
   },
   "outputs": [
    {
     "data": {
      "text/plain": [
       "(('Index:', 2, 'Val:', 1), ('Index:', 50, 'Val:', 1))"
      ]
     },
     "execution_count": 12,
     "metadata": {},
     "output_type": "execute_result"
    }
   ],
   "source": [
    "find_smallest([5,6,1,2]), find_smallest(list(range(50,100)) + list(range(1, 25)))"
   ]
  },
  {
   "cell_type": "markdown",
   "metadata": {},
   "source": [
    "### 12.5 - Compute The Integer Square Root\n",
    "Write a program which takes a nonnegative integer and returns the largest integer whose square is less than or equal to the given integer. For exaple, \n",
    "\n",
    "e.g. if the input is 16, return 4;\n",
    "\n",
    "e.g. if the input is 300, return 17, since $17^2 = 289$ and $18^2 = 324 > 300$\n",
    "\n",
    ">obvious brute force solution is iterate through a range, calculating the square for each succesive number"
   ]
  },
  {
   "cell_type": "code",
   "execution_count": 22,
   "metadata": {
    "collapsed": true
   },
   "outputs": [],
   "source": [
    "def integer_square_root_bf(num):\n",
    "    counter = 0\n",
    "    while True:\n",
    "        if counter ** 2 > num:\n",
    "            break\n",
    "        counter += 1\n",
    "    return counter - 1"
   ]
  },
  {
   "cell_type": "code",
   "execution_count": 27,
   "metadata": {
    "collapsed": false
   },
   "outputs": [
    {
     "data": {
      "text/plain": [
       "(17, 4)"
      ]
     },
     "execution_count": 27,
     "metadata": {},
     "output_type": "execute_result"
    }
   ],
   "source": [
    "integer_square_root_bf(300), integer_square_root_bf(16)"
   ]
  },
  {
   "cell_type": "markdown",
   "metadata": {},
   "source": [
    ">next idea is to double the counter at every loop. Once the counter squared is greater than the passed in number, check the values between the previous counter value and the current counter value."
   ]
  },
  {
   "cell_type": "code",
   "execution_count": 34,
   "metadata": {
    "collapsed": true
   },
   "outputs": [],
   "source": [
    "def find_root_in_range(num, start, end):\n",
    "    for i in range(start, end+1):\n",
    "        if i ** 2 > num:\n",
    "            return i - 1\n",
    "def integer_square_root_bf_2(num):\n",
    "    prev = 1; counter = 1\n",
    "    while True:\n",
    "        if counter ** 2 > num:\n",
    "            ret = find_root_in_range(num, prev, counter)\n",
    "            break\n",
    "        prev = counter\n",
    "        counter = counter * 2\n",
    "    return ret"
   ]
  },
  {
   "cell_type": "code",
   "execution_count": 49,
   "metadata": {
    "collapsed": false
   },
   "outputs": [
    {
     "name": "stdout",
     "output_type": "stream",
     "text": [
      "1 loop, best of 3: 2.29 s per loop\n"
     ]
    }
   ],
   "source": [
    "#sqrt(42353243) == 6507.9369\n",
    "%timeit integer_square_root_bf(42353243534555)"
   ]
  },
  {
   "cell_type": "code",
   "execution_count": 51,
   "metadata": {
    "collapsed": false
   },
   "outputs": [
    {
     "name": "stdout",
     "output_type": "stream",
     "text": [
      "1 loop, best of 3: 775 ms per loop\n"
     ]
    }
   ],
   "source": [
    "%timeit integer_square_root_bf_2(42353243534555)"
   ]
  },
  {
   "cell_type": "markdown",
   "metadata": {},
   "source": [
    ">next approach utilizes a few key insights\n",
    "* If $x^2 > k$, then all values greater than x are not candidates\n",
    "* If $x^2 < k$, then all values less than x are not candidates\n",
    "* the ability to eliminate large amounts of candidates can improve preformance siginifcantly\n",
    "\n",
    "1. Initialize a range of candidates [0, k]\n",
    "2. Pick a val  in the middle $[(right - left) / 2]$\n",
    "    * If $val^2 > k$, change range of candidates to [start, val-1]\n",
    "    * If $val^2 < k$, change range of candidates to [val+1, end]"
   ]
  },
  {
   "cell_type": "code",
   "execution_count": 69,
   "metadata": {
    "collapsed": true
   },
   "outputs": [],
   "source": [
    "def integer_square_root(k):\n",
    "    candidates = range(0, k + 1)\n",
    "    left = 0; right = k\n",
    "    #once the right and left indicies are adjacent, the left will point at the res\n",
    "    while left <= right:\n",
    "        middle = int(left + (right - left) / 2)\n",
    "        #candidates[middle] equal middle\n",
    "        squared = middle ** 2\n",
    "        if squared > k:\n",
    "            right = middle - 1\n",
    "        else: # squared ** 2 <= k:\n",
    "            left = middle + 1\n",
    "    return left - 1"
   ]
  },
  {
   "cell_type": "code",
   "execution_count": 70,
   "metadata": {
    "collapsed": false
   },
   "outputs": [
    {
     "data": {
      "text/plain": [
       "(6507, 0, 4)"
      ]
     },
     "execution_count": 70,
     "metadata": {},
     "output_type": "execute_result"
    }
   ],
   "source": [
    "integer_square_root(42353243), integer_square_root(0), integer_square_root(16)"
   ]
  },
  {
   "cell_type": "markdown",
   "metadata": {},
   "source": [
    "The difference in preformance between these 3 approaches"
   ]
  },
  {
   "cell_type": "code",
   "execution_count": null,
   "metadata": {
    "collapsed": false
   },
   "outputs": [],
   "source": [
    "%timeit integer_square_root_bf(42353243534555)\n",
    "%timeit integer_square_root_bf_2(42353243534555)\n",
    "%timeit integer_square_root(42353243534555)"
   ]
  }
 ],
 "metadata": {
  "anaconda-cloud": {},
  "kernelspec": {
   "display_name": "Python [Root]",
   "language": "python",
   "name": "Python [Root]"
  },
  "language_info": {
   "codemirror_mode": {
    "name": "ipython",
    "version": 3
   },
   "file_extension": ".py",
   "mimetype": "text/x-python",
   "name": "python",
   "nbconvert_exporter": "python",
   "pygments_lexer": "ipython3",
   "version": "3.5.2"
  }
 },
 "nbformat": 4,
 "nbformat_minor": 0
}

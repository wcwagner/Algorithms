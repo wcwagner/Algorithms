{
 "cells": [
  {
   "cell_type": "markdown",
   "metadata": {},
   "source": [
    "# Elements Of Programming Interviews\n",
    "## Searching Algorithms\n",
    "### Track 8: 12.1, 12.4, 12.5, 12.6, 12.7, 12.8, 12.9, 12.11, 12.12"
   ]
  },
  {
   "cell_type": "markdown",
   "metadata": {},
   "source": [
    "### 12.1 - Search A Sorted Array For The First Occurence Of K\n",
    ">Write a method that takes a sorted array and a key and returns the index of the *first* occurence of that key in the array.\n",
    "\n",
    "First a basic binary search"
   ]
  },
  {
   "cell_type": "code",
   "execution_count": 1,
   "metadata": {
    "collapsed": true
   },
   "outputs": [],
   "source": [
    "def binary_search(arr, k):\n",
    "    s = 0; e = len(arr) - 1\n",
    "    #s:start_index, e:end_index, m:middle_index\n",
    "    while s <= e:\n",
    "        m = int(s + (e - s) / 2)\n",
    "        if arr[m] < k:\n",
    "            s = m + 1\n",
    "        elif arr[m] == k:\n",
    "            return m\n",
    "        else:\n",
    "            e = m - 1\n",
    "    return -1"
   ]
  },
  {
   "cell_type": "code",
   "execution_count": 2,
   "metadata": {
    "collapsed": false
   },
   "outputs": [
    {
     "data": {
      "text/plain": [
       "(2, -1)"
      ]
     },
     "execution_count": 2,
     "metadata": {},
     "output_type": "execute_result"
    }
   ],
   "source": [
    "binary_search(range(10), 2), binary_search(range(0,10,2), 3)"
   ]
  },
  {
   "cell_type": "markdown",
   "metadata": {},
   "source": [
    "I can use a basic binary search, once I find a key, then all the other equivalent keys must be directly adjacent to the curr index. The slower way to find the first index would be to loop backwards until the last occurence of the key is found. A better implementation would be to continue the binary search."
   ]
  },
  {
   "cell_type": "code",
   "execution_count": 3,
   "metadata": {
    "collapsed": true
   },
   "outputs": [],
   "source": [
    "def first_occurence_bf(arr, k):\n",
    "    s = 0; e = len(arr) - 1\n",
    "    #s:start_index, e:end_index, m:middle_index\n",
    "    while s <= e:\n",
    "        m = int(s + (e - s) / 2)\n",
    "        if arr[m] < k:\n",
    "            s = m + 1\n",
    "        elif arr[m] == k:\n",
    "            while m > 0 and arr[m - 1] == k:\n",
    "                m -= 1\n",
    "            return m\n",
    "        else:\n",
    "            e = m - 1\n",
    "    return -1"
   ]
  },
  {
   "cell_type": "code",
   "execution_count": 4,
   "metadata": {
    "collapsed": false
   },
   "outputs": [
    {
     "data": {
      "text/plain": [
       "1"
      ]
     },
     "execution_count": 4,
     "metadata": {},
     "output_type": "execute_result"
    }
   ],
   "source": [
    "first_occurence_bf([0, 2, 2, 2, 2, 2, 2, 3, 4, 5, 6, 7], 2)"
   ]
  },
  {
   "cell_type": "code",
   "execution_count": 5,
   "metadata": {
    "collapsed": true
   },
   "outputs": [],
   "source": [
    "def first_occurence(arr, k):\n",
    "    start = 0; end = len(arr) - 1\n",
    "    #s:start_index, e:end_index, m:middle_index\n",
    "    looking_for_first = False\n",
    "    result = -1\n",
    "    while start <= end:\n",
    "        mid = int(start + (end - start) / 2)\n",
    "        if arr[mid] < k:\n",
    "            start = mid + 1\n",
    "        elif arr[mid] == k:\n",
    "            result = mid\n",
    "            end = mid - 1\n",
    "        else: #arr[mid] < k\n",
    "            end = mid - 1\n",
    "    return result"
   ]
  },
  {
   "cell_type": "code",
   "execution_count": 6,
   "metadata": {
    "collapsed": false
   },
   "outputs": [
    {
     "data": {
      "text/plain": [
       "(2, -1, 0, 4, 0)"
      ]
     },
     "execution_count": 6,
     "metadata": {},
     "output_type": "execute_result"
    }
   ],
   "source": [
    "(first_occurence([1, 2, 3, 3, 3, 3, 3, 5, 6, 7, 8], 3),\n",
    " first_occurence([0], 1), first_occurence([1,1,1,1,1,1,1,1,1,1], 1),\n",
    " first_occurence([1, 2, 3, 5, 6, 6, 6, 6], 6),\n",
    " first_occurence([2]* 500000, 2)\n",
    ")"
   ]
  },
  {
   "cell_type": "markdown",
   "metadata": {},
   "source": [
    "The difference in speed between the two methods is very noticeable"
   ]
  },
  {
   "cell_type": "code",
   "execution_count": 7,
   "metadata": {
    "collapsed": false
   },
   "outputs": [
    {
     "name": "stdout",
     "output_type": "stream",
     "text": [
      "100 loops, best of 3: 2.53 ms per loop\n"
     ]
    }
   ],
   "source": [
    "%timeit first_occurence([2] * 1000000, 2)"
   ]
  },
  {
   "cell_type": "code",
   "execution_count": 8,
   "metadata": {
    "collapsed": false
   },
   "outputs": [
    {
     "name": "stdout",
     "output_type": "stream",
     "text": [
      "10 loops, best of 3: 80.4 ms per loop\n"
     ]
    }
   ],
   "source": [
    "%timeit first_occurence_bf([2] * 1000000, 2)"
   ]
  },
  {
   "cell_type": "markdown",
   "metadata": {},
   "source": [
    "### 12.4 - Search A Cyclically Sorted Array\n",
    "An array is said to be cyclically sorted if it is possible to cyclically shift its entries so that it becomes sorted.\n",
    "For example:\n",
    ">[378, 478, 550, 631, 103, 203, 220, 234, 279, 368]\n",
    "\n",
    "is cyclically sorted--a cyclic left shift by 4 leads to a sorted array.\n",
    "\n",
    "Design an $O(logn)$ algorithm for finding the position of the samllest element in a cyclically sorted array. Assume all elements are **distinct**. For example, for the array example above, the algorithm should return 4 (the index of 103)."
   ]
  },
  {
   "cell_type": "markdown",
   "metadata": {},
   "source": [
    "First I want to find the size of the cycles in the array."
   ]
  },
  {
   "cell_type": "code",
   "execution_count": 9,
   "metadata": {
    "collapsed": false
   },
   "outputs": [],
   "source": [
    "def find_smallest_rec(arr):\n",
    "    if len(arr) == 0:\n",
    "        return None\n",
    "    else:\n",
    "        return smallest_helper(arr, 0, len(arr) - 1)\n",
    "\n",
    "def smallest_helper_rec(arr, left, right):\n",
    "    #from IPython.core.debugger import Tracer    \n",
    "    #Tracer()()\n",
    "    if right - left == 1:\n",
    "        return arr[right]\n",
    "    else:\n",
    "        mid = int(left + (right - left) / 2)\n",
    "        if arr[mid] < arr[right]:\n",
    "            right = mid\n",
    "        elif arr[mid] > arr[right]:\n",
    "            left = mid\n",
    "        return smallest_helper(arr, left, right)"
   ]
  },
  {
   "cell_type": "code",
   "execution_count": 10,
   "metadata": {
    "collapsed": true
   },
   "outputs": [],
   "source": [
    "def find_smallest(arr):\n",
    "    left = 0; right = len(arr) - 1\n",
    "    while left < right:\n",
    "        mid = int(left + (right - left) / 2)\n",
    "        if arr[mid] < arr[right]:\n",
    "            # min must be in [left : mid]\n",
    "            right = mid\n",
    "        elif arr[mid] > arr[right]:\n",
    "            # min must be in [mid + 1 : right]\n",
    "            left = mid + 1\n",
    "    return (\"Index:\", left, \"Val:\", arr[left])"
   ]
  },
  {
   "cell_type": "code",
   "execution_count": 11,
   "metadata": {
    "collapsed": false
   },
   "outputs": [
    {
     "data": {
      "text/plain": [
       "(('Index:', 2, 'Val:', 1), ('Index:', 50, 'Val:', 1))"
      ]
     },
     "execution_count": 11,
     "metadata": {},
     "output_type": "execute_result"
    }
   ],
   "source": [
    "find_smallest([5,6,1,2]), find_smallest(list(range(50,100)) + list(range(1, 25)))"
   ]
  },
  {
   "cell_type": "markdown",
   "metadata": {},
   "source": [
    "### 12.5 - Compute The Integer Square Root\n",
    "Write a program which takes a nonnegative integer and returns the largest integer whose square is less than or equal to the given integer. For exaple, \n",
    "\n",
    "e.g. if the input is 16, return 4;\n",
    "\n",
    "e.g. if the input is 300, return 17, since $17^2 = 289$ and $18^2 = 324 > 300$\n",
    "\n",
    ">obvious brute force solution is iterate through a range, calculating the square for each succesive number"
   ]
  },
  {
   "cell_type": "code",
   "execution_count": 12,
   "metadata": {
    "collapsed": true
   },
   "outputs": [],
   "source": [
    "def integer_square_root_bf(num):\n",
    "    counter = 0\n",
    "    while True:\n",
    "        if counter ** 2 > num:\n",
    "            break\n",
    "        counter += 1\n",
    "    return counter - 1"
   ]
  },
  {
   "cell_type": "code",
   "execution_count": 13,
   "metadata": {
    "collapsed": false
   },
   "outputs": [
    {
     "data": {
      "text/plain": [
       "(17, 4)"
      ]
     },
     "execution_count": 13,
     "metadata": {},
     "output_type": "execute_result"
    }
   ],
   "source": [
    "integer_square_root_bf(300), integer_square_root_bf(16)"
   ]
  },
  {
   "cell_type": "markdown",
   "metadata": {},
   "source": [
    ">next idea is to double the counter at every loop. Once the counter squared is greater than the passed in number, check the values between the previous counter value and the current counter value."
   ]
  },
  {
   "cell_type": "code",
   "execution_count": 14,
   "metadata": {
    "collapsed": true
   },
   "outputs": [],
   "source": [
    "def find_root_in_range(num, start, end):\n",
    "    for i in range(start, end+1):\n",
    "        if i ** 2 > num:\n",
    "            return i - 1\n",
    "def integer_square_root_bf_2(num):\n",
    "    prev = 1; counter = 1\n",
    "    while True:\n",
    "        if counter ** 2 > num:\n",
    "            ret = find_root_in_range(num, prev, counter)\n",
    "            break\n",
    "        prev = counter\n",
    "        counter = counter * 2\n",
    "    return ret"
   ]
  },
  {
   "cell_type": "code",
   "execution_count": 15,
   "metadata": {
    "collapsed": false
   },
   "outputs": [
    {
     "name": "stdout",
     "output_type": "stream",
     "text": [
      "1 loop, best of 3: 2.35 s per loop\n"
     ]
    }
   ],
   "source": [
    "#sqrt(42353243) == 6507.9369\n",
    "%timeit integer_square_root_bf(42353243534555)"
   ]
  },
  {
   "cell_type": "code",
   "execution_count": 16,
   "metadata": {
    "collapsed": false
   },
   "outputs": [
    {
     "name": "stdout",
     "output_type": "stream",
     "text": [
      "1 loop, best of 3: 758 ms per loop\n"
     ]
    }
   ],
   "source": [
    "%timeit integer_square_root_bf_2(42353243534555)"
   ]
  },
  {
   "cell_type": "markdown",
   "metadata": {},
   "source": [
    ">next approach utilizes a few key insights\n",
    "* If $x^2 > k$, then all values greater than x are not candidates\n",
    "* If $x^2 < k$, then all values less than x are not candidates\n",
    "* the ability to eliminate large amounts of candidates can improve preformance siginifcantly\n",
    "\n",
    "1. Initialize a range of candidates [0, k]\n",
    "2. Pick a val  in the middle $[(right - left) / 2]$\n",
    "    * If $val^2 > k$, change range of candidates to [start, val-1]\n",
    "    * If $val^2 < k$, change range of candidates to [val+1, end]"
   ]
  },
  {
   "cell_type": "code",
   "execution_count": 17,
   "metadata": {
    "collapsed": true
   },
   "outputs": [],
   "source": [
    "def integer_square_root(k):\n",
    "    candidates = range(0, k + 1)\n",
    "    left = 0; right = k\n",
    "    #once the right and left indicies are adjacent, the left will point at the res\n",
    "    while left <= right:\n",
    "        middle = int(left + (right - left) / 2)\n",
    "        #candidates[middle] equal middle\n",
    "        squared = middle ** 2\n",
    "        if squared > k:\n",
    "            right = middle - 1\n",
    "        else: # squared ** 2 <= k:\n",
    "            left = middle + 1\n",
    "    return left - 1"
   ]
  },
  {
   "cell_type": "code",
   "execution_count": 18,
   "metadata": {
    "collapsed": false
   },
   "outputs": [
    {
     "data": {
      "text/plain": [
       "(6507, 0, 4)"
      ]
     },
     "execution_count": 18,
     "metadata": {},
     "output_type": "execute_result"
    }
   ],
   "source": [
    "integer_square_root(42353243), integer_square_root(0), integer_square_root(16)"
   ]
  },
  {
   "cell_type": "markdown",
   "metadata": {},
   "source": [
    "The difference in preformance between these 3 approaches"
   ]
  },
  {
   "cell_type": "code",
   "execution_count": 19,
   "metadata": {
    "collapsed": false
   },
   "outputs": [
    {
     "name": "stdout",
     "output_type": "stream",
     "text": [
      "1 loop, best of 3: 2.35 s per loop\n",
      "1 loop, best of 3: 760 ms per loop\n",
      "10000 loops, best of 3: 35.1 µs per loop\n"
     ]
    }
   ],
   "source": [
    "%timeit integer_square_root_bf(42353243534555)\n",
    "%timeit integer_square_root_bf_2(42353243534555)\n",
    "%timeit integer_square_root(42353243534555)"
   ]
  },
  {
   "cell_type": "markdown",
   "metadata": {},
   "source": [
    "### 12.6 - Compute The Real Square Root\n",
    "Square root computations can be implemented using sophisticated numerical techniques involving iterative methods and logarithms. However, if you were asked to implement a square root funciton, you would not be expceted to know these techniques.\n",
    "\n",
    "Implement a funcition which takes as input a floating point value and returns the square root.\n",
    "\n",
    "Approach is as follows:"
   ]
  },
  {
   "cell_type": "code",
   "execution_count": 20,
   "metadata": {
    "collapsed": false
   },
   "outputs": [],
   "source": [
    "from numpy import arange\n",
    "def get_root_in_interval(k, lval, rval):\n",
    "    step = (rval - lval)/ 10\n",
    "    candidates = arange(lval, rval+1, step)\n",
    "    left = 0; right = 9\n",
    "    while left <= right:\n",
    "        middle = int(left + (right - left) / 2)\n",
    "        squared = candidates[middle] ** 2\n",
    "        if squared > k:\n",
    "            right = middle - 1\n",
    "        else:\n",
    "            left = middle + 1\n",
    "    return candidates[left - 1], candidates[left]\n",
    "            \n",
    "def compute_square_root(k):\n",
    "    left = 0; right = k\n",
    "    #want to generate result with precision of 8\n",
    "    for _ in range(8):\n",
    "        left, right = get_root_in_interval(k, left, right)\n",
    "    return left"
   ]
  },
  {
   "cell_type": "code",
   "execution_count": 21,
   "metadata": {
    "collapsed": false
   },
   "outputs": [
    {
     "ename": "NameError",
     "evalue": "name 'sqrt' is not defined",
     "output_type": "error",
     "traceback": [
      "\u001b[1;31m---------------------------------------------------------------------------\u001b[0m",
      "\u001b[1;31mNameError\u001b[0m                                 Traceback (most recent call last)",
      "\u001b[1;32m<ipython-input-21-5ce8fa0ff0ac>\u001b[0m in \u001b[0;36m<module>\u001b[1;34m()\u001b[0m\n\u001b[1;32m----> 1\u001b[1;33m \u001b[0mcompute_square_root\u001b[0m\u001b[1;33m(\u001b[0m\u001b[1;36m5\u001b[0m\u001b[1;33m)\u001b[0m\u001b[1;33m,\u001b[0m \u001b[0msqrt\u001b[0m\u001b[1;33m(\u001b[0m\u001b[1;36m5\u001b[0m\u001b[1;33m)\u001b[0m\u001b[1;33m\u001b[0m\u001b[0m\n\u001b[0m",
      "\u001b[1;31mNameError\u001b[0m: name 'sqrt' is not defined"
     ]
    }
   ],
   "source": [
    "compute_square_root(5), sqrt(5)"
   ]
  },
  {
   "cell_type": "markdown",
   "metadata": {},
   "source": [
    "### 12.7 - Search In A 2D Sorted Array\n",
    "Call a 2D array sorted if its rows and columns are sorted in increasing sorted order. \n",
    "\n",
    "See example below:\n",
    "\n",
    "\n",
    "<img src='Images/sorted_matrix.png'>\n",
    "\n",
    "Design an algorithm that takes a 2D sorted array and a number and checks wheter that number appears in the array."
   ]
  },
  {
   "cell_type": "code",
   "execution_count": 23,
   "metadata": {
    "collapsed": false
   },
   "outputs": [],
   "source": [
    "def search_matrix_basic(matrix, k):\n",
    "    for row in matrix:\n",
    "        for col in row:\n",
    "            if col == k:\n",
    "                return True\n",
    "    return False"
   ]
  },
  {
   "cell_type": "code",
   "execution_count": 24,
   "metadata": {
    "collapsed": false
   },
   "outputs": [],
   "source": [
    "matrix = [[1, 4, 7, 11, 15],\n",
    "          [2, 5, 8, 12, 19],\n",
    "          [3, 6, 9, 16, 22],\n",
    "          [10, 13, 14, 17, 24],\n",
    "          [18, 21, 23, 26, 30]]"
   ]
  },
  {
   "cell_type": "markdown",
   "metadata": {},
   "source": [
    "You could do a binary search on each row in the matrix, for $O(nlogn)$ complexity\n",
    "\n",
    "For any element $n$, at matrix[r][c]\n",
    "* The elements in matrix[0:r+1][0:c+1] are smaller than $n$\n",
    "* The elements in matrix[r:-1][c:-1] are bigger than $n$"
   ]
  },
  {
   "cell_type": "code",
   "execution_count": 31,
   "metadata": {
    "collapsed": false
   },
   "outputs": [],
   "source": [
    "def search_matrix_binary(matrix, k):\n",
    "    for row in matrix:\n",
    "        if binary_search(row, k) != -1:\n",
    "            return True\n",
    "    return False"
   ]
  },
  {
   "cell_type": "code",
   "execution_count": 26,
   "metadata": {
    "collapsed": true
   },
   "outputs": [],
   "source": [
    "big_matrix = [[0 for x in range(1000)] for y in range(1000)]"
   ]
  },
  {
   "cell_type": "code",
   "execution_count": 39,
   "metadata": {
    "collapsed": true
   },
   "outputs": [],
   "source": [
    "#similar to last apporach of doing binary search on each row, but we can binarily\n",
    "#eliminate rows as well\n",
    "def search_matrix(matrix, k):\n",
    "    n_rows = len(matrix);\n",
    "    n_cols = len(matrix[0])\n",
    "    row = 0; col = n_cols - 1\n",
    "    while row < n_rows and col >= 0:\n",
    "        val = matrix[row][col]\n",
    "        if val > k:\n",
    "            col -= 1\n",
    "        elif val < k:\n",
    "            row += 1\n",
    "        else:\n",
    "            return True\n",
    "    return False\n",
    "            "
   ]
  },
  {
   "cell_type": "code",
   "execution_count": 41,
   "metadata": {
    "collapsed": false
   },
   "outputs": [
    {
     "name": "stdout",
     "output_type": "stream",
     "text": [
      "10 loops, best of 3: 27.5 ms per loop\n",
      "100 loops, best of 3: 4.7 ms per loop\n",
      "1000 loops, best of 3: 248 µs per loop\n"
     ]
    }
   ],
   "source": [
    "%timeit search_matrix_basic(big_matrix, 985)\n",
    "%timeit search_matrix_binary(big_matrix, 985)\n",
    "%timeit search_matrix(big_matrix, 985)"
   ]
  },
  {
   "cell_type": "markdown",
   "metadata": {},
   "source": [
    "### 12.8 - Find The Min And Max Simultaneously\n",
    "Given an array of comparables, you can find either the *min* or the *max* of the elements in the array with $n-1$ comparisons, where $n$ is the length of the array. Comparing elements may be expensive. Therefore, it's natural to ask if both the *min* and the *max* can be found with less than $2(n-1)$ comparisons. \n",
    "\n",
    "Design an algorithm to find the *min* and *max* elements in an array.\n",
    "\n",
    "e.g. [3, 2, 5, 1, 2, 4] returns 1 for the *min* and 5 for the *max*"
   ]
  },
  {
   "cell_type": "code",
   "execution_count": 44,
   "metadata": {
    "collapsed": false
   },
   "outputs": [],
   "source": [
    "def find_min_and_max_bf(arr):\n",
    "    min_ = arr[0]\n",
    "    max_ = arr[0]\n",
    "    for ix in range(1,len(arr)):\n",
    "        if arr[ix] < min_:\n",
    "            #when updating min, don't need to check for max\n",
    "            min_ = arr[ix]\n",
    "        elif arr[ix] > max_:\n",
    "            max_ = arr[ix]"
   ]
  },
  {
   "cell_type": "code",
   "execution_count": 54,
   "metadata": {
    "collapsed": true
   },
   "outputs": [],
   "source": [
    "def find_min_and_max(arr):\n",
    "    max_ = 0; min_ = 0\n",
    "    pairs = range(0, len(arr), 2) if len(arr) % 2 == 0 else range(0, len(arr) - 1, 2)\n",
    "    for i in pairs:\n",
    "        if not max_ and not min_:\n",
    "            if arr[i] > arr[i + 1]:\n",
    "                min_, max_ = arr[i + 1], arr[i]\n",
    "            else:\n",
    "                min_, max_ = arr[i], arr[i + 1]\n",
    "        elif arr[i] < arr[i + 1]:\n",
    "            max_ = max(max_, arr[i + 1])\n",
    "            min_ = min(min_, arr[i])\n",
    "        else:\n",
    "            max_ = max(max_, arr[i])\n",
    "            min_ = min(min_, arr[i + 1])\n",
    "    if len(arr) % 2:\n",
    "        #need to check last val\n",
    "        max_ = max(max_, arr[len(arr) - 1])\n",
    "        min_ = min(min_, arr[len(arr) - 1])\n",
    "    return (min_, max_)"
   ]
  },
  {
   "cell_type": "code",
   "execution_count": 55,
   "metadata": {
    "collapsed": false
   },
   "outputs": [
    {
     "name": "stdout",
     "output_type": "stream",
     "text": [
      "comp\n",
      "+3\n",
      "+3\n"
     ]
    },
    {
     "data": {
      "text/plain": [
       "(1, 5)"
      ]
     },
     "execution_count": 55,
     "metadata": {},
     "output_type": "execute_result"
    }
   ],
   "source": [
    "find_min_and_max([3,2,5,1,2,4])"
   ]
  }
 ],
 "metadata": {
  "anaconda-cloud": {},
  "kernelspec": {
   "display_name": "Python [Root]",
   "language": "python",
   "name": "Python [Root]"
  },
  "language_info": {
   "codemirror_mode": {
    "name": "ipython",
    "version": 3
   },
   "file_extension": ".py",
   "mimetype": "text/x-python",
   "name": "python",
   "nbconvert_exporter": "python",
   "pygments_lexer": "ipython3",
   "version": "3.5.2"
  }
 },
 "nbformat": 4,
 "nbformat_minor": 0
}

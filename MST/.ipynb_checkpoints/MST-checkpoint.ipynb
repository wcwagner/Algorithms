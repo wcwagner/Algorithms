{
 "cells": [
  {
   "cell_type": "markdown",
   "metadata": {},
   "source": [
    "# Minimum Spanning Trees\n",
    "### Disjoint Set Union -- For Kruskal's Algorithm\n",
    "Implementing the Disjoint Union Forest. This code is from https://en.wikipedia.org/wiki/Kruskal's_algorithm"
   ]
  },
  {
   "cell_type": "code",
   "execution_count": 57,
   "metadata": {
    "collapsed": false
   },
   "outputs": [],
   "source": [
    "class Node(object):\n",
    "    def __init__(self, val):\n",
    "        self.val = val\n",
    "    def __repr__(self):\n",
    "        return str(self.val)\n",
    "    \n",
    "# this will take in a node, and create new instance attrs\n",
    "def Make_Set(x):\n",
    "    x.parent = x\n",
    "    x.rank = 0\n",
    "\n",
    "def Union(x, y):\n",
    "    x_root = Find(x)\n",
    "    y_root = Find(y)\n",
    "    if x_root is y_root:\n",
    "        return\n",
    "    # make the smaller tree's representative the bigger trees\n",
    "    # with depth being the rank, this means we traverse upwards\n",
    "    # to find the representative less\n",
    "    if x_root.rank < y_root.rank:\n",
    "        x_root.parent = y_root\n",
    "    elif y_root.rank < x_root.rank:\n",
    "        y_root.parent = x_root\n",
    "    else:\n",
    "        y_root.parent = x_root\n",
    "        x_root.rank += 1\n",
    "# when traversing upwards to the root, this will compress the path\n",
    "# e.g. making every node's parent on the way up the representative\n",
    "# this improves look-up times on furuter find calls\n",
    "def Find_Set(x):\n",
    "    if x.parent is not x:\n",
    "        x.parent = Find(x.parent)\n",
    "    return x.parent"
   ]
  },
  {
   "cell_type": "markdown",
   "metadata": {},
   "source": [
    "### Kruskal's Algorithm"
   ]
  },
  {
   "cell_type": "code",
   "execution_count": 81,
   "metadata": {
    "collapsed": false
   },
   "outputs": [],
   "source": [
    "def MST_Kruskal(G_V, G_E):\n",
    "    A = []\n",
    "    tot_weight = 0\n",
    "    # keyd by the vert val\n",
    "    nodes = {v: Node(v) for v in G_V}\n",
    "    # this will set the parent and rank attrs for each node\n",
    "    for val in nodes:\n",
    "        Make_Set(nodes[val])\n",
    "    # sort by weights\n",
    "    G_E.sort(key=lambda t: t[2])\n",
    "    for e in G_E:\n",
    "        u, v, w = e\n",
    "        if Find_Set(nodes[u]) is not Find_Set(nodes[v]):\n",
    "            A.append((u, v))\n",
    "            Union(nodes[u], nodes[v])\n",
    "            tot_weight += w\n",
    "    print(tot_weight)\n",
    "    for edge in A:\n",
    "        print(\"{u}\\t{v}\".format(u=edge[0], v=edge[1]))"
   ]
  },
  {
   "cell_type": "markdown",
   "metadata": {},
   "source": [
    "### Converting Input File Into Adjacency List"
   ]
  },
  {
   "cell_type": "code",
   "execution_count": 91,
   "metadata": {
    "collapsed": false
   },
   "outputs": [
    {
     "name": "stdout",
     "output_type": "stream",
     "text": [
      "[(1, 2, 50), (1, 3, 80), (2, 3, 60), (2, 4, 20), (3, 5, 40), (2, 5, 30), (4, 5, 10), (4, 6, 10)] {1, 2, 3, 4, 5, 6}\n",
      "130\n",
      "4\t5\n",
      "4\t6\n",
      "2\t4\n",
      "3\t5\n",
      "1\t2\n"
     ]
    }
   ],
   "source": [
    "from collections import defaultdict\n",
    "# 11, 113,89, 130\n",
    "with open(\"test4.in\") as file:\n",
    "    # first line is # verticles\n",
    "    num_vertcies = file.readline()\n",
    "    # split each line, then convert the strs to ints. Last line is \\n so ignore\n",
    "    # each element of G_E is (u:int, v:int, w:int)\n",
    "    G_E = [tuple(map(lambda l: int(l), line.split())) for line in file.readlines()[:-1]]\n",
    "    # unique list of vertices\n",
    "    G_V = set([t[0] for t in G_E] + [t[1] for t in G_E])\n",
    "    print(G_E, G_V)\n",
    "    MST_Kruskal(G_V, G_E)"
   ]
  },
  {
   "cell_type": "code",
   "execution_count": 14,
   "metadata": {
    "collapsed": false
   },
   "outputs": [],
   "source": [
    "\n"
   ]
  },
  {
   "cell_type": "code",
   "execution_count": 46,
   "metadata": {
    "collapsed": false
   },
   "outputs": [],
   "source": [
    "_ = \"\"\"adj_list = defaultdict(dict)\n",
    "    # each edge is of form [u:int, v:int, w:int]\n",
    "    # so we convert to an adjacency list of the form\n",
    "    # {\n",
    "    #  u: {v:w...}\n",
    "    #  v: {u:w... }\n",
    "    # }\n",
    "    for edge in edges: \n",
    "        # inserting u:v\n",
    "        adj_list[ edge[0] ][ edge[1] ] = edge[2]\n",
    "        # inserting v:u\n",
    "        adj_list[ edge[1] ][ edge[0] ] = edge[2]\n",
    "    \n",
    "    for u in adj_list:\n",
    "        for v in adj_list[u]: \n",
    "            print(\"{u}--{v} (weight {w})\".format(u=u, v=v, w=adj_list[u][v]))\n",
    "    \"\"\""
   ]
  },
  {
   "cell_type": "code",
   "execution_count": null,
   "metadata": {
    "collapsed": true
   },
   "outputs": [],
   "source": []
  }
 ],
 "metadata": {
  "kernelspec": {
   "display_name": "Python 3",
   "language": "python",
   "name": "python3"
  },
  "language_info": {
   "codemirror_mode": {
    "name": "ipython",
    "version": 3
   },
   "file_extension": ".py",
   "mimetype": "text/x-python",
   "name": "python",
   "nbconvert_exporter": "python",
   "pygments_lexer": "ipython3",
   "version": "3.5.2"
  }
 },
 "nbformat": 4,
 "nbformat_minor": 1
}

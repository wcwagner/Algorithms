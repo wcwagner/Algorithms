{
 "cells": [
  {
   "cell_type": "markdown",
   "metadata": {},
   "source": [
    "# Minimum Spanning Trees\n",
    "### Disjoint Set Union -- For Kruskal's Algorithm\n",
    "Implementing the Disjoint Union Forest. This code is from https://en.wikipedia.org/wiki/Kruskal's_algorithm"
   ]
  },
  {
   "cell_type": "code",
   "execution_count": 93,
   "metadata": {
    "collapsed": false
   },
   "outputs": [],
   "source": [
    "class Node(object):\n",
    "    def __init__(self, val):\n",
    "        self.val = val\n",
    "    def __repr__(self):\n",
    "        return str(self.val)\n",
    "    \n",
    "# this will take in a node, and create new instance attrs parent and rank\n",
    "def Make_Set(x):\n",
    "    x.parent = x\n",
    "    x.rank = 0\n",
    "\n",
    "def Union(x, y):\n",
    "    x_root = Find(x)\n",
    "    y_root = Find(y)\n",
    "    if x_root is y_root:\n",
    "        return\n",
    "    # set the smaller tree's representative to the bigger tree's representative\n",
    "    if x_root.rank < y_root.rank:\n",
    "        x_root.parent = y_root\n",
    "    elif y_root.rank < x_root.rank:\n",
    "        y_root.parent = x_root\n",
    "    else:\n",
    "        y_root.parent = x_root\n",
    "        x_root.rank += 1\n",
    "# when traversing upwards to the root, this will compress the path\n",
    "# e.g. making every node's represenative on the path upward to the base root\n",
    "# this improves look-up times on furuter find calls\n",
    "def Find_Set(x):\n",
    "    if x.parent is not x:\n",
    "        x.parent = Find(x.parent)\n",
    "    return x.parent"
   ]
  },
  {
   "cell_type": "markdown",
   "metadata": {},
   "source": [
    "### Kruskal's Algorithm"
   ]
  },
  {
   "cell_type": "code",
   "execution_count": 94,
   "metadata": {
    "collapsed": false
   },
   "outputs": [],
   "source": [
    "def MST_Kruskal(G_V, G_E):\n",
    "    A = []\n",
    "    tot_weight = 0\n",
    "    # keyd by the vert val\n",
    "    nodes = {v: Node(v) for v in G_V}\n",
    "    # this will set the parent and rank attrs for each node\n",
    "    for val in nodes:\n",
    "        Make_Set(nodes[val])\n",
    "    # sort by weights\n",
    "    G_E.sort(key=lambda t: t[2])\n",
    "    for e in G_E:\n",
    "        u, v, w = e\n",
    "        if Find_Set(nodes[u]) is not Find_Set(nodes[v]):\n",
    "            A.append((u, v))\n",
    "            Union(nodes[u], nodes[v])\n",
    "            tot_weight += w\n",
    "    # output in the desired format\n",
    "    print(tot_weight)\n",
    "    for edge in A:\n",
    "        print(\"{u}\\t{v}\".format(u=edge[0], v=edge[1]))"
   ]
  },
  {
   "cell_type": "markdown",
   "metadata": {},
   "source": [
    "### Converting Input File and Running Test Cases"
   ]
  },
  {
   "cell_type": "code",
   "execution_count": 97,
   "metadata": {
    "collapsed": false
   },
   "outputs": [
    {
     "name": "stdout",
     "output_type": "stream",
     "text": [
      "\n",
      "Expected Weight: 11\n",
      "\n",
      "11\n",
      "1\t5\n",
      "3\t4\n",
      "1\t2\n",
      "3\t2\n",
      "\n",
      "Expected Weight: 113\n",
      "\n",
      "113\n",
      "3\t1\n",
      "2\t1\n",
      "\n",
      "Expected Weight: 89\n",
      "\n",
      "89\n",
      "1\t5\n",
      "2\t4\n",
      "4\t1\n",
      "5\t3\n",
      "\n",
      "Expected Weight: 130\n",
      "\n",
      "130\n",
      "4\t5\n",
      "4\t6\n",
      "2\t4\n",
      "3\t5\n",
      "1\t2\n"
     ]
    }
   ],
   "source": [
    "from collections import defaultdict\n",
    "# test cases:11, 113,89, 130\n",
    "for testcase in range(1, 5):\n",
    "    with open(\"test\" + str(testcase) + \".in\") as file:\n",
    "        # first line is # verticles\n",
    "        num_vertcies = file.readline()\n",
    "        # split each line, then convert the strs to ints. Last line is \\n so ignore\n",
    "        # each element of G_E is (u:int, v:int, w:int)\n",
    "        G_E = [tuple(map(lambda l: int(l), line.split())) for line in file.readlines()[:-1]]\n",
    "        # unique list of vertices\n",
    "        G_V = set([t[0] for t in G_E] + [t[1] for t in G_E])\n",
    "        with open(\"expected\" + str(testcase) + \".out\") as exp:\n",
    "            expected = exp.readline()\n",
    "        print(\"\\nExpected Weight: {0}\".format(expected))\n",
    "        MST_Kruskal(G_V, G_E)"
   ]
  },
  {
   "cell_type": "markdown",
   "metadata": {},
   "source": [
    "### Prims Algorithm\n",
    "*To use a custom predicate in Python's heap implementation, you must insert tuples, where the first element is the key to compare*\n",
    "1. Convert all the vertices in $V - {r}$ to tuples of the form (weight, key, parent)\n",
    "\n",
    "2. Set **r.key** to 0, so it is at the top of the min-heap, and thus the root of the MST.\n",
    "\n",
    "3. Insert all the nodes into the min-heap, based on the weight element of the tuple. \n",
    "\n",
    "4. While the Min-Heap is not empty\n",
    "    * Get the vertex with the minimum weight from the min-heap\n",
    "        * For iteration 1, this is the root\n",
    "    * Then we update every vertex that is incident with the popped vertex, and change it's parent and key values"
   ]
  },
  {
   "cell_type": "code",
   "execution_count": 146,
   "metadata": {
    "collapsed": false
   },
   "outputs": [],
   "source": [
    "from heapq import *\n",
    "\n",
    "def MST_Prim(G, r):\n",
    "    # G is adj list {u:int : {v:w, v`:w`}....}\n",
    "    # each node in the min-heap is of the form [key, label, parent]\n",
    "    heap = [[float(\"inf\"), v, None] for v in G.keys() if v != r]\n",
    "    # r.key = 0\n",
    "    heap.append([0, r, None])\n",
    "    # we have to modify the nodes in the heap later on, thus we keep\n",
    "    # a dictionary, that maps each node label to it's corresponding loc \n",
    "    # in the heap\n",
    "    loc = {l[1]: l for l in heap}\n",
    "    # Q = G.V\n",
    "    heapify(heap)\n",
    "    A = []\n",
    "    tot_weight = 0\n",
    "    while len(heap):\n",
    "        u = heappop(heap)\n",
    "        # ignore the first iteration, where None--Root is added into A\n",
    "        # on all other iterations, append (u.parent--u) into A bc safe edge\n",
    "        if u[2]:\n",
    "            A.append((u[2], u[1]))\n",
    "        tot_weight += u[0]\n",
    "        # the node label, used to index into loc\n",
    "        u = u[1]\n",
    "        # remove node from Q, as it is now in the MST (A)\n",
    "        del[loc[u]]\n",
    "        \n",
    "        for v in G[u]:\n",
    "            # if v in Q and w(u, v) < v.key\n",
    "            if v in loc and G[u][v] < loc[v][0]:\n",
    "                # v.par = u\n",
    "                loc[v][2] = u\n",
    "                # v.key = w(u,v)\n",
    "                loc[v][0] = G[u][v]\n",
    "        # O(N), python has no decrease_key function, so this will suffice\n",
    "        heapify(heap)\n",
    "    print(tot_weight)\n",
    "    for edge in A:\n",
    "        print(\"{u}\\t{v}\".format(u=edge[0], v=edge[1]))\n",
    "                "
   ]
  },
  {
   "cell_type": "code",
   "execution_count": 148,
   "metadata": {
    "collapsed": false
   },
   "outputs": [
    {
     "name": "stdout",
     "output_type": "stream",
     "text": [
      "\n",
      "Expected Weight: 11\n",
      "\n",
      "11\n",
      "1\t5\n",
      "1\t2\n",
      "2\t3\n",
      "3\t4\n",
      "\n",
      "Expected Weight: 113\n",
      "\n",
      "113\n",
      "1\t3\n",
      "1\t2\n",
      "\n",
      "Expected Weight: 89\n",
      "\n",
      "89\n",
      "1\t5\n",
      "1\t4\n",
      "4\t2\n",
      "5\t3\n",
      "\n",
      "Expected Weight: 130\n",
      "\n",
      "130\n",
      "1\t2\n",
      "2\t4\n",
      "4\t5\n",
      "4\t6\n",
      "5\t3\n"
     ]
    }
   ],
   "source": [
    "for testcase in [1,2,3,4]:\n",
    "    with open(\"test\" + str(testcase) + \".in\") as file:\n",
    "        num_vertcies = file.readline()\n",
    "        G_E = [tuple(map(lambda l: int(l), line.split())) for line in file.readlines()[:-1]]\n",
    "        adj_list = defaultdict(dict)\n",
    "            # each edge is of form [u:int, v:int, w:int]\n",
    "            # so we convert to an adjacency list of the form\n",
    "            # {\n",
    "            #  u: {v:w...}\n",
    "            #  v: {u:w... }\n",
    "            # }\n",
    "        with open(\"expected\" + str(testcase) + \".out\") as exp:\n",
    "            expected = exp.readline()\n",
    "        print(\"\\nExpected Weight: {0}\".format(expected))\n",
    "        for edge in G_E: \n",
    "            # inserting u:v\n",
    "            adj_list[ edge[0] ][ edge[1] ] = edge[2]\n",
    "            # inserting v:u\n",
    "            adj_list[ edge[1] ][ edge[0] ] = edge[2]\n",
    "        MST_Prim(adj_list, 1)"
   ]
  },
  {
   "cell_type": "code",
   "execution_count": null,
   "metadata": {
    "collapsed": true
   },
   "outputs": [],
   "source": []
  },
  {
   "cell_type": "code",
   "execution_count": null,
   "metadata": {
    "collapsed": true
   },
   "outputs": [],
   "source": []
  }
 ],
 "metadata": {
  "kernelspec": {
   "display_name": "Python 3",
   "language": "python",
   "name": "python3"
  },
  "language_info": {
   "codemirror_mode": {
    "name": "ipython",
    "version": 3
   },
   "file_extension": ".py",
   "mimetype": "text/x-python",
   "name": "python",
   "nbconvert_exporter": "python",
   "pygments_lexer": "ipython3",
   "version": "3.5.2"
  }
 },
 "nbformat": 4,
 "nbformat_minor": 1
}

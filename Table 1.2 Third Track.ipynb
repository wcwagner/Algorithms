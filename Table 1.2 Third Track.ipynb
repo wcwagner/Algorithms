{
 "cells": [
  {
   "cell_type": "markdown",
   "metadata": {},
   "source": [
    "# Elements of Programming Interviews\n",
    "\n",
    "### Track 3: 7.1, 7.4, 7.5, 7.6, 7.7, 7.8, 7.13, 7.14 "
   ]
  },
  {
   "cell_type": "markdown",
   "metadata": {},
   "source": [
    "### 7.1 - Interconvert Strings and Integers\n",
    ">*A string is a sequence of characters. A string may encode an integer, e.g. \"123\" encodes 123. In this problem, you are to implement methods that take a string representing an integer and return the corresponding integer, and vice versa.The code should also handle negative integers.\n"
   ]
  },
  {
   "cell_type": "code",
   "execution_count": 18,
   "metadata": {
    "collapsed": false
   },
   "outputs": [],
   "source": [
    "def str_to_num(num_str):\n",
    "    num = 0\n",
    "    for i, digit in enumerate(reversed(num_str)):\n",
    "        if digit is not '-':\n",
    "            num += ((ord(digit) - 48) * 10**i)\n",
    "    if num_str[0] == '-':\n",
    "        num *= -1\n",
    "    return num\n",
    "def num_to_str(num):\n",
    "    num_str = \"\"\n",
    "    is_negative = False\n",
    "    if num < 0:\n",
    "        is_negative = True\n",
    "        num *= -1\n",
    "    \n",
    "    while num > 0:\n",
    "        digit = num % 10\n",
    "        num_str += chr(digit + 48)\n",
    "        num /= 10\n",
    "    if is_negative:\n",
    "        num_str += \"-\"\n",
    "    return num_str[::-1]"
   ]
  },
  {
   "cell_type": "code",
   "execution_count": 22,
   "metadata": {
    "collapsed": false
   },
   "outputs": [
    {
     "data": {
      "text/plain": [
       "'123'"
      ]
     },
     "execution_count": 22,
     "metadata": {},
     "output_type": "execute_result"
    }
   ],
   "source": [
    "num_to_str(123)"
   ]
  },
  {
   "cell_type": "markdown",
   "metadata": {},
   "source": [
    "### 7.4 - Replace and Remove\n",
    ">*Write a program that takes as input a string s, and removes each \"b\" and replaces each 'a' by 'dd'. Assume s is stored in an array that has enough space for the final result.*\n",
    ">>Note: It is straightforawrd to implement a solution using O(n) space complexity, so that will be avoided."
   ]
  },
  {
   "cell_type": "code",
   "execution_count": 1,
   "metadata": {
    "collapsed": false
   },
   "outputs": [
    {
     "data": {
      "text/plain": [
       "(['a', 'd', 'd', 'c', 'x', 'x', 'x'], 5)"
      ]
     },
     "execution_count": 1,
     "metadata": {},
     "output_type": "execute_result"
    }
   ],
   "source": [
    "def rep_and_rem(s):\n",
    "    #first get rid of the b's, shift everything left\n",
    "    shift_left = 0\n",
    "    length = 0\n",
    "    for i, char in enumerate(s):\n",
    "        if char == 'b':\n",
    "            shift_left += 1\n",
    "            continue\n",
    "        s[i - shift_left] = s[i]\n",
    "        length += 1\n",
    "    for i in range(length, len(s)):\n",
    "        s[i] = 0\n",
    "    #now loop thorugh backwards\n",
    "    back = length-1\n",
    "    curr_ix = len(s) -1\n",
    "    while back >= 0:\n",
    "        char = s[back]\n",
    "        if char == 'a':\n",
    "            s[curr_ix] = 'd'\n",
    "            curr_ix -= 1\n",
    "            s[curr_ix] = 'd'\n",
    "            curr_ix -= 1\n",
    "        else:\n",
    "            s[curr_ix] = char\n",
    "            curr_ix -= 1\n",
    "        back -= 1\n",
    "    return s, length\n",
    "rep_and_rem(list(\"abcbxxx\"))"
   ]
  },
  {
   "cell_type": "markdown",
   "metadata": {},
   "source": [
    "### 7.5 - Test Palindromicity\n",
    ">*In this problem, a palindromic string is defined as a string which, when all it's nonalphanumeric characters are removed, reads the same from front to back. Implement a function that takes in a string $s$, and returns True if it is palindromic.*"
   ]
  },
  {
   "cell_type": "code",
   "execution_count": 8,
   "metadata": {
    "collapsed": true
   },
   "outputs": [],
   "source": [
    "def test_palindromicity_bf(s):\n",
    "    str_alnum = \"\"\n",
    "    for char in s:\n",
    "        if str.isalnum(char):\n",
    "            str_alnum +=  char\n",
    "    return str_alnum == str_alnum[::-1]"
   ]
  },
  {
   "cell_type": "code",
   "execution_count": 10,
   "metadata": {
    "collapsed": false
   },
   "outputs": [
    {
     "data": {
      "text/plain": [
       "True"
      ]
     },
     "execution_count": 10,
     "metadata": {},
     "output_type": "execute_result"
    }
   ],
   "source": [
    "test_palindromicity_bf(\"racecar\")"
   ]
  },
  {
   "cell_type": "code",
   "execution_count": 18,
   "metadata": {
    "collapsed": false
   },
   "outputs": [
    {
     "data": {
      "text/plain": [
       "True"
      ]
     },
     "execution_count": 18,
     "metadata": {},
     "output_type": "execute_result"
    }
   ],
   "source": [
    "def test_palindromicity(s):\n",
    "    front_ix = 0\n",
    "    back_ix = len(s) - 1\n",
    "    while front_ix <= back_ix:\n",
    "        if str.isalnum(s[front_ix]) and str.isalnum(s[back_ix]):\n",
    "            if str.lower(s[front_ix]) != str.lower(s[back_ix]):\n",
    "                return False\n",
    "            front_ix += 1\n",
    "            back_ix -= 1\n",
    "        if not str.isalnum(s[front_ix]):\n",
    "            front_ix += 1\n",
    "        if not str.isalnum(s[back_ix]):\n",
    "            back_ix -= 1\n",
    "    return True\n",
    "test_palindromicity(\"a....a\")"
   ]
  },
  {
   "cell_type": "markdown",
   "metadata": {},
   "source": [
    "#### Time Complexity: O(n)\n",
    "#### Space Complexity: O(1)"
   ]
  },
  {
   "cell_type": "markdown",
   "metadata": {},
   "source": [
    "### 7.6 - Reverse all the words in a sentence\n",
    ">*Given a string containning a set of words seperated by whitespace, we would like to transform it to a string in which the words appear in the reverse order. For example, \"Alice likes Bob\" transforms to \"Bob likes Alice\". We do not need to keep the original string*"
   ]
  },
  {
   "cell_type": "code",
   "execution_count": 35,
   "metadata": {
    "collapsed": false
   },
   "outputs": [
    {
     "data": {
      "text/plain": [
       "'Bob like Alice'"
      ]
     },
     "execution_count": 35,
     "metadata": {},
     "output_type": "execute_result"
    }
   ],
   "source": [
    "def reverse_words_bf(s):\n",
    "    word_char_count = 0\n",
    "    rev_str = \"\"\n",
    "    for i in xrange(len(s) - 1, -1, -1):\n",
    "        if str.isalpha(s[i]):\n",
    "            word_char_count += 1\n",
    "        if str.isspace(s[i]):\n",
    "            ix= i + 1\n",
    "            while word_char_count:\n",
    "                rev_str += s[ix]\n",
    "                ix += 1\n",
    "                word_char_count -= 1\n",
    "            rev_str += \" \"\n",
    "        elif i == 0:\n",
    "            while word_char_count:\n",
    "                rev_str += s[i]\n",
    "                i += 1\n",
    "                word_char_count -= 1\n",
    "    return rev_str\n",
    "reverse_words_bf(\"Alice like Bob\")"
   ]
  },
  {
   "cell_type": "markdown",
   "metadata": {},
   "source": [
    "### 7.7 - Compute All Memonics For a Phone Number\n",
    ">Write a program which takes as input a phone number, specified as a string, and returns all possible characters sequences that correspond to the phone number."
   ]
  },
  {
   "cell_type": "code",
   "execution_count": 33,
   "metadata": {
    "collapsed": false
   },
   "outputs": [
    {
     "data": {
      "text/plain": [
       "['1ADGAJAJ', '1ADGAJAK', '1ADGAJAL', '1ADGAJBJ', '1ADGAJBK']"
      ]
     },
     "execution_count": 33,
     "metadata": {},
     "output_type": "execute_result"
    }
   ],
   "source": [
    "digit_mapping = {\n",
    "    '0': ['0'],\n",
    "    '1': ['1'],\n",
    "    '2': ['A', 'B', 'C'],\n",
    "    '3': ['D', 'E', 'F'],\n",
    "    '4': ['G', 'H', 'I'],\n",
    "    '5': ['J', 'K', 'L'],\n",
    "    '6': ['M', 'N', 'O'],\n",
    "    '7': ['P', 'Q', 'R', 'S'],\n",
    "    '8': ['T', 'U', 'V'],\n",
    "    '9': ['W', 'X', 'Y', 'Z']\n",
    "}\n",
    "def get_all_memonics_iterative(phone_num):\n",
    "    memonics = ['']\n",
    "    for d in phone_num:\n",
    "        memonics = [partial + c for partial in memonics for c in digit_mapping[d]]\n",
    "    return memonics\n",
    "get_all_memonics_iterative('12342525')[:5]"
   ]
  },
  {
   "cell_type": "markdown",
   "metadata": {},
   "source": [
    "#### *Come back and do recursive solution* ####"
   ]
  },
  {
   "cell_type": "code",
   "execution_count": 7,
   "metadata": {
    "collapsed": true
   },
   "outputs": [],
   "source": [
    "def get_all_memonics_recursive(phone_num):\n",
    "    pass"
   ]
  },
  {
   "cell_type": "markdown",
   "metadata": {},
   "source": [
    "### 7.8 - The Look-And-Say Problem\n",
    ">The Look-and-Say problem starts with 1. Subsequent numbers are derived by describing the previous number in terms of consecutive digits. E.g.\n",
    ">>$${1, 11, 21, 1211, 111221, 312211}$$\n",
    "\n",
    "\n",
    ">*Write a program that takes as input an integer $n$ and returns the $nth$ integer in the look-and-say sequence. Return the results as a string.*"
   ]
  },
  {
   "cell_type": "code",
   "execution_count": 25,
   "metadata": {
    "collapsed": false
   },
   "outputs": [
    {
     "data": {
      "text/plain": [
       "['1',\n",
       " '11',\n",
       " '21',\n",
       " '1211',\n",
       " '111221',\n",
       " '312211',\n",
       " '13112221',\n",
       " '1113213211',\n",
       " '31131211131221',\n",
       " '13211311123113112211']"
      ]
     },
     "execution_count": 25,
     "metadata": {},
     "output_type": "execute_result"
    }
   ],
   "source": [
    "def look_and_say_bf(n):\n",
    "    sequence = ['1']\n",
    "    if n > 1:\n",
    "        for nth in range(1, n):\n",
    "            sequence.append('')\n",
    "            curr_num = sequence[nth-1][0]\n",
    "            count = 0\n",
    "            #look\n",
    "            for num in sequence[nth - 1]:\n",
    "                if num == curr_num:\n",
    "                    count += 1\n",
    "                else:\n",
    "                    #say\n",
    "                    sequence[nth] += str(count)\n",
    "                    sequence[nth] += str(curr_num)\n",
    "                    curr_num = num\n",
    "                    count = 1\n",
    "            sequence[nth] += str(count)\n",
    "            sequence[nth] += str(curr_num)\n",
    "                    \n",
    "    return sequence\n",
    "look_and_say_bf(10)"
   ]
  },
  {
   "cell_type": "code",
   "execution_count": 33,
   "metadata": {
    "collapsed": false
   },
   "outputs": [
    {
     "data": {
      "text/plain": [
       "'312211'"
      ]
     },
     "execution_count": 33,
     "metadata": {},
     "output_type": "execute_result"
    }
   ],
   "source": [
    "def next_number(s):\n",
    "    ret = ''\n",
    "    freq = 0\n",
    "    curr = s[0]\n",
    "    for digit in s:\n",
    "        if digit == curr:\n",
    "            freq += 1\n",
    "        else:\n",
    "            ret += str(freq)\n",
    "            ret += curr\n",
    "            curr = digit\n",
    "            freq = 1\n",
    "    return ret + str(freq) + curr\n",
    "\n",
    "\n",
    "def look_and_say(n):\n",
    "    curr_num = \"1\"\n",
    "    for i in range(1,n):\n",
    "        curr_num = next_number(curr_num)\n",
    "    return curr_num\n",
    "\n",
    "look_and_say(6)"
   ]
  },
  {
   "cell_type": "markdown",
   "metadata": {},
   "source": [
    "### 7.9 - Convert From Roman to Decimal\n",
    ">I = 1, V = 5, X = 10, L = 50, C = 100, D = 500, M = 1000\n",
    "\n",
    ">The rules for representing a roman number:\n",
    "* Symbols appear in non-increasing order, with the following exceptions\n",
    "    * I can immediately precede V and X\n",
    "    * X can immediately precede L and C\n",
    "    * C can immediately precede D and M\n",
    "* Back-to-Back exceptions are not allowed. E.g. IXC"
   ]
  },
  {
   "cell_type": "code",
   "execution_count": 1,
   "metadata": {
    "collapsed": false
   },
   "outputs": [],
   "source": [
    "roman_mapping = {\n",
    "    '0': 0,\n",
    "    'I': 1,\n",
    "    'V': 5,\n",
    "    'X': 10,\n",
    "    'L': 50,\n",
    "    'C': 100,\n",
    "    'D': 500,\n",
    "    'M': 1000\n",
    "}\n",
    "def roman_to_decimal(s):\n",
    "    ret = 0\n",
    "    back_to_back_exceptions = False\n",
    "    for i, sym in enumerate(s.upper()):\n",
    "        next_sym = s[i + 1] if i < (len(s) - 1) else '0'\n",
    "        if roman_mapping[sym] < roman_mapping[next_sym]:\n",
    "            if back_to_back_exceptions:\n",
    "                raise ValueError('Back-to-Back Exceptions are not allowed')\n",
    "            elif sym == 'I' and next_sym not in 'VX':\n",
    "                raise ValueError('I must immediately precede V or X')\n",
    "            elif sym == 'X' and next_sym not in 'LC':\n",
    "                raise ValueError('X must immediately precede L or C')\n",
    "            elif sym == 'C' and next_sym not in 'DM':\n",
    "                raise ValueError('C must immediately precede D or M')\n",
    "            ret -= roman_mapping[sym]\n",
    "            back_to_back = True\n",
    "        else:\n",
    "            back_to_back = False\n",
    "            ret += roman_mapping[sym]\n",
    "    return ret"
   ]
  },
  {
   "cell_type": "code",
   "execution_count": 2,
   "metadata": {
    "collapsed": false
   },
   "outputs": [
    {
     "data": {
      "text/plain": [
       "59"
      ]
     },
     "execution_count": 2,
     "metadata": {},
     "output_type": "execute_result"
    }
   ],
   "source": [
    "roman_to_decimal('LVIIII')"
   ]
  },
  {
   "cell_type": "markdown",
   "metadata": {},
   "source": [
    "### 7.13 - Implement a Unix Tail Command\n",
    ">The unix tail command displays the last part of a file. For this problem, assume that tail takes two arguments--a filename, and the number of lines, starting from te last line that are to be printed. "
   ]
  },
  {
   "cell_type": "code",
   "execution_count": 31,
   "metadata": {
    "collapsed": true
   },
   "outputs": [],
   "source": [
    "def tail(file_name, n):\n",
    "    with open(file_name, 'r') as f:\n",
    "        lines = f.readlines()\n",
    "    return \"\".join(lines[-10:])"
   ]
  },
  {
   "cell_type": "code",
   "execution_count": 32,
   "metadata": {
    "collapsed": false
   },
   "outputs": [
    {
     "data": {
      "text/plain": [
       "'\\r\\nVIRTUAL MEMORY MANAGERS\\r\\n\\r\\n        Virtual Memory Managers are another software-only approach to\\r\\nEMS.  These function almost identically to the EMS emulators\\r\\ndiscussed above, except that they use the system disk rather than\\r\\nextended memory as the storage medium for blocks of memory copied\\r\\nout of your program.  As you can imagine, this is excruciatingly \\r\\ns-l-o-w.  Use this approach only as a last resort.\\r\\n\\r\\n'"
      ]
     },
     "execution_count": 32,
     "metadata": {},
     "output_type": "execute_result"
    }
   ],
   "source": [
    "import os\n",
    "os.chdir('/home/william/Documents')\n",
    "tail('aboutems.txt', 5)"
   ]
  },
  {
   "cell_type": "code",
   "execution_count": 67,
   "metadata": {
    "collapsed": false
   },
   "outputs": [
    {
     "data": {
      "text/plain": [
       "[10, 9, 8, 7]"
      ]
     },
     "execution_count": 67,
     "metadata": {},
     "output_type": "execute_result"
    }
   ],
   "source": [
    "arr = range(1,11)\n",
    "arr[:5:-1]"
   ]
  },
  {
   "cell_type": "markdown",
   "metadata": {},
   "source": [
    "### 7.14 - Find the First Occurence of A Substring\n",
    ">Given two strings $s$(the 'search string') and $t$(the 'text'), find the first occurrence of s in t"
   ]
  },
  {
   "cell_type": "code",
   "execution_count": 3,
   "metadata": {
    "collapsed": false
   },
   "outputs": [
    {
     "data": {
      "text/plain": [
       "22"
      ]
     },
     "execution_count": 3,
     "metadata": {},
     "output_type": "execute_result"
    }
   ],
   "source": [
    "def find_substring(s, t):\n",
    "    match_ix = 0\n",
    "    for i, char in enumerate(t):\n",
    "        while s[match_ix] == t[i + match_ix]:\n",
    "            if match_ix == len(s) - 1:\n",
    "                return i\n",
    "            match_ix += 1\n",
    "        match_ix = 0\n",
    "    return 0\n",
    "\n",
    "find_substring('the', 'this is thoughtful of the end')"
   ]
  },
  {
   "cell_type": "code",
   "execution_count": 18,
   "metadata": {
    "collapsed": false
   },
   "outputs": [],
   "source": [
    "def hash_value(s, base):\n",
    "    \"\"\"\n",
    "    Calculates the hash value of a string using a base number\n",
    "    E.g. hash_value('abc', 26) --> 97*26^2 + 98*26^1 + 99*26^0\n",
    "    \"\"\"\n",
    "    k_mod = 997\n",
    "    hash_val = 0\n",
    "    power = len(s) - 1\n",
    "    #treating the string as a number with base x\n",
    "    for i in range(len(s)):\n",
    "        hash_val += ord(s[i]) * (base ** power)\n",
    "        power -= 1\n",
    "    return hash_val\n",
    "def rabin_karp(substr, text):\n",
    "    k_base = 26\n",
    "    n, m = len(text), len(substr)\n",
    "    if len(text) < len(substr):\n",
    "        return -1\n",
    "    hash_s = hash_value(substr, k_base)\n",
    "    hash_t = hash_value(text[:m], k_base)\n",
    "    for i in range(n-m+1):\n",
    "        print hash_s, hash_t, text[i: i+m]\n",
    "        if hash_s == hash_t and text[i: i+m] == substr:\n",
    "            return i\n",
    "        hash_t = (hash_t - (ord(text[i]) * k_base ** (m - 1))) * k_base + ord(text[i+m])\n",
    "        "
   ]
  },
  {
   "cell_type": "code",
   "execution_count": 19,
   "metadata": {
    "collapsed": false
   },
   "outputs": [
    {
     "name": "stdout",
     "output_type": "stream",
     "text": [
      "81221 68647 aro\n",
      "81221 80067 rou\n",
      "81221 78188 oun\n",
      "81221 82052 und\n",
      "81221 76992 nd \n",
      "81221 68548 d t\n",
      "81221 24752  th\n",
      "81221 81221 the\n"
     ]
    },
    {
     "data": {
      "text/plain": [
       "7"
      ]
     },
     "execution_count": 19,
     "metadata": {},
     "output_type": "execute_result"
    }
   ],
   "source": [
    "rabin_karp('the', 'around the lake')"
   ]
  }
 ],
 "metadata": {
  "kernelspec": {
   "display_name": "Python 2",
   "language": "python",
   "name": "python2"
  },
  "language_info": {
   "codemirror_mode": {
    "name": "ipython",
    "version": 2
   },
   "file_extension": ".py",
   "mimetype": "text/x-python",
   "name": "python",
   "nbconvert_exporter": "python",
   "pygments_lexer": "ipython2",
   "version": "2.7.12"
  }
 },
 "nbformat": 4,
 "nbformat_minor": 0
}

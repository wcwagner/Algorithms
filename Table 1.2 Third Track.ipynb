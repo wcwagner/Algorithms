{
 "cells": [
  {
   "cell_type": "markdown",
   "metadata": {},
   "source": [
    "# Elements of Programming Interviews\n",
    "\n",
    "### Track 3: 7.1, 7.4, 7.5, 7.6, 7.7, 7.8, 7.13, 7.14 "
   ]
  },
  {
   "cell_type": "markdown",
   "metadata": {},
   "source": [
    "### 7.1 - Interconvert Strings and Integers\n",
    ">*A string is a sequence of characters. A string may encode an integer, e.g. \"123\" encodes 123. In this problem, you are to implement methods that take a string representing an integer and return the corresponding integer, and vice versa.The code should also handle negative integers.\n"
   ]
  },
  {
   "cell_type": "code",
   "execution_count": 18,
   "metadata": {
    "collapsed": false
   },
   "outputs": [],
   "source": [
    "def str_to_num(num_str):\n",
    "    num = 0\n",
    "    for i, digit in enumerate(reversed(num_str)):\n",
    "        if digit is not '-':\n",
    "            num += ((ord(digit) - 48) * 10**i)\n",
    "    if num_str[0] == '-':\n",
    "        num *= -1\n",
    "    return num\n",
    "def num_to_str(num):\n",
    "    num_str = \"\"\n",
    "    is_negative = False\n",
    "    if num < 0:\n",
    "        is_negative = True\n",
    "        num *= -1\n",
    "    \n",
    "    while num > 0:\n",
    "        digit = num % 10\n",
    "        num_str += chr(digit + 48)\n",
    "        num /= 10\n",
    "    if is_negative:\n",
    "        num_str += \"-\"\n",
    "    return num_str[::-1]"
   ]
  },
  {
   "cell_type": "code",
   "execution_count": 22,
   "metadata": {
    "collapsed": false
   },
   "outputs": [
    {
     "data": {
      "text/plain": [
       "'123'"
      ]
     },
     "execution_count": 22,
     "metadata": {},
     "output_type": "execute_result"
    }
   ],
   "source": [
    "num_to_str(123)"
   ]
  },
  {
   "cell_type": "markdown",
   "metadata": {},
   "source": [
    "### 7.4 - Replace and Remove\n",
    ">*Write a program that takes as input a string s, and removes each \"b\" and replaces each 'a' by 'dd'. Assume s is stored in an array that has enough space for the final result.*\n",
    ">>Note: It is straightforawrd to implement a solution using O(n) space complexity, so that will be avoided."
   ]
  },
  {
   "cell_type": "code",
   "execution_count": 1,
   "metadata": {
    "collapsed": false
   },
   "outputs": [
    {
     "data": {
      "text/plain": [
       "(['a', 'd', 'd', 'c', 'x', 'x', 'x'], 5)"
      ]
     },
     "execution_count": 1,
     "metadata": {},
     "output_type": "execute_result"
    }
   ],
   "source": [
    "def rep_and_rem(s):\n",
    "    #first get rid of the b's, shift everything left\n",
    "    shift_left = 0\n",
    "    length = 0\n",
    "    for i, char in enumerate(s):\n",
    "        if char == 'b':\n",
    "            shift_left += 1\n",
    "            continue\n",
    "        s[i - shift_left] = s[i]\n",
    "        length += 1\n",
    "    for i in range(length, len(s)):\n",
    "        s[i] = 0\n",
    "    #now loop thorugh backwards\n",
    "    back = length-1\n",
    "    curr_ix = len(s) -1\n",
    "    while back >= 0:\n",
    "        char = s[back]\n",
    "        if char == 'a':\n",
    "            s[curr_ix] = 'd'\n",
    "            curr_ix -= 1\n",
    "            s[curr_ix] = 'd'\n",
    "            curr_ix -= 1\n",
    "        else:\n",
    "            s[curr_ix] = char\n",
    "            curr_ix -= 1\n",
    "        back -= 1\n",
    "    return s, length\n",
    "rep_and_rem(list(\"abcbxxx\"))"
   ]
  },
  {
   "cell_type": "markdown",
   "metadata": {},
   "source": [
    "### 7.5 - Test Palindromicity\n",
    ">*In this problem, a palindromic string is defined as a string which, when all it's nonalphanumeric characters are removed, reads the same from front to back. Implement a function that takes in a string $s$, and returns True if it is palindromic.*"
   ]
  },
  {
   "cell_type": "code",
   "execution_count": 8,
   "metadata": {
    "collapsed": true
   },
   "outputs": [],
   "source": [
    "def test_palindromicity_bf(s):\n",
    "    str_alnum = \"\"\n",
    "    for char in s:\n",
    "        if str.isalnum(char):\n",
    "            str_alnum +=  char\n",
    "    return str_alnum == str_alnum[::-1]"
   ]
  },
  {
   "cell_type": "code",
   "execution_count": 10,
   "metadata": {
    "collapsed": false
   },
   "outputs": [
    {
     "data": {
      "text/plain": [
       "True"
      ]
     },
     "execution_count": 10,
     "metadata": {},
     "output_type": "execute_result"
    }
   ],
   "source": [
    "test_palindromicity_bf(\"racecar\")"
   ]
  },
  {
   "cell_type": "code",
   "execution_count": 18,
   "metadata": {
    "collapsed": false
   },
   "outputs": [
    {
     "data": {
      "text/plain": [
       "True"
      ]
     },
     "execution_count": 18,
     "metadata": {},
     "output_type": "execute_result"
    }
   ],
   "source": [
    "def test_palindromicity(s):\n",
    "    front_ix = 0\n",
    "    back_ix = len(s) - 1\n",
    "    while front_ix <= back_ix:\n",
    "        if str.isalnum(s[front_ix]) and str.isalnum(s[back_ix]):\n",
    "            if str.lower(s[front_ix]) != str.lower(s[back_ix]):\n",
    "                return False\n",
    "            front_ix += 1\n",
    "            back_ix -= 1\n",
    "        if not str.isalnum(s[front_ix]):\n",
    "            front_ix += 1\n",
    "        if not str.isalnum(s[back_ix]):\n",
    "            back_ix -= 1\n",
    "    return True\n",
    "test_palindromicity(\"a....a\")"
   ]
  },
  {
   "cell_type": "markdown",
   "metadata": {},
   "source": [
    "#### Time Complexity: O(n)\n",
    "#### Space Complexity: O(1)"
   ]
  },
  {
   "cell_type": "markdown",
   "metadata": {},
   "source": [
    "### 7.6 - Reverse all the words in a sentence\n",
    ">*Given a string containning a set of words seperated by whitespace, we would like to transform it to a string in which the words appear in the reverse order. For example, \"Alice likes Bob\" transforms to \"Bob likes Alice\". We do not need to keep the original string*"
   ]
  },
  {
   "cell_type": "code",
   "execution_count": 35,
   "metadata": {
    "collapsed": false
   },
   "outputs": [
    {
     "data": {
      "text/plain": [
       "'Bob like Alice'"
      ]
     },
     "execution_count": 35,
     "metadata": {},
     "output_type": "execute_result"
    }
   ],
   "source": [
    "def reverse_words_bf(s):\n",
    "    word_char_count = 0\n",
    "    rev_str = \"\"\n",
    "    for i in xrange(len(s) - 1, -1, -1):\n",
    "        if str.isalpha(s[i]):\n",
    "            word_char_count += 1\n",
    "        if str.isspace(s[i]):\n",
    "            ix= i + 1\n",
    "            while word_char_count:\n",
    "                rev_str += s[ix]\n",
    "                ix += 1\n",
    "                word_char_count -= 1\n",
    "            rev_str += \" \"\n",
    "        elif i == 0:\n",
    "            while word_char_count:\n",
    "                rev_str += s[i]\n",
    "                i += 1\n",
    "                word_char_count -= 1\n",
    "    return rev_str\n",
    "reverse_words_bf(\"Alice like Bob\")"
   ]
  },
  {
   "cell_type": "markdown",
   "metadata": {},
   "source": [
    "### 7.7 - Compute All Memonics For a Phone Number\n",
    ">Write a program which takes as input a phone number, specified as a string, and returns all possible characters sequences that correspond to the phone number."
   ]
  },
  {
   "cell_type": "code",
   "execution_count": 33,
   "metadata": {
    "collapsed": false
   },
   "outputs": [
    {
     "data": {
      "text/plain": [
       "['1ADGAJAJ', '1ADGAJAK', '1ADGAJAL', '1ADGAJBJ', '1ADGAJBK']"
      ]
     },
     "execution_count": 33,
     "metadata": {},
     "output_type": "execute_result"
    }
   ],
   "source": [
    "digit_mapping = {\n",
    "    '0': ['0'],\n",
    "    '1': ['1'],\n",
    "    '2': ['A', 'B', 'C'],\n",
    "    '3': ['D', 'E', 'F'],\n",
    "    '4': ['G', 'H', 'I'],\n",
    "    '5': ['J', 'K', 'L'],\n",
    "    '6': ['M', 'N', 'O'],\n",
    "    '7': ['P', 'Q', 'R', 'S'],\n",
    "    '8': ['T', 'U', 'V'],\n",
    "    '9': ['W', 'X', 'Y', 'Z']\n",
    "}\n",
    "def get_all_memonics_iterative(phone_num):\n",
    "    memonics = ['']\n",
    "    for d in phone_num:\n",
    "        memonics = [partial + c for partial in memonics for c in digit_mapping[d]]\n",
    "    return memonics\n",
    "get_all_memonics_iterative('12342525')[:5]"
   ]
  },
  {
   "cell_type": "markdown",
   "metadata": {},
   "source": [
    "#### *Come back and do recursive solution* ####"
   ]
  },
  {
   "cell_type": "code",
   "execution_count": 7,
   "metadata": {
    "collapsed": true
   },
   "outputs": [],
   "source": [
    "def get_all_memonics_recursive(phone_num):\n",
    "    pass"
   ]
  },
  {
   "cell_type": "markdown",
   "metadata": {},
   "source": [
    "### 7.8 - The Look-And-Say Problem\n",
    ">The Look-and-Say problem starts with 1. Subsequent numbers are derived by describing the previous number in terms of consecutive digits. E.g.\n",
    ">>$${1, 11, 21, 1211, 111221, 312211}$$\n",
    "\n",
    "\n",
    ">*Write a program that takes as input an integer $n$ and returns the $nth$ integer in the look-and-say sequence. Return the results as a string.*"
   ]
  },
  {
   "cell_type": "code",
   "execution_count": 25,
   "metadata": {
    "collapsed": false
   },
   "outputs": [
    {
     "data": {
      "text/plain": [
       "['1',\n",
       " '11',\n",
       " '21',\n",
       " '1211',\n",
       " '111221',\n",
       " '312211',\n",
       " '13112221',\n",
       " '1113213211',\n",
       " '31131211131221',\n",
       " '13211311123113112211']"
      ]
     },
     "execution_count": 25,
     "metadata": {},
     "output_type": "execute_result"
    }
   ],
   "source": [
    "def look_and_say_bf(n):\n",
    "    sequence = ['1']\n",
    "    if n > 1:\n",
    "        for nth in range(1, n):\n",
    "            sequence.append('')\n",
    "            curr_num = sequence[nth-1][0]\n",
    "            count = 0\n",
    "            #look\n",
    "            for num in sequence[nth - 1]:\n",
    "                if num == curr_num:\n",
    "                    count += 1\n",
    "                else:\n",
    "                    #say\n",
    "                    sequence[nth] += str(count)\n",
    "                    sequence[nth] += str(curr_num)\n",
    "                    curr_num = num\n",
    "                    count = 1\n",
    "            sequence[nth] += str(count)\n",
    "            sequence[nth] += str(curr_num)\n",
    "                    \n",
    "    return sequence\n",
    "look_and_say_bf(10)"
   ]
  },
  {
   "cell_type": "code",
   "execution_count": 31,
   "metadata": {
    "collapsed": false
   },
   "outputs": [
    {
     "data": {
      "text/plain": [
       "'312211'"
      ]
     },
     "execution_count": 31,
     "metadata": {},
     "output_type": "execute_result"
    }
   ],
   "source": [
    "def next_number(s):\n",
    "    ret = ''\n",
    "    freq = 0\n",
    "    curr = s[0]\n",
    "    for digit in s:\n",
    "        if digit == curr:\n",
    "            freq += 1\n",
    "        else:\n",
    "            ret += str(freq)\n",
    "            ret += curr\n",
    "            curr = digit\n",
    "            freq = 1\n",
    "    return ret + str(freq) + curr\n",
    "\n",
    "\n",
    "def look_and_say(n):\n",
    "    curr_num = \"1\"\n",
    "    for i in range(1,n):\n",
    "        curr_num = next_number(curr_num)\n",
    "    return curr_num\n",
    "\n",
    "look_and_say(6)"
   ]
  }
 ],
 "metadata": {
  "kernelspec": {
   "display_name": "Python [Root]",
   "language": "python",
   "name": "Python [Root]"
  },
  "language_info": {
   "codemirror_mode": {
    "name": "ipython",
    "version": 2
   },
   "file_extension": ".py",
   "mimetype": "text/x-python",
   "name": "python",
   "nbconvert_exporter": "python",
   "pygments_lexer": "ipython2",
   "version": "2.7.12"
  }
 },
 "nbformat": 4,
 "nbformat_minor": 0
}
